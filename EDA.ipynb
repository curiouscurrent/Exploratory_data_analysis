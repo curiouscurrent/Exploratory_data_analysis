{
 "cells": [
  {
   "cell_type": "code",
   "execution_count": 15,
   "id": "53bd6b51",
   "metadata": {},
   "outputs": [],
   "source": [
    "#Doubts:\n",
    "#reshape(-1,1)"
   ]
  },
  {
   "cell_type": "code",
   "execution_count": 106,
   "id": "874cc543",
   "metadata": {},
   "outputs": [],
   "source": [
    "import pandas as pd"
   ]
  },
  {
   "cell_type": "code",
   "execution_count": 107,
   "id": "7f42dc37",
   "metadata": {},
   "outputs": [
    {
     "data": {
      "text/html": [
       "<div>\n",
       "<style scoped>\n",
       "    .dataframe tbody tr th:only-of-type {\n",
       "        vertical-align: middle;\n",
       "    }\n",
       "\n",
       "    .dataframe tbody tr th {\n",
       "        vertical-align: top;\n",
       "    }\n",
       "\n",
       "    .dataframe thead th {\n",
       "        text-align: right;\n",
       "    }\n",
       "</style>\n",
       "<table border=\"1\" class=\"dataframe\">\n",
       "  <thead>\n",
       "    <tr style=\"text-align: right;\">\n",
       "      <th></th>\n",
       "      <th>userID</th>\n",
       "      <th>placeID</th>\n",
       "      <th>food_rating</th>\n",
       "      <th>service_rating</th>\n",
       "    </tr>\n",
       "  </thead>\n",
       "  <tbody>\n",
       "    <tr>\n",
       "      <th>0</th>\n",
       "      <td>U1077</td>\n",
       "      <td>135085</td>\n",
       "      <td>2</td>\n",
       "      <td>2</td>\n",
       "    </tr>\n",
       "    <tr>\n",
       "      <th>1</th>\n",
       "      <td>U1077</td>\n",
       "      <td>135038</td>\n",
       "      <td>2</td>\n",
       "      <td>1</td>\n",
       "    </tr>\n",
       "    <tr>\n",
       "      <th>2</th>\n",
       "      <td>U1077</td>\n",
       "      <td>132825</td>\n",
       "      <td>2</td>\n",
       "      <td>2</td>\n",
       "    </tr>\n",
       "    <tr>\n",
       "      <th>3</th>\n",
       "      <td>U1077</td>\n",
       "      <td>135060</td>\n",
       "      <td>2</td>\n",
       "      <td>2</td>\n",
       "    </tr>\n",
       "    <tr>\n",
       "      <th>4</th>\n",
       "      <td>U1068</td>\n",
       "      <td>135104</td>\n",
       "      <td>1</td>\n",
       "      <td>2</td>\n",
       "    </tr>\n",
       "  </tbody>\n",
       "</table>\n",
       "</div>"
      ],
      "text/plain": [
       "  userID  placeID  food_rating  service_rating\n",
       "0  U1077   135085            2               2\n",
       "1  U1077   135038            2               1\n",
       "2  U1077   132825            2               2\n",
       "3  U1077   135060            2               2\n",
       "4  U1068   135104            1               2"
      ]
     },
     "execution_count": 107,
     "metadata": {},
     "output_type": "execute_result"
    }
   ],
   "source": [
    "#Importing Data from .CSV Files - user_rating\n",
    "user_rating = pd.read_csv(\"user_rating.csv\")\n",
    "user_rating.head()"
   ]
  },
  {
   "cell_type": "code",
   "execution_count": 108,
   "id": "29038e32",
   "metadata": {
    "scrolled": true
   },
   "outputs": [
    {
     "data": {
      "text/html": [
       "<div>\n",
       "<style scoped>\n",
       "    .dataframe tbody tr th:only-of-type {\n",
       "        vertical-align: middle;\n",
       "    }\n",
       "\n",
       "    .dataframe tbody tr th {\n",
       "        vertical-align: top;\n",
       "    }\n",
       "\n",
       "    .dataframe thead th {\n",
       "        text-align: right;\n",
       "    }\n",
       "</style>\n",
       "<table border=\"1\" class=\"dataframe\">\n",
       "  <thead>\n",
       "    <tr style=\"text-align: right;\">\n",
       "      <th></th>\n",
       "      <th>gender</th>\n",
       "      <th>smoker</th>\n",
       "      <th>drink_level</th>\n",
       "      <th>dress_preference</th>\n",
       "      <th>ambience</th>\n",
       "      <th>transport</th>\n",
       "      <th>marital_status</th>\n",
       "      <th>interest</th>\n",
       "      <th>personality</th>\n",
       "      <th>religion</th>\n",
       "      <th>activity</th>\n",
       "      <th>income</th>\n",
       "      <th>FRVPM</th>\n",
       "      <th>AERPM</th>\n",
       "    </tr>\n",
       "  </thead>\n",
       "  <tbody>\n",
       "    <tr>\n",
       "      <th>0</th>\n",
       "      <td>male</td>\n",
       "      <td>False</td>\n",
       "      <td>abstemious</td>\n",
       "      <td>informal</td>\n",
       "      <td>family</td>\n",
       "      <td>on foot</td>\n",
       "      <td>single</td>\n",
       "      <td>variety</td>\n",
       "      <td>thrifty-protector</td>\n",
       "      <td>none</td>\n",
       "      <td>student</td>\n",
       "      <td>medium</td>\n",
       "      <td>12</td>\n",
       "      <td>2976</td>\n",
       "    </tr>\n",
       "    <tr>\n",
       "      <th>1</th>\n",
       "      <td>female</td>\n",
       "      <td>False</td>\n",
       "      <td>abstemious</td>\n",
       "      <td>informal</td>\n",
       "      <td>family</td>\n",
       "      <td>public</td>\n",
       "      <td>single</td>\n",
       "      <td>technology</td>\n",
       "      <td>hunter-ostentatious</td>\n",
       "      <td>Catholic</td>\n",
       "      <td>student</td>\n",
       "      <td>low</td>\n",
       "      <td>12</td>\n",
       "      <td>3648</td>\n",
       "    </tr>\n",
       "    <tr>\n",
       "      <th>2</th>\n",
       "      <td>female</td>\n",
       "      <td>False</td>\n",
       "      <td>social drinker</td>\n",
       "      <td>formal</td>\n",
       "      <td>family</td>\n",
       "      <td>public</td>\n",
       "      <td>single</td>\n",
       "      <td>none</td>\n",
       "      <td>hard-worker</td>\n",
       "      <td>Catholic</td>\n",
       "      <td>student</td>\n",
       "      <td>low</td>\n",
       "      <td>3</td>\n",
       "      <td>1461</td>\n",
       "    </tr>\n",
       "    <tr>\n",
       "      <th>3</th>\n",
       "      <td>male</td>\n",
       "      <td>False</td>\n",
       "      <td>abstemious</td>\n",
       "      <td>informal</td>\n",
       "      <td>family</td>\n",
       "      <td>public</td>\n",
       "      <td>single</td>\n",
       "      <td>variety</td>\n",
       "      <td>hard-worker</td>\n",
       "      <td>none</td>\n",
       "      <td>professional</td>\n",
       "      <td>medium</td>\n",
       "      <td>18</td>\n",
       "      <td>4014</td>\n",
       "    </tr>\n",
       "    <tr>\n",
       "      <th>4</th>\n",
       "      <td>female</td>\n",
       "      <td>False</td>\n",
       "      <td>abstemious</td>\n",
       "      <td>no preference</td>\n",
       "      <td>family</td>\n",
       "      <td>public</td>\n",
       "      <td>single</td>\n",
       "      <td>none</td>\n",
       "      <td>thrifty-protector</td>\n",
       "      <td>Catholic</td>\n",
       "      <td>student</td>\n",
       "      <td>medium</td>\n",
       "      <td>15</td>\n",
       "      <td>3045</td>\n",
       "    </tr>\n",
       "  </tbody>\n",
       "</table>\n",
       "</div>"
      ],
      "text/plain": [
       "   gender smoker     drink_level dress_preference ambience transport  \\\n",
       "0    male  False      abstemious         informal   family   on foot   \n",
       "1  female  False      abstemious         informal   family    public   \n",
       "2  female  False  social drinker           formal   family    public   \n",
       "3    male  False      abstemious         informal   family    public   \n",
       "4  female  False      abstemious    no preference   family    public   \n",
       "\n",
       "  marital_status    interest          personality  religion      activity  \\\n",
       "0         single     variety    thrifty-protector      none       student   \n",
       "1         single  technology  hunter-ostentatious  Catholic       student   \n",
       "2         single        none          hard-worker  Catholic       student   \n",
       "3         single     variety          hard-worker      none  professional   \n",
       "4         single        none    thrifty-protector  Catholic       student   \n",
       "\n",
       "   income  FRVPM  AERPM  \n",
       "0  medium     12   2976  \n",
       "1     low     12   3648  \n",
       "2     low      3   1461  \n",
       "3  medium     18   4014  \n",
       "4  medium     15   3045  "
      ]
     },
     "execution_count": 108,
     "metadata": {},
     "output_type": "execute_result"
    }
   ],
   "source": [
    "import xlrd as x #xlrd is for reading excel files\n",
    "consumer_survey = pd.read_excel('consumer_survey1.xlsx')\n",
    "consumer_survey.head()"
   ]
  },
  {
   "cell_type": "code",
   "execution_count": 109,
   "id": "19ca3d34",
   "metadata": {},
   "outputs": [
    {
     "data": {
      "text/html": [
       "<div>\n",
       "<style scoped>\n",
       "    .dataframe tbody tr th:only-of-type {\n",
       "        vertical-align: middle;\n",
       "    }\n",
       "\n",
       "    .dataframe tbody tr th {\n",
       "        vertical-align: top;\n",
       "    }\n",
       "\n",
       "    .dataframe thead th {\n",
       "        text-align: right;\n",
       "    }\n",
       "</style>\n",
       "<table border=\"1\" class=\"dataframe\">\n",
       "  <thead>\n",
       "    <tr style=\"text-align: right;\">\n",
       "      <th></th>\n",
       "      <th>placeID</th>\n",
       "      <th>parking_lot</th>\n",
       "    </tr>\n",
       "  </thead>\n",
       "  <tbody>\n",
       "    <tr>\n",
       "      <th>0</th>\n",
       "      <td>135111</td>\n",
       "      <td>public</td>\n",
       "    </tr>\n",
       "    <tr>\n",
       "      <th>1</th>\n",
       "      <td>135110</td>\n",
       "      <td>none</td>\n",
       "    </tr>\n",
       "    <tr>\n",
       "      <th>2</th>\n",
       "      <td>135109</td>\n",
       "      <td>none</td>\n",
       "    </tr>\n",
       "    <tr>\n",
       "      <th>3</th>\n",
       "      <td>135108</td>\n",
       "      <td>none</td>\n",
       "    </tr>\n",
       "    <tr>\n",
       "      <th>4</th>\n",
       "      <td>135107</td>\n",
       "      <td>none</td>\n",
       "    </tr>\n",
       "  </tbody>\n",
       "</table>\n",
       "</div>"
      ],
      "text/plain": [
       "   placeID parking_lot\n",
       "0   135111      public\n",
       "1   135110        none\n",
       "2   135109        none\n",
       "3   135108        none\n",
       "4   135107        none"
      ]
     },
     "execution_count": 109,
     "metadata": {},
     "output_type": "execute_result"
    }
   ],
   "source": [
    "restaurant_parking = pd.read_excel(\"restaurant_parking.xlsx\")\n",
    "restaurant_parking.head()"
   ]
  },
  {
   "cell_type": "code",
   "execution_count": 110,
   "id": "0602b2d0",
   "metadata": {
    "scrolled": false
   },
   "outputs": [
    {
     "data": {
      "text/html": [
       "<div>\n",
       "<style scoped>\n",
       "    .dataframe tbody tr th:only-of-type {\n",
       "        vertical-align: middle;\n",
       "    }\n",
       "\n",
       "    .dataframe tbody tr th {\n",
       "        vertical-align: top;\n",
       "    }\n",
       "\n",
       "    .dataframe thead th {\n",
       "        text-align: right;\n",
       "    }\n",
       "</style>\n",
       "<table border=\"1\" class=\"dataframe\">\n",
       "  <thead>\n",
       "    <tr style=\"text-align: right;\">\n",
       "      <th></th>\n",
       "      <th>Year</th>\n",
       "      <th>Dine_In</th>\n",
       "      <th>Home_Delivery</th>\n",
       "    </tr>\n",
       "  </thead>\n",
       "  <tbody>\n",
       "    <tr>\n",
       "      <th>0</th>\n",
       "      <td>1990</td>\n",
       "      <td>5649</td>\n",
       "      <td>0</td>\n",
       "    </tr>\n",
       "    <tr>\n",
       "      <th>1</th>\n",
       "      <td>1991</td>\n",
       "      <td>5539</td>\n",
       "      <td>0</td>\n",
       "    </tr>\n",
       "    <tr>\n",
       "      <th>2</th>\n",
       "      <td>1992</td>\n",
       "      <td>5760</td>\n",
       "      <td>104</td>\n",
       "    </tr>\n",
       "    <tr>\n",
       "      <th>3</th>\n",
       "      <td>1993</td>\n",
       "      <td>6509</td>\n",
       "      <td>76</td>\n",
       "    </tr>\n",
       "    <tr>\n",
       "      <th>4</th>\n",
       "      <td>1994</td>\n",
       "      <td>6982</td>\n",
       "      <td>156</td>\n",
       "    </tr>\n",
       "  </tbody>\n",
       "</table>\n",
       "</div>"
      ],
      "text/plain": [
       "   Year  Dine_In  Home_Delivery\n",
       "0  1990     5649              0\n",
       "1  1991     5539              0\n",
       "2  1992     5760            104\n",
       "3  1993     6509             76\n",
       "4  1994     6982            156"
      ]
     },
     "execution_count": 110,
     "metadata": {},
     "output_type": "execute_result"
    }
   ],
   "source": [
    "#Importing Data from Spread Sheets - dining_preferences\n",
    "dining_preferences = pd.read_excel(\"dining_preferences.xlsx\")\n",
    "dining_preferences.head()"
   ]
  },
  {
   "cell_type": "code",
   "execution_count": 111,
   "id": "1bea2b40",
   "metadata": {},
   "outputs": [
    {
     "data": {
      "text/html": [
       "<div>\n",
       "<style scoped>\n",
       "    .dataframe tbody tr th:only-of-type {\n",
       "        vertical-align: middle;\n",
       "    }\n",
       "\n",
       "    .dataframe tbody tr th {\n",
       "        vertical-align: top;\n",
       "    }\n",
       "\n",
       "    .dataframe thead th {\n",
       "        text-align: right;\n",
       "    }\n",
       "</style>\n",
       "<table border=\"1\" class=\"dataframe\">\n",
       "  <thead>\n",
       "    <tr style=\"text-align: right;\">\n",
       "      <th></th>\n",
       "      <th>placeID</th>\n",
       "      <th>Rcuisine</th>\n",
       "    </tr>\n",
       "  </thead>\n",
       "  <tbody>\n",
       "    <tr>\n",
       "      <th>0</th>\n",
       "      <td>132001</td>\n",
       "      <td>Dutch-Belgian</td>\n",
       "    </tr>\n",
       "    <tr>\n",
       "      <th>1</th>\n",
       "      <td>132002</td>\n",
       "      <td>Seafood</td>\n",
       "    </tr>\n",
       "    <tr>\n",
       "      <th>2</th>\n",
       "      <td>132003</td>\n",
       "      <td>International</td>\n",
       "    </tr>\n",
       "    <tr>\n",
       "      <th>3</th>\n",
       "      <td>132004</td>\n",
       "      <td>Seafood</td>\n",
       "    </tr>\n",
       "    <tr>\n",
       "      <th>4</th>\n",
       "      <td>132005</td>\n",
       "      <td>French</td>\n",
       "    </tr>\n",
       "  </tbody>\n",
       "</table>\n",
       "</div>"
      ],
      "text/plain": [
       "   placeID       Rcuisine\n",
       "0   132001  Dutch-Belgian\n",
       "1   132002        Seafood\n",
       "2   132003  International\n",
       "3   132004        Seafood\n",
       "4   132005         French"
      ]
     },
     "execution_count": 111,
     "metadata": {},
     "output_type": "execute_result"
    }
   ],
   "source": [
    "#Importing Data from Spread Sheets - restaurant cuisine\n",
    "restaurant_cuisine = pd.read_excel(\"restaurant_cuisine.xlsx\")\n",
    "restaurant_cuisine.head()"
   ]
  },
  {
   "cell_type": "code",
   "execution_count": 113,
   "id": "1a3c5c5f",
   "metadata": {
    "scrolled": true
   },
   "outputs": [
    {
     "name": "stdout",
     "output_type": "stream",
     "text": [
      "(135110.0, 'Spanish')\n",
      "(135109.0, 'Italian')\n",
      "(135107.0, 'Latin_American')\n",
      "(135106.0, 'Mexican')\n",
      "(135105.0, 'Fast_Food')\n",
      "(135104.0, 'Mexican')\n",
      "(135103.0, 'Burgers')\n",
      "(135103.0, 'Dessert-Ice_Cream')\n",
      "(135103.0, 'Fast_Food')\n",
      "(135103.0, 'Hot_Dogs')\n",
      "(135102.0, 'Latin_American')\n",
      "(135102.0, 'Mexican')\n",
      "(135102.0, 'Steaks')\n",
      "(135101.0, 'Mexican')\n",
      "(135101.0, 'Steaks')\n",
      "(135100.0, 'Mexican')\n",
      "(135100.0, 'Steaks')\n",
      "(135099.0, 'Asian')\n",
      "(135099.0, 'Dessert-Ice_Cream')\n",
      "(135099.0, 'International')\n",
      "(135099.0, 'Mongolian')\n",
      "(135099.0, 'Steaks')\n",
      "(135099.0, 'Vegetarian')\n",
      "(135098.0, 'Brazilian')\n",
      "(135098.0, 'International')\n",
      "(135098.0, 'Latin_American')\n",
      "(135098.0, 'Steaks')\n",
      "(135097.0, 'Cafe-Coffee_Shop')\n",
      "(135097.0, 'Cafeteria')\n",
      "(135097.0, 'Contemporary')\n",
      "(135097.0, 'Deli-Sandwiches')\n",
      "(135097.0, 'Diner')\n",
      "(135097.0, 'Mexican')\n",
      "(135094.0, 'Mexican')\n",
      "(135093.0, 'Mexican')\n",
      "(135092.0, 'Cafeteria')\n",
      "(135092.0, 'Mexican')\n",
      "(135091.0, 'Japanese')\n",
      "(135091.0, 'Sushi')\n",
      "(135090.0, 'Mexican')\n",
      "(135089.0, 'Seafood')\n",
      "(135088.0, 'Cafeteria')\n",
      "(135086.0, 'Burgers')\n",
      "(135086.0, 'Fast_Food')\n",
      "(135085.0, 'Fast_Food')\n",
      "(135079.0, 'Chinese')\n",
      "(135075.0, 'Seafood')\n",
      "(135074.0, 'Contemporary')\n",
      "(135073.0, 'Bar')\n",
      "(135073.0, 'Bar_Pub_Brewery')\n",
      "(135072.0, 'Japanese')\n",
      "(135071.0, 'Bar')\n",
      "(135071.0, 'Bar_Pub_Brewery')\n",
      "(135069.0, 'Bar')\n",
      "(135061.0, 'Contemporary')\n",
      "(135060.0, 'Seafood')\n",
      "(135059.0, 'Bar')\n",
      "(135058.0, 'Pizzeria')\n",
      "(135057.0, 'Bar')\n",
      "(135056.0, 'Bar')\n",
      "(135055.0, 'Mexican')\n",
      "(135054.0, 'Seafood')\n",
      "(135053.0, 'Cafeteria')\n",
      "(135053.0, 'Fast_Food')\n",
      "(135053.0, 'Pizzeria')\n",
      "(135052.0, 'Bar')\n",
      "(135052.0, 'Bar_Pub_Brewery')\n",
      "(135049.0, 'Seafood')\n",
      "(135048.0, 'Bar')\n",
      "(135046.0, 'Fast_Food')\n",
      "(135044.0, 'Chinese')\n",
      "(135043.0, 'Fast_Food')\n",
      "(135043.0, 'Pizzeria')\n",
      "(135042.0, 'Chinese')\n",
      "(135041.0, 'Bar')\n",
      "(135041.0, 'Cafeteria')\n",
      "(135039.0, 'Seafood')\n",
      "(135037.0, 'Mexican')\n",
      "(135036.0, 'Bar')\n",
      "(135035.0, 'Italian')\n",
      "(135034.0, 'Japanese')\n",
      "(135032.0, 'Cafeteria')\n",
      "(135032.0, 'Contemporary')\n",
      "(135031.0, 'Seafood')\n",
      "(135030.0, 'Cafe-Coffee_Shop')\n",
      "(135030.0, 'Cafeteria')\n",
      "(135029.0, 'Bar')\n",
      "(135029.0, 'Bar_Pub_Brewery')\n",
      "(135028.0, 'Mexican')\n",
      "(135027.0, 'Mexican')\n",
      "(135026.0, 'Bar')\n",
      "(135026.0, 'Bar_Pub_Brewery')\n",
      "(135025.0, 'Mexican')\n",
      "(135022.0, 'Mexican')\n",
      "(135021.0, 'Fast_Food')\n",
      "(135020.0, 'Bar')\n",
      "(135020.0, 'Mexican')\n",
      "(135019.0, 'Bar')\n",
      "(135018.0, 'Mexican')\n",
      "(135008.0, 'Contemporary')\n",
      "(135007.0, 'Bar')\n",
      "(135007.0, 'Bar_Pub_Brewery')\n",
      "(135007.0, 'Mexican')\n",
      "(135005.0, 'Mexican')\n",
      "(135004.0, 'Bar')\n",
      "(135004.0, 'Bar_Pub_Brewery')\n",
      "(135003.0, 'Chinese')\n",
      "(135002.0, 'Mexican')\n",
      "(134999.0, 'Japanese')\n",
      "(134997.0, 'Bar')\n",
      "(134997.0, 'Cafe-Coffee_Shop')\n",
      "(134997.0, 'Cafeteria')\n",
      "(134990.0, 'Bar')\n",
      "(134990.0, 'Bar_Pub_Brewery')\n",
      "(134989.0, 'Mexican')\n",
      "(134988.0, 'Mediterranean')\n",
      "(134986.0, 'International')\n",
      "(134985.0, 'Mexican')\n",
      "(134984.0, 'Italian')\n",
      "(134983.0, 'Bar')\n",
      "(134983.0, 'Bar_Pub_Brewery')\n",
      "(134982.0, 'Bar')\n",
      "(134982.0, 'Bar_Pub_Brewery')\n",
      "(134981.0, 'Italian')\n",
      "(134980.0, 'Seafood')\n",
      "(134976.0, 'Mexican')\n",
      "(134976.0, 'Mediterranean')\n",
      "(134976.0, 'Burgers')\n",
      "(134973.0, 'Mexican')\n",
      "(134972.0, 'Cafe-Coffee_Shop')\n",
      "(134972.0, 'Cafeteria')\n",
      "(134971.0, 'Mexican')\n",
      "(133049.0, 'Latin_American')\n",
      "(133048.0, 'Mexican')\n",
      "(133047.0, 'American')\n",
      "(133043.0, 'International')\n",
      "(133039.0, 'Family')\n",
      "(133038.0, 'Cafeteria')\n",
      "(133037.0, 'Mexican')\n",
      "(133036.0, 'Family')\n",
      "(133035.0, 'Caribbean')\n",
      "(133034.0, 'Mexican')\n",
      "(133033.0, 'American')\n",
      "(133032.0, 'Mexican')\n",
      "(133031.0, 'Mexican')\n",
      "(133030.0, 'Family')\n",
      "(133029.0, 'Bar')\n",
      "(133028.0, 'Mexican')\n",
      "(133027.0, 'Cafeteria')\n",
      "(133026.0, 'Family')\n",
      "(133020.0, 'American')\n",
      "(133014.0, 'Contemporary')\n",
      "(133010.0, 'Italian')\n",
      "(133009.0, 'American')\n",
      "(133008.0, 'American')\n",
      "(133007.0, 'American')\n",
      "(133000.0, 'Family')\n",
      "(132996.0, 'Mexican')\n",
      "(132995.0, 'American')\n",
      "(132994.0, 'American')\n",
      "(132993.0, 'Mexican')\n",
      "(132992.0, 'American')\n",
      "(132986.0, 'Mexican')\n",
      "(132985.0, 'Mexican')\n",
      "(132980.0, 'Mexican')\n",
      "(132973.0, 'Mexican')\n",
      "(132972.0, 'Mexican')\n",
      "(132971.0, 'Mexican')\n",
      "(132970.0, 'American')\n",
      "(132969.0, 'Bar')\n",
      "(132968.0, 'Bar')\n",
      "(132967.0, 'Bar')\n",
      "(132966.0, 'Bar')\n",
      "(132965.0, 'Bar')\n",
      "(132964.0, 'Bar')\n",
      "(132963.0, 'Mexican')\n",
      "(132962.0, 'Burgers')\n",
      "(132962.0, 'Hot_Dogs')\n",
      "(132961.0, 'Mexican')\n",
      "(132960.0, 'Mexican')\n",
      "(132959.0, 'Mexican')\n",
      "(132958.0, 'American')\n",
      "(132957.0, 'American')\n",
      "(132956.0, 'African')\n",
      "(132955.0, 'Bar_Pub_Brewery')\n",
      "(132954.0, 'Breakfast-Brunch')\n",
      "(132953.0, 'Mexican')\n",
      "(132951.0, 'American')\n",
      "(132950.0, 'Mexican')\n",
      "(132948.0, 'Mexican')\n",
      "(132947.0, 'Mexican')\n",
      "(132946.0, 'Mexican')\n",
      "(132945.0, 'Mexican')\n",
      "(132943.0, 'Mexican')\n",
      "(132942.0, 'Mexican')\n",
      "(132941.0, 'Mexican')\n",
      "(132940.0, 'Burgers')\n",
      "(132939.0, 'Mexican')\n",
      "(132938.0, 'Mexican')\n",
      "(132937.0, 'Bar')\n",
      "(132936.0, 'Mexican')\n",
      "(132935.0, 'Mexican')\n",
      "(132934.0, 'Mexican')\n",
      "(132933.0, 'American')\n",
      "(132932.0, 'Mexican')\n",
      "(132930.0, 'Mexican')\n",
      "(132929.0, 'Mexican')\n",
      "(132928.0, 'Mexican')\n",
      "(132927.0, 'Mexican')\n",
      "(132926.0, 'Mexican')\n",
      "(132925.0, 'Mexican')\n",
      "(132924.0, 'Pizzeria')\n",
      "(132923.0, 'Family')\n",
      "(132922.0, 'Cafeteria')\n",
      "(132921.0, 'Bar')\n",
      "(132920.0, 'Mexican')\n",
      "(132919.0, 'Mexican')\n",
      "(132918.0, 'Mexican')\n",
      "(132917.0, 'American')\n",
      "(132917.0, 'Mexican')\n",
      "(132916.0, 'American')\n",
      "(132915.0, 'Mexican')\n",
      "(132914.0, 'Mexican')\n",
      "(132913.0, 'Mexican')\n",
      "(132912.0, 'Mexican')\n",
      "(132911.0, 'Mexican')\n",
      "(132910.0, 'Mexican')\n",
      "(132909.0, 'Mexican')\n",
      "(132908.0, 'Mexican')\n",
      "(132907.0, 'Mexican')\n",
      "(132906.0, 'Mexican')\n",
      "(132904.0, 'Mexican')\n",
      "(132903.0, 'Mexican')\n",
      "(132902.0, 'Mexican')\n",
      "(132901.0, 'Regional')\n",
      "(132900.0, 'Mexican')\n",
      "(132899.0, 'Mexican')\n",
      "(132897.0, 'Mexican')\n",
      "(132896.0, 'Mexican')\n",
      "(132895.0, 'Mexican')\n",
      "(132894.0, 'Mexican')\n",
      "(132893.0, 'Mexican')\n",
      "(132892.0, 'Chinese')\n",
      "(132891.0, 'Mexican')\n",
      "(132890.0, 'Mexican')\n",
      "(132889.0, 'Mexican')\n",
      "(132888.0, 'Afghan')\n",
      "(132887.0, 'Italian')\n",
      "(132886.0, 'American')\n",
      "(132885.0, 'Cafeteria')\n",
      "(132875.0, 'Japanese')\n",
      "(132873.0, 'American')\n",
      "(132872.0, 'American')\n",
      "(132871.0, 'Mexican')\n",
      "(132870.0, 'Burgers')\n",
      "(132869.0, 'Pizzeria')\n",
      "(132868.0, 'Mexican')\n",
      "(132867.0, 'Bar')\n",
      "(132867.0, 'Mexican')\n",
      "(132866.0, 'Bakery')\n",
      "(132866.0, 'Cafeteria')\n",
      "(132865.0, 'Mexican')\n",
      "(132864.0, 'Mexican')\n",
      "(132863.0, 'International')\n",
      "(132862.0, 'International')\n",
      "(132861.0, 'Burgers')\n",
      "(132860.0, 'International')\n",
      "(132859.0, 'International')\n",
      "(132858.0, 'Burgers')\n",
      "(132857.0, 'International')\n",
      "(132856.0, 'Italian')\n",
      "(132855.0, 'Mexican')\n",
      "(132854.0, 'International')\n",
      "(132853.0, 'Fast_Food')\n",
      "(132852.0, 'Latin_American')\n",
      "(132852.0, 'Mexican')\n",
      "(132851.0, 'American')\n",
      "(132851.0, 'Game')\n",
      "(132846.0, 'International')\n",
      "(132845.0, 'Mexican')\n",
      "(132843.0, 'Mexican')\n",
      "(132842.0, 'Mexican')\n",
      "(132841.0, 'Mexican')\n",
      "(132840.0, 'Mexican')\n",
      "(132839.0, 'Mexican')\n",
      "(132838.0, 'Mexican')\n",
      "(132837.0, 'Mexican')\n",
      "(132836.0, 'Mexican')\n",
      "(132835.0, 'Mexican')\n",
      "(132834.0, 'Mexican')\n",
      "(132833.0, 'Mexican')\n",
      "(132829.0, 'Mexican')\n",
      "(132828.0, 'Mexican')\n",
      "(132827.0, 'Mexican')\n",
      "(132825.0, 'Mexican')\n",
      "(132811.0, 'International')\n",
      "(132810.0, 'Vegetarian')\n",
      "(132807.0, 'Cafeteria')\n",
      "(132806.0, 'Mexican')\n",
      "(132805.0, 'Mexican')\n",
      "(132804.0, 'Bar')\n",
      "(132803.0, 'Chinese')\n",
      "(132802.0, 'Chinese')\n",
      "(132801.0, 'Mexican')\n",
      "(132799.0, 'Armenian')\n",
      "(132798.0, 'Mexican')\n",
      "(132797.0, 'Cafeteria')\n",
      "(132796.0, 'American')\n",
      "(132795.0, 'American')\n",
      "(132794.0, 'Vegetarian')\n",
      "(132793.0, 'Mexican')\n",
      "(132792.0, 'International')\n",
      "(132791.0, 'Mexican')\n",
      "(132790.0, 'International')\n",
      "(132789.0, 'Mexican')\n",
      "(132788.0, 'American')\n",
      "(132787.0, 'International')\n",
      "(132786.0, 'International')\n",
      "(132785.0, 'Mexican')\n",
      "(132784.0, 'Italian')\n",
      "(132783.0, 'International')\n",
      "(132782.0, 'Family')\n",
      "(132781.0, 'Mexican')\n",
      "(132779.0, 'Mexican')\n",
      "(132778.0, 'Mexican')\n",
      "(132777.0, 'Mexican')\n",
      "(132776.0, 'Mexican')\n",
      "(132775.0, 'Mexican')\n",
      "(132774.0, 'American')\n",
      "(132774.0, 'Bakery')\n",
      "(132774.0, 'Breakfast-Brunch')\n",
      "(132774.0, 'Burgers')\n",
      "(132774.0, 'Cafe-Coffee_Shop')\n",
      "(132774.0, 'Cafeteria')\n",
      "(132774.0, 'Diner')\n",
      "(132774.0, 'Family')\n",
      "(132774.0, 'Mexican')\n",
      "(132773.0, 'Family')\n",
      "(132773.0, 'Mexican')\n",
      "(132772.0, 'Mexican')\n",
      "(132771.0, 'Japanese')\n",
      "(132770.0, 'Spanish')\n",
      "(132769.0, 'Mexican')\n",
      "(132768.0, 'Family')\n",
      "(132767.0, 'Vietnamese')\n",
      "(132766.0, 'Japanese')\n",
      "(132765.0, 'Mexican')\n",
      "(132764.0, 'Mexican')\n",
      "(132763.0, 'Mexican')\n",
      "(132761.0, 'Mexican')\n",
      "(132760.0, 'Mexican')\n",
      "(132758.0, 'Mexican')\n",
      "(132757.0, 'Mexican')\n",
      "(132756.0, 'Italian')\n",
      "(132755.0, 'Mexican')\n",
      "(132754.0, 'Mexican')\n",
      "(132753.0, 'Mexican')\n",
      "(132752.0, 'Cafeteria')\n",
      "(132751.0, 'Burgers')\n",
      "(132750.0, 'Burgers')\n",
      "(132749.0, 'Mexican')\n",
      "(132748.0, 'Mexican')\n",
      "(132747.0, 'Chinese')\n",
      "(132746.0, 'Mexican')\n",
      "(132745.0, 'American')\n",
      "(132744.0, 'Mexican')\n",
      "(132743.0, 'Mexican')\n",
      "(132742.0, 'Mexican')\n",
      "(132741.0, 'Mexican')\n",
      "(132740.0, 'Mexican')\n",
      "(132739.0, 'Mexican')\n",
      "(132738.0, 'Hot_Dogs')\n",
      "(132737.0, 'Mexican')\n",
      "(132736.0, 'Korean')\n",
      "(132735.0, 'Mexican')\n",
      "(132734.0, 'Pizzeria')\n",
      "(132733.0, 'Pizzeria')\n",
      "(132732.0, 'Mexican')\n",
      "(132725.0, 'Fast_Food')\n",
      "(132724.0, 'American')\n",
      "(132723.0, 'Mexican')\n",
      "(132719.0, 'Hot_Dogs')\n",
      "(132718.0, 'Hot_Dogs')\n",
      "(132717.0, 'Fast_Food')\n",
      "(132715.0, 'Mexican')\n",
      "(132714.0, 'Mexican')\n",
      "(132713.0, 'American')\n",
      "(132712.0, 'Mexican')\n",
      "(132711.0, 'Mexican')\n",
      "(132710.0, 'Mexican')\n",
      "(132709.0, 'Mexican')\n",
      "(132708.0, 'Mexican')\n",
      "(132707.0, 'Mexican')\n",
      "(132706.0, 'Mexican')\n",
      "(132705.0, 'Mexican')\n",
      "(132704.0, 'Mexican')\n",
      "(132703.0, 'Mexican')\n",
      "(132702.0, 'Mexican')\n",
      "(132701.0, 'Mexican')\n",
      "(132700.0, 'Mexican')\n",
      "(132699.0, 'Mexican')\n",
      "(132698.0, 'Mexican')\n",
      "(132697.0, 'Mexican')\n",
      "(132696.0, 'Mexican')\n",
      "(132695.0, 'Mexican')\n",
      "(132694.0, 'Mexican')\n",
      "(132693.0, 'Bar')\n",
      "(132692.0, 'Mexican')\n",
      "(132691.0, 'Mexican')\n",
      "(132690.0, 'Mexican')\n",
      "(132689.0, 'American')\n",
      "(132688.0, 'Mexican')\n",
      "(132687.0, 'Japanese')\n",
      "(132686.0, 'Thai')\n",
      "(132685.0, 'Barbecue')\n",
      "(132684.0, 'American')\n",
      "(132683.0, 'American')\n",
      "(132682.0, 'American')\n",
      "(132681.0, 'Mexican')\n",
      "(132680.0, 'Mexican')\n",
      "(132679.0, 'American')\n",
      "(132678.0, 'Mexican')\n",
      "(132677.0, 'Mexican')\n",
      "(132676.0, 'Armenian')\n",
      "(132675.0, 'Mexican')\n",
      "(132674.0, 'American')\n",
      "(132673.0, 'Mexican')\n",
      "(132672.0, 'Mexican')\n",
      "(132671.0, 'Armenian')\n",
      "(132670.0, 'Mexican')\n",
      "(132669.0, 'Mexican')\n",
      "(132668.0, 'Mexican')\n",
      "(132667.0, 'Armenian')\n",
      "(132666.0, 'Mexican')\n",
      "(132665.0, 'Mexican')\n",
      "(132664.0, 'Mexican')\n",
      "(132663.0, 'Mexican')\n",
      "(132662.0, 'Mexican')\n",
      "(132658.0, 'American')\n",
      "(132657.0, 'Mexican')\n",
      "(132655.0, 'American')\n",
      "(132653.0, 'American')\n",
      "(132652.0, 'Mexican')\n",
      "(132650.0, 'American')\n",
      "(132649.0, 'Mexican')\n",
      "(132648.0, 'African')\n",
      "(132646.0, 'Mexican')\n",
      "(132645.0, 'American')\n",
      "(132643.0, 'Mexican')\n",
      "(132642.0, 'African')\n",
      "(132640.0, 'American')\n",
      "(132638.0, 'American')\n",
      "(132637.0, 'Mexican')\n",
      "(132636.0, 'American')\n",
      "(132635.0, 'American')\n",
      "(132634.0, 'Mexican')\n",
      "(132632.0, 'Mexican')\n",
      "(132631.0, 'Mexican')\n",
      "(132630.0, 'Mexican')\n",
      "(132629.0, 'Mexican')\n",
      "(132628.0, 'Italian')\n",
      "(132626.0, 'Italian')\n",
      "(132625.0, 'Mexican')\n",
      "(132624.0, 'Mexican')\n",
      "(132623.0, 'Mexican')\n",
      "(132622.0, 'Chinese')\n",
      "(132621.0, 'Mexican')\n",
      "(132620.0, 'Fast_Food')\n",
      "(132619.0, 'Mexican')\n",
      "(132618.0, 'Fast_Food')\n",
      "(132617.0, 'Mexican')\n",
      "(132615.0, 'Mexican')\n",
      "(132614.0, 'Mexican')\n",
      "(132613.0, 'Mexican')\n",
      "(132612.0, 'Pizzeria')\n",
      "(132611.0, 'Mexican')\n",
      "(132610.0, 'Mexican')\n",
      "(132609.0, 'Fast_Food')\n",
      "(132608.0, 'Mexican')\n",
      "(132607.0, 'Mexican')\n",
      "(132606.0, 'American')\n",
      "(132605.0, 'American')\n",
      "(132604.0, 'Cafeteria')\n",
      "(132603.0, 'Mexican')\n",
      "(132602.0, 'Mexican')\n",
      "(132601.0, 'Cafe-Coffee_Shop')\n",
      "(132600.0, 'American')\n",
      "(132599.0, 'Mexican')\n",
      "(132598.0, 'Mexican')\n",
      "(132596.0, 'Mexican')\n",
      "(132595.0, 'Mexican')\n",
      "(132594.0, 'Mexican')\n",
      "(132593.0, 'Mexican')\n",
      "(132592.0, 'Mexican')\n",
      "(132591.0, 'Mexican')\n",
      "(132590.0, 'Hot_Dogs')\n",
      "(132589.0, 'Cafeteria')\n",
      "(132588.0, 'Mexican')\n",
      "(132587.0, 'American')\n",
      "(132584.0, 'Mexican')\n",
      "(132583.0, 'American')\n",
      "(132582.0, 'Bakery')\n",
      "(132581.0, 'Dessert-Ice_Cream')\n",
      "(132580.0, 'Mexican')\n",
      "(132579.0, 'Fast_Food')\n",
      "(132578.0, 'Mexican')\n",
      "(132577.0, 'Fast_Food')\n",
      "(132576.0, 'Fast_Food')\n",
      "(132575.0, 'Diner')\n",
      "(132574.0, 'Pizzeria')\n",
      "(132573.0, 'Hot_Dogs')\n",
      "(132572.0, 'Cafeteria')\n",
      "(132560.0, 'Regional')\n",
      "(132557.0, 'Italian')\n",
      "(132555.0, 'International')\n",
      "(132555.0, 'Polish')\n",
      "(132555.0, 'Vegetarian')\n",
      "(132551.0, 'Dutch-Belgian')\n",
      "(132550.0, 'Italian')\n",
      "(132549.0, 'International')\n",
      "(132548.0, 'International')\n",
      "(132547.0, 'International')\n",
      "(132546.0, 'International')\n",
      "(132545.0, 'International')\n",
      "(132544.0, 'French')\n",
      "(132543.0, 'Dutch-Belgian')\n",
      "(132542.0, 'International')\n",
      "(132541.0, 'Steaks')\n",
      "(132540.0, 'Dutch-Belgian')\n",
      "(132539.0, 'Cafe-Coffee_Shop')\n",
      "(132538.0, 'International')\n",
      "(132537.0, 'Dutch-Belgian')\n",
      "(132536.0, 'Dutch-Belgian')\n",
      "(132535.0, 'International')\n",
      "(132533.0, 'French')\n",
      "(132532.0, 'Vegetarian')\n",
      "(132531.0, 'Barbecue')\n",
      "(132531.0, 'Dutch-Belgian')\n",
      "(132530.0, 'Cafe-Coffee_Shop')\n",
      "(132530.0, 'Dutch-Belgian')\n",
      "(132529.0, 'International')\n",
      "(132528.0, 'International')\n",
      "(132527.0, 'French')\n",
      "(132527.0, 'Dutch-Belgian')\n",
      "(132526.0, 'International')\n",
      "(132525.0, 'International')\n",
      "(132524.0, 'International')\n",
      "(132523.0, 'International')\n",
      "(132522.0, 'International')\n",
      "(132521.0, 'French')\n",
      "(132521.0, 'Dutch-Belgian')\n",
      "(132519.0, 'Japanese')\n",
      "(132518.0, 'Japanese')\n",
      "(132517.0, 'French')\n",
      "(132514.0, 'Dutch-Belgian')\n",
      "(132513.0, 'German')\n",
      "(132511.0, 'German')\n",
      "(132509.0, 'French')\n",
      "(132493.0, 'Seafood')\n",
      "(132493.0, 'Southwestern')\n",
      "(132493.0, 'Steaks')\n",
      "(132491.0, 'Bakery')\n",
      "(132491.0, 'Cafe-Coffee_Shop')\n",
      "(132488.0, 'Mexican')\n",
      "(132487.0, 'Southwestern')\n",
      "(132485.0, 'Cafe-Coffee_Shop')\n",
      "(132484.0, 'Italian')\n",
      "(132483.0, 'Armenian')\n",
      "(132483.0, 'German')\n",
      "(132483.0, 'Persian')\n",
      "(132482.0, 'German')\n",
      "(132481.0, 'German')\n",
      "(132479.0, 'German')\n",
      "(132478.0, 'German')\n",
      "(132477.0, 'Chinese')\n",
      "(132474.0, 'International')\n",
      "(132474.0, 'Regional')\n",
      "(132470.0, 'German')\n",
      "(132469.0, 'German')\n",
      "(132468.0, 'German')\n",
      "(132464.0, 'German')\n",
      "(132459.0, 'Dutch-Belgian')\n",
      "(132458.0, 'Ethiopian')\n",
      "(132457.0, 'Juice')\n",
      "(132456.0, 'Juice')\n",
      "(132455.0, 'Juice')\n",
      "(132454.0, 'Juice')\n",
      "(132453.0, 'Juice')\n",
      "(132452.0, 'Juice')\n",
      "(132451.0, 'Italian')\n",
      "(132450.0, 'Dutch-Belgian')\n",
      "(132449.0, 'Cafe-Coffee_Shop')\n",
      "(132449.0, 'Dutch-Belgian')\n",
      "(132448.0, 'Dutch-Belgian')\n",
      "(132447.0, 'International')\n",
      "(132446.0, 'French')\n",
      "(132445.0, 'Cafe-Coffee_Shop')\n",
      "(132444.0, 'Dutch-Belgian')\n",
      "(132443.0, 'French')\n",
      "(132443.0, 'International')\n",
      "(132442.0, 'French')\n",
      "(132442.0, 'International')\n",
      "(132441.0, 'Dutch-Belgian')\n",
      "(132440.0, 'Dutch-Belgian')\n",
      "(132439.0, 'French')\n",
      "(132439.0, 'Dutch-Belgian')\n",
      "(132438.0, 'Mediterranean')\n",
      "(132437.0, 'Mediterranean')\n",
      "(132436.0, 'International')\n",
      "(132435.0, 'Dutch-Belgian')\n",
      "(132434.0, 'Dutch-Belgian')\n",
      "(132433.0, 'Dutch-Belgian')\n",
      "(132432.0, 'Cafe-Coffee_Shop')\n",
      "(132430.0, 'Italian')\n",
      "(132429.0, 'Dutch-Belgian')\n",
      "(132425.0, 'Fast_Food')\n",
      "(132421.0, 'Italian')\n",
      "(132419.0, 'Italian')\n",
      "(132419.0, 'Mediterranean')\n",
      "(132417.0, 'Italian')\n",
      "(132417.0, 'Mediterranean')\n",
      "(132414.0, 'Asian')\n",
      "(132413.0, 'American')\n",
      "(132413.0, 'International')\n",
      "(132410.0, 'Bar_Pub_Brewery')\n",
      "(132409.0, 'Seafood')\n",
      "(132408.0, 'Dutch-Belgian')\n",
      "(132407.0, 'Mediterranean')\n",
      "(132406.0, 'Soup')\n",
      "(132402.0, 'French')\n",
      "(132399.0, 'Cafe-Coffee_Shop')\n",
      "(132398.0, 'Dutch-Belgian')\n",
      "(132396.0, 'International')\n",
      "(132393.0, 'Mexican')\n",
      "(132392.0, 'Contemporary')\n",
      "(132392.0, 'Continental-European')\n",
      "(132389.0, 'Greek')\n",
      "(132387.0, 'Greek')\n",
      "(132386.0, 'Greek')\n",
      "(132384.0, 'Greek')\n",
      "(132381.0, 'Pizzeria')\n",
      "(132380.0, 'Pizzeria')\n",
      "(132377.0, 'Greek')\n",
      "(132372.0, 'Greek')\n",
      "(132367.0, 'Greek')\n",
      "(132366.0, 'Greek')\n",
      "(132365.0, 'Greek')\n",
      "(132364.0, 'Greek')\n",
      "(132363.0, 'Greek')\n",
      "(132362.0, 'Greek')\n",
      "(132361.0, 'Greek')\n",
      "(132360.0, 'Greek')\n",
      "(132359.0, 'Greek')\n",
      "(132358.0, 'Greek')\n",
      "(132357.0, 'Greek')\n",
      "(132356.0, 'Greek')\n",
      "(132355.0, 'Greek')\n",
      "(132354.0, 'Greek')\n",
      "(132353.0, 'Greek')\n",
      "(132352.0, 'Greek')\n",
      "(132351.0, 'Greek')\n",
      "(132350.0, 'Greek')\n",
      "(132349.0, 'Greek')\n",
      "(132348.0, 'Greek')\n",
      "(132347.0, 'Greek')\n",
      "(132346.0, 'Greek')\n",
      "(132345.0, 'Greek')\n",
      "(132344.0, 'Greek')\n",
      "(132343.0, 'Greek')\n",
      "(132342.0, 'Italian')\n",
      "(132341.0, 'Japanese')\n",
      "(132341.0, 'Sushi')\n",
      "(132339.0, 'American')\n",
      "(132337.0, 'Cafe-Coffee_Shop')\n",
      "(132336.0, 'American')\n",
      "(132335.0, 'Bar_Pub_Brewery')\n",
      "(132333.0, 'Japanese')\n",
      "(132333.0, 'Sushi')\n",
      "(132332.0, 'International')\n",
      "(132331.0, 'International')\n",
      "(132330.0, 'International')\n",
      "(132329.0, 'Pizzeria')\n",
      "(132329.0, 'Deli-Sandwiches')\n",
      "(132328.0, 'Pizzeria')\n",
      "(132328.0, 'Deli-Sandwiches')\n",
      "(132326.0, 'Pizzeria')\n",
      "(132324.0, 'International')\n",
      "(132321.0, 'International')\n",
      "(132319.0, 'French')\n",
      "(132319.0, 'Dutch-Belgian')\n",
      "(132318.0, 'Mediterranean')\n",
      "(132318.0, 'Cafe-Coffee_Shop')\n",
      "(132317.0, 'French')\n",
      "(132317.0, 'Dutch-Belgian')\n",
      "(132316.0, 'Dutch-Belgian')\n",
      "(132315.0, 'Continental-European')\n",
      "(132312.0, 'Chinese')\n",
      "(132312.0, 'Vietnamese')\n",
      "(132310.0, 'Southwestern')\n",
      "(132306.0, 'Breakfast-Brunch')\n",
      "(132302.0, 'American')\n",
      "(132302.0, 'Polish')\n",
      "(132300.0, 'Pizzeria')\n",
      "(132299.0, 'Dutch-Belgian')\n",
      "(132298.0, 'International')\n",
      "(132297.0, 'French')\n",
      "(132296.0, 'Barbecue')\n",
      "(132296.0, 'French')\n",
      "(132296.0, 'Dutch-Belgian')\n",
      "(132295.0, 'Dutch-Belgian')\n",
      "(132294.0, 'Southern')\n",
      "(132292.0, 'Cafe-Coffee_Shop')\n",
      "(132289.0, 'Contemporary')\n",
      "(132289.0, 'French')\n",
      "(132284.0, 'Pizzeria')\n",
      "(132284.0, 'Italian')\n",
      "(132283.0, 'Cafe-Coffee_Shop')\n",
      "(132281.0, 'Bar_Pub_Brewery')\n",
      "(132280.0, 'American')\n",
      "(132275.0, 'Latin_American')\n",
      "(132274.0, 'Mexican')\n",
      "(132273.0, 'Spanish')\n",
      "(132273.0, 'Latin_American')\n",
      "(132272.0, 'Contemporary')\n",
      "(132271.0, 'Bar_Pub_Brewery')\n",
      "(132270.0, 'Bar_Pub_Brewery')\n",
      "(132269.0, 'Chinese')\n",
      "(132268.0, 'Chinese')\n",
      "(132266.0, 'Chinese')\n",
      "(132265.0, 'Asian')\n",
      "(132262.0, 'Chinese')\n",
      "(132258.0, 'Cafeteria')\n",
      "(132258.0, 'Polish')\n",
      "(132258.0, 'Seafood')\n",
      "(132257.0, 'Bar_Pub_Brewery')\n",
      "(132255.0, 'Game')\n",
      "(132255.0, 'Bar_Pub_Brewery')\n",
      "(132253.0, 'Cafeteria')\n",
      "(132253.0, 'Polish')\n",
      "(132253.0, 'Fast_Food')\n",
      "(132250.0, 'Eastern_European')\n",
      "(132249.0, 'International')\n",
      "(132247.0, 'Pizzeria')\n",
      "(132246.0, 'Italian')\n",
      "(132246.0, 'Mediterranean')\n",
      "(132245.0, 'German')\n",
      "(132244.0, 'French')\n",
      "(132244.0, 'German')\n",
      "(132244.0, 'Italian')\n",
      "(132243.0, 'French')\n",
      "(132243.0, 'Italian')\n",
      "(132242.0, 'Greek')\n",
      "(132240.0, 'American')\n",
      "(132240.0, 'Bar_Pub_Brewery')\n",
      "(132239.0, 'Burgers')\n",
      "(132238.0, 'Japanese')\n",
      "(132238.0, 'Sushi')\n",
      "(132237.0, 'Japanese')\n",
      "(132237.0, 'Seafood')\n",
      "(132237.0, 'Sushi')\n",
      "(132235.0, 'American')\n",
      "(132235.0, 'Burgers')\n",
      "(132234.0, 'Italian')\n",
      "(132233.0, 'Italian')\n",
      "(132232.0, 'Italian')\n",
      "(132231.0, 'Italian')\n",
      "(132230.0, 'Italian')\n",
      "(132229.0, 'Italian')\n",
      "(132228.0, 'California')\n",
      "(132228.0, 'Italian')\n",
      "(132226.0, 'American')\n",
      "(132226.0, 'Seafood')\n",
      "(132225.0, 'Chinese')\n",
      "(132223.0, 'Bakery')\n",
      "(132223.0, 'Cafe-Coffee_Shop')\n",
      "(132223.0, 'Deli-Sandwiches')\n",
      "(132221.0, 'American')\n",
      "(132220.0, 'French')\n",
      "(132218.0, 'Dutch-Belgian')\n",
      "(132217.0, 'Pizzeria')\n",
      "(132217.0, 'Italian')\n",
      "(132216.0, 'Pizzeria')\n",
      "(132216.0, 'Italian')\n",
      "(132215.0, 'Dutch-Belgian')\n",
      "(132214.0, 'American')\n",
      "(132214.0, 'Bar_Pub_Brewery')\n",
      "(132213.0, 'Cafe-Coffee_Shop')\n",
      "(132212.0, 'French')\n",
      "(132211.0, 'French')\n",
      "(132210.0, 'Chinese')\n",
      "(132209.0, 'Chinese')\n",
      "(132208.0, 'Dutch-Belgian')\n",
      "(132207.0, 'International')\n",
      "(132207.0, 'Italian')\n",
      "(132206.0, 'International')\n",
      "(132204.0, 'International')\n",
      "(132203.0, 'Dutch-Belgian')\n",
      "(132201.0, 'French')\n",
      "(132192.0, 'Dutch-Belgian')\n",
      "(132191.0, 'Polish')\n",
      "(132187.0, 'Cafe-Coffee_Shop')\n",
      "(132187.0, 'Bar_Pub_Brewery')\n",
      "(132186.0, 'Pizzeria')\n",
      "(132186.0, 'Italian')\n",
      "(132184.0, 'Italian')\n",
      "(132184.0, 'Mediterranean')\n",
      "(132182.0, 'Italian')\n",
      "(132182.0, 'Continental-European')\n",
      "(132180.0, 'Italian')\n",
      "(132177.0, 'Bagels')\n",
      "(132177.0, 'Cafe-Coffee_Shop')\n",
      "(132177.0, 'Deli-Sandwiches')\n",
      "(132175.0, 'Chinese')\n",
      "(132174.0, 'Chinese')\n",
      "(132171.0, 'Asian')\n",
      "(132171.0, 'Chinese')\n",
      "(132167.0, 'Bar_Pub_Brewery')\n",
      "(132166.0, 'French')\n",
      "(132166.0, 'International')\n",
      "(132166.0, 'Dutch-Belgian')\n",
      "(132165.0, 'International')\n",
      "(132164.0, 'International')\n",
      "(132163.0, 'Cafe-Coffee_Shop')\n",
      "(132162.0, 'International')\n",
      "(132161.0, 'French')\n",
      "(132161.0, 'International')\n",
      "(132160.0, 'Dutch-Belgian')\n",
      "(132159.0, 'French')\n",
      "(132157.0, 'Greek')\n",
      "(132156.0, 'Dutch-Belgian')\n",
      "(132155.0, 'French')\n",
      "(132155.0, 'Mediterranean')\n",
      "(132147.0, 'Pizzeria')\n",
      "(132147.0, 'Deli-Sandwiches')\n",
      "(132146.0, 'Deli-Sandwiches')\n",
      "(132145.0, 'Deli-Sandwiches')\n",
      "(132138.0, 'Bakery')\n",
      "(132137.0, 'Pizzeria')\n",
      "(132137.0, 'Deli-Sandwiches')\n",
      "(132136.0, 'Pizzeria')\n",
      "(132133.0, 'Japanese')\n",
      "(132132.0, 'Pizzeria')\n",
      "(132131.0, 'Italian')\n",
      "(132130.0, 'Turkish')\n",
      "(132128.0, 'Vegetarian')\n",
      "(132128.0, 'Fast_Food')\n",
      "(132127.0, 'Eastern_European')\n",
      "(132126.0, 'Family')\n",
      "(132126.0, 'Mexican')\n",
      "(132125.0, 'Family')\n",
      "(132125.0, 'Mexican')\n",
      "(132121.0, 'Italian')\n",
      "(132120.0, 'Asian')\n",
      "(132119.0, 'Vegetarian')\n",
      "(132118.0, 'Vegetarian')\n",
      "(132116.0, 'Asian')\n",
      "(132115.0, 'Asian')\n",
      "(132114.0, 'Cafe-Coffee_Shop')\n",
      "(132109.0, 'Vegetarian')\n",
      "(132109.0, 'Organic-Healthy')\n",
      "(132108.0, 'Japanese')\n",
      "(132108.0, 'Steaks')\n",
      "(132108.0, 'Sushi')\n",
      "(132107.0, 'Japanese')\n",
      "(132106.0, 'Vegetarian')\n",
      "(132105.0, 'French')\n",
      "(132103.0, 'Italian')\n",
      "(132102.0, 'Cafe-Coffee_Shop')\n",
      "(132101.0, 'American')\n",
      "(132101.0, 'Bar_Pub_Brewery')\n",
      "(132100.0, 'American')\n",
      "(132100.0, 'Bar_Pub_Brewery')\n",
      "(132098.0, 'Dutch-Belgian')\n",
      "(132097.0, 'Cafe-Coffee_Shop')\n",
      "(132096.0, 'Dutch-Belgian')\n",
      "(132094.0, 'Pizzeria')\n",
      "(132092.0, 'Family')\n",
      "(132087.0, 'Cafe-Coffee_Shop')\n",
      "(132083.0, 'International')\n",
      "(132031.0, 'Family')\n",
      "(132031.0, 'German')\n",
      "(132031.0, 'Fine_Dining')\n",
      "(132030.0, 'French')\n",
      "(132030.0, 'Dutch-Belgian')\n",
      "(132028.0, 'Italian')\n",
      "(132028.0, 'Seafood')\n",
      "(132026.0, 'Dutch-Belgian')\n",
      "(132025.0, 'Dutch-Belgian')\n",
      "(132024.0, 'Seafood')\n",
      "(132024.0, 'Continental-European')\n",
      "(132023.0, 'French')\n",
      "(132023.0, 'Dutch-Belgian')\n",
      "(132022.0, 'Dutch-Belgian')\n",
      "(132021.0, 'Dutch-Belgian')\n",
      "(132020.0, 'International')\n",
      "(132019.0, 'Dutch-Belgian')\n",
      "(132018.0, 'Dutch-Belgian')\n",
      "(132017.0, 'Dutch-Belgian')\n",
      "(132016.0, 'International')\n",
      "(132015.0, 'Dutch-Belgian')\n",
      "(132014.0, 'Dutch-Belgian')\n",
      "(132013.0, 'International')\n",
      "(132012.0, 'French')\n",
      "(132012.0, 'Dutch-Belgian')\n",
      "(132010.0, 'Mediterranean')\n",
      "(132010.0, 'Dutch-Belgian')\n",
      "(132009.0, 'International')\n",
      "(132008.0, 'International')\n",
      "(132007.0, 'Mediterranean')\n",
      "(132006.0, 'Dutch-Belgian')\n",
      "(132005.0, 'French')\n",
      "(132005.0, 'Seafood')\n",
      "(132004.0, 'Seafood')\n",
      "(132003.0, 'International')\n",
      "(132002.0, 'Seafood')\n",
      "(132001.0, 'Dutch-Belgian')\n"
     ]
    }
   ],
   "source": [
    "import pyodbc\n",
    "\n",
    "conn = pyodbc.connect(r'Driver={Microsoft Access Driver (*.mdb, *.accdb)};DBQ=C:\\Users\\Anusha\\Desktop\\Data\\restaurant_cuisine1.accdb;')\n",
    "cursor = conn.cursor()\n",
    "cursor.execute('select * from cuisine')\n",
    "   \n",
    "for row in cursor.fetchall():\n",
    "    print (row)"
   ]
  },
  {
   "cell_type": "code",
   "execution_count": 114,
   "id": "17421e80",
   "metadata": {},
   "outputs": [
    {
     "data": {
      "text/plain": [
       "<sqlite3.Cursor at 0x15f6936e540>"
      ]
     },
     "execution_count": 114,
     "metadata": {},
     "output_type": "execute_result"
    }
   ],
   "source": [
    "#Importing Data from SQL database - restaurant_details table\n",
    "import sqlite3\n",
    "conn = sqlite3.connect('r_details12.db')\n",
    "c = conn.cursor()\n",
    "\n",
    "# creating table\n",
    "c.execute('''create table restaurant_details\n",
    "(placeID number CONSTRAINT pk_p_p6 PRIMARY KEY, name varchar2(50),\n",
    "address varchar2(60), state varchar2(20),\n",
    "country varchar2(20), zip varchar2(20), alcohol varchar2(30),\n",
    "smoking_area varchar2(20), price varchar2(20),area varchar2(20),\n",
    "other_services varchar2(20), Region varchar2(10),\n",
    "Average_dine_in_per_month number);\n",
    "''') #primary key should be unique here its place_id"
   ]
  },
  {
   "cell_type": "code",
   "execution_count": 115,
   "id": "c64eaa37",
   "metadata": {},
   "outputs": [
    {
     "data": {
      "text/plain": [
       "<sqlite3.Cursor at 0x15f6936e540>"
      ]
     },
     "execution_count": 115,
     "metadata": {},
     "output_type": "execute_result"
    }
   ],
   "source": [
    "# populating values in the table\n",
    "c.executescript(\"\"\"\n",
    "    insert into restaurant_details values (134999,' Kiku Cuernavaca ',' Revolucion ',' Morelos ',' Mexico ','  ',' No_Alcohol_Served ',' none ',' medium ',' closed ',' none ',' West ',677);\n",
    "insert into restaurant_details values (132825,' puesto de tacos ',' esquina santos degollado y leon guzman ',' s.l.p. ',' mexico ',' 78280 ',' No_Alcohol_Served ',' none ',' low ',' open ',' none ',' West ',561);\n",
    "insert into restaurant_details values (135106,' El Rincon de San Francisco ',' Universidad 169 ',' San Luis Potosi ',' Mexico ',' 78000 ',' Wine-Beer ',' only at bar ',' medium ',' open ',' none ',' East ',743);\n",
    "insert into restaurant_details values (132667,' little pizza Emilio Portes Gil ',' calle emilio portes gil ',' tamaulipas ',' NA ','  ',' No_Alcohol_Served ',' none ',' low ',' closed ',' none ',' East ',546);\n",
    "insert into restaurant_details values (132613,' carnitas_mata ',' lic. Emilio portes gil ',' Tamaulipas ',' Mexico ','  ',' No_Alcohol_Served ',' permitted ',' medium ',' closed ',' none ',' East ',697);\n",
    "insert into restaurant_details values (135040,' Restaurant los Compadres ',' Camino a Simon Diaz 155 Centro ',' SLP ',' Mexico ',' 74000 ',' Wine-Beer ',' none ',' high ',' closed ',' none ',' West ',888);\n",
    "insert into restaurant_details values (132732,' Taqueria EL amigo  ',' Calle Mezquite Fracc Framboyanes ',' Tamaulipas ',' Mexico ',' 87018 ',' No_Alcohol_Served ',' none ',' low ',' open ',' none ',' West ',735);\n",
    "insert into restaurant_details values (132875,' shi ro ie ','  ','  ','  ','  ',' Wine-Beer ',' section ',' high ',' open ',' Internet ',' West ',980);\n",
    "insert into restaurant_details values (132609,' Pollo_Frito_Buenos_Aires ',' tampico ',' Tamaulipas ',' Mexico ','  ',' No_Alcohol_Served ',' not permitted ',' low ',' closed ',' none ',' East ',728);\n",
    "insert into restaurant_details values (135082,' la Estrella de Dimas ',' Villa de Pozos 192 Villa de Pozos ',' SLP ',' Mexico ',' 78421 ',' No_Alcohol_Served ',' none ',' medium ',' closed ',' none ',' East ',600);\n",
    "insert into restaurant_details values (135070,' Restaurante 75 ',' Villa de Pozos 4497 Villa de Pozos ',' SLP ',' Mexico ',' 78421 ',' No_Alcohol_Served ',' none ',' medium ',' closed ',' none ',' East ',415);\n",
    "insert into restaurant_details values (135069,' Abondance Restaurante Bar ',' Industrias 908 Valle Dorado ',' SLP ',' Mexico ',' 78399 ',' Wine-Beer ',' none ',' low ',' closed ',' none ',' East ',606);\n",
    "insert into restaurant_details values (135065,' El angel Restaurante ',' Venustiano Carranza 1625 Jardin ',' SLP ',' Mexico ',' 78250 ',' Wine-Beer ',' section ',' high ',' closed ',' none ',' East ',681);\n",
    "insert into restaurant_details values (135076,' Restaurante Pueblo Bonito ',' Mexico 2015 Providencia ',' SLP ',' Mexico ',' 78395 ',' Wine-Beer ',' none ',' high ',' closed ',' none ',' East ',993);\n",
    "insert into restaurant_details values (135086,' Mcdonalds Parque Tangamanga ',' Lateral Salvador Nava Martinez 3145 ',' SLP ',' Mexico ',' 78290 ',' No_Alcohol_Served ',' not permitted ',' medium ',' closed ',' none ',' East ',621);\n",
    "insert into restaurant_details values (132870,' Tortas y hamburguesas el gordo ',' Ricardo B. Anaya ',' San Luis Potosi ',' Mexico ','  ',' No_Alcohol_Served ',' not permitted ',' low ',' closed ',' none ',' East ',738);\n",
    "insert into restaurant_details values (132854,' Sirlone ',' carr. mexico ',' San Luis Potosi ',' Mexico ','  ',' Wine-Beer ',' none ',' medium ',' closed ',' none ',' East ',1048);\n",
    "insert into restaurant_details values (132937,' rockabilly  ',' agustin de iturbide ',' san luis potosi ',' mexico ','  ',' Full_Bar ',' section ',' low ',' closed ',' variety ',' West ',904);\n",
    "insert into restaurant_details values (132856,' Unicols Pizza ',' Plaza del Carmen ',' San Luis Potosi ',' Mexico ','  ',' Wine-Beer ',' none ',' low ',' closed ',' none ',' West ',1008);\n",
    "insert into restaurant_details values (132668,' TACOS EL GUERO ','  ',' tamaulipas ',' mexico ','  ',' No_Alcohol_Served ',' none ',' low ',' closed ',' none ',' East ',550);\n",
    "insert into restaurant_details values (135033,' Restaurant El Muladar de Calzada ',' De Guadalupe 460 San Miguelito ',' SLP ',' Mexico ',' 78399 ',' No_Alcohol_Served ',' section ',' medium ',' closed ',' none ',' East ',747);\n",
    "insert into restaurant_details values (132862,' La Posada del Virrey ',' Av. V. Carranza ',' San Luis Potosi ',' Mexico ','  ',' Wine-Beer ',' none ',' high ',' closed ',' none ',' East ',485);\n",
    "insert into restaurant_details values (134983,' Clothesline Carlos N Charlies ',' Domingo 10 711 El Empleado ',' Morelos ',' Mexico ',' 62250 ',' Full_Bar ',' section ',' high ',' closed ',' none ',' East ',652);\n",
    "insert into restaurant_details values (132851,' KFC ','  ',' San Luis Potosi ',' Mexico ','  ',' No_Alcohol_Served ',' not permitted ',' low ',' closed ',' none ',' East ',484);\n",
    "insert into restaurant_details values (135013,' Giovannis ',' 40 Norte Civac 1RA. Seccion ',' Morelos ',' Mexico ','  ',' No_Alcohol_Served ',' none ',' low ',' closed ',' none ',' East ',411);\n",
    "insert into restaurant_details values (135042,' Restaurant Oriental Express ',' Tangamanga 7 Tangamanga ',' SLP ',' Mexico ',' 78269 ',' No_Alcohol_Served ',' none ',' medium ',' closed ',' none ',' East ',347);\n",
    "insert into restaurant_details values (132768,' Mariscos Tia Licha ',' avenida salvador montiel  ',' morelos ',' mexico ',' 62320 ',' No_Alcohol_Served ',' not permitted ',' medium ',' closed ',' none ',' West ',917);\n",
    "insert into restaurant_details values (132561,' cafe ambar ','  ','  ','  ','  ',' No_Alcohol_Served ',' none ',' low ',' closed ',' none ',' East ',176);\n",
    "insert into restaurant_details values (135045,' Restaurante la Gran Via ',' Venustiano Carranza 560 Centro ',' SLP ',' Mexico ',' 78000 ',' Wine-Beer ',' none ',' high ',' closed ',' none ',' East ',443);\n",
    "insert into restaurant_details values (132847,' don burguers ',' r.b. anaya esq. florencia ',' slp ',' mexico ','  ',' No_Alcohol_Served ',' none ',' low ',' open ',' none ',' East ',362);\n",
    "insert into restaurant_details values (135054,' Restaurante y Pescaderia Tampico ',' Ricardo B. Anaya 2700 Estrella de Oriente ',' SLP ',' Mexico ',' 78000S ',' No_Alcohol_Served ',' none ',' high ',' closed ',' none ',' West ',355);\n",
    "insert into restaurant_details values (134975,' Rincon del Bife ','  ','  ','  ','  ',' Full_Bar ',' section ',' high ',' closed ',' variety ',' West ',777);\n",
    "insert into restaurant_details values (135053,' La Fontana Pizza Restaurante and Cafe ',' Satelite 606 Satelite ',' SLP ',' Mexico ',' 62460 ',' No_Alcohol_Served ',' section ',' high ',' closed ',' none ',' East ',565);\n",
    "insert into restaurant_details values (135050,' Restaurante la Estrella de Dima ',' Soledad Sn Arboledas de Soledad ',' SLP ',' Mexico ',' 78430 ',' Wine-Beer ',' none ',' high ',' closed ',' none ',' West ',773);\n",
    "insert into restaurant_details values (135025,' El Rincon de San Francisco ',' 1a. de Lozada 1 ',' SLP ',' Mexico ','  ',' No_Alcohol_Served ',' none ',' medium ',' closed ',' none ',' East ',344);\n",
    "insert into restaurant_details values (135030,' Preambulo Wifi Zone Cafe ',' Anahuac 805 ',' SLP ',' Mexico ','  ',' No_Alcohol_Served ',' none ',' medium ',' closed ',' Internet ',' West ',746);\n",
    "insert into restaurant_details values (135057,' El Herradero Restaurante and Bar ',' Costado Sur Central Camionera Km 2 ',' SLP ',' Mexico ',' 78390 ',' Wine-Beer ',' section ',' medium ',' closed ',' none ',' East ',674);\n",
    "insert into restaurant_details values (135079,' Koye Sushi ',' Nereo Rodriguez Barragan 450 E Centro ',' SLP ',' Mexico ',' 78000 ',' No_Alcohol_Served ',' none ',' high ',' closed ',' none ',' East ',748);\n",
    "insert into restaurant_details values (134992,' Restaurant Teely ',' La Pradera ',' Morelos ',' Mexico ','  ',' Wine-Beer ',' section ',' high ',' closed ',' none ',' East ',694);\n",
    "insert into restaurant_details values (132954,' la parroquia ',' venustiano carranza ',' san luis potosi ',' ? ','  ',' No_Alcohol_Served ',' not permitted ',' medium ',' closed ',' none ',' West ',897);\n",
    "insert into restaurant_details values (135041,' Luna Cafe ',' Francisco I. Madero 215 ',' SLP ',' Mexico ','  ',' Wine-Beer ',' none ',' medium ',' closed ',' none ',' West ',525);\n",
    "insert into restaurant_details values (132608,' Hamburguesas La perica ',' cd. mier ',' Tamaulipas ',' Mexico ','  ',' No_Alcohol_Served ',' permitted ',' low ',' open ',' none ',' West ',965);\n",
    "insert into restaurant_details values (135046,' Restaurante El Reyecito ',' Agricultura 595 del Valle ',' SLP ',' Mexico ',' 78200 ',' No_Alcohol_Served ',' none ',' medium ',' closed ',' none ',' East ',638);\n",
    "insert into restaurant_details values (132564,' churchs ','  ','  ','  ','  ',' No_Alcohol_Served ',' none ',' low ',' closed ',' none ',' West ',713);\n",
    "insert into restaurant_details values (132869,' Dominos Pizza ',' Ricardo B. Anaya ',' San Luis Potosi ',' Mexico ','  ',' No_Alcohol_Served ',' not permitted ',' medium ',' closed ',' none ',' West ',860);\n",
    "insert into restaurant_details values (132925,' el pueblito ','  ','  ','  ','  ',' Wine-Beer ',' not permitted ',' medium ',' closed ',' none ',' East ',348);\n",
    "insert into restaurant_details values (132955,' emilianos ',' venustiano carranza ',' mexico ','  ','  ',' Wine-Beer ',' none ',' low ',' closed ',' variety ',' East ',859);\n",
    "insert into restaurant_details values (135059,' Restaurant Bar Hacienda los Martinez ',' Santos Degollado 745 los Alamitos ',' SLP ',' Mexico ',' 78250 ',' Wine-Beer ',' section ',' medium ',' closed ',' none ',' East ',776);\n",
    "insert into restaurant_details values (135001,' Vips ',' Emiliano Zapata No. 825 Tlaltenongo ',' Morelos ',' Mexico ',' 62170 ',' Wine-Beer ',' none ',' medium ',' closed ',' none ',' West ',765);\n",
    "insert into restaurant_details values (135063,' Restaurante Alhondiga ',' Alhondiga 62 Centro ',' SLP ',' Mexico ',' 78000 ',' No_Alcohol_Served ',' none ',' medium ',' closed ',' none ',' West ',775);\n",
    "insert into restaurant_details values (135080,' los Toneles ',' Estatuto Juridico 1040 Burocratas ',' SLP ',' Mexico ',' 78270 ',' No_Alcohol_Served ',' section ',' high ',' closed ',' none ',' East ',466);\n",
    "insert into restaurant_details values (135000,' Restaurant los Pinos ',' Federal Mexico - Acapulco 10 3 de Mayo ',' Morelos ',' Mexico ',' 62790 ',' No_Alcohol_Served ',' none ',' medium ',' closed ',' none ',' West ',487);\n",
    "insert into restaurant_details values (135066,' Restaurante Guerra ',' 20 de Noviembre 1817 Tlaxcala ',' SLP ',' Mexico ',' 78038 ',' Wine-Beer ',' section ',' high ',' closed ',' none ',' East ',484);\n",
    "insert into restaurant_details values (135034,' Michiko Restaurant Japones ',' Cordillera de Los Alpes 160 Lomas 2 Seccion ',' SLP ',' Mexico ',' 78210 ',' No_Alcohol_Served ',' none ',' medium ',' closed ',' none ',' East ',354);\n",
    "insert into restaurant_details values (135060,' Restaurante Marisco Sam ',' Ignacio Allende 785 Centro ',' SLP ',' Mexico ',' 78310 ',' No_Alcohol_Served ',' none ',' medium ',' closed ',' none ',' West ',470);\n",
    "insert into restaurant_details values (135055,' la Cochinita Pibil Restaurante Yucateco ',' Venustiano Carranza 2175 Jardin ',' SLP ',' Mexico ',' 78270 ',' No_Alcohol_Served ',' section ',' high ',' closed ',' none ',' East ',434);\n",
    "insert into restaurant_details values (135108,' Potzocalli ',' Carretera Central Sn ','  ','  ','  ',' No_Alcohol_Served ',' none ',' low ',' closed ',' none ',' West ',526);\n",
    "insert into restaurant_details values (135074,' Restaurante la Parroquia Potosina ',' Venustiano Carranza 303 Centro ',' SLP ',' Mexico ',' 78000 ',' Wine-Beer ',' section ',' high ',' closed ',' none ',' West ',400);\n",
    "insert into restaurant_details values (135018,' El Oceano Dorado ',' Libramiento Burgos Colonia Las Animas ',' Morelos ',' Mexico ','  ',' Full_Bar ',' permitted ',' medium ',' open ',' variety ',' West ',1032);\n",
    "insert into restaurant_details values (135064,' Restaurante El Chivero S.A. de C.V. ',' Angel Veral 328 Altamira ',' SLP ',' Mexico ',' 78740 ',' No_Alcohol_Served ',' none ',' high ',' closed ',' none ',' East ',921);\n",
    "insert into restaurant_details values (135038,' Restaurant la Chalita ',' Guajardo Sn San Luis Potosi Centro ',' SLP ',' Mexico ',' 78000 ',' No_Alcohol_Served ',' section ',' medium ',' closed ',' none ',' West ',985);\n",
    "insert into restaurant_details values (135081,' El Club ',' Mexico 810 Centro ',' SLP ',' Mexico ',' 78000 ',' No_Alcohol_Served ',' none ',' medium ',' closed ',' none ',' West ',724);\n",
    "insert into restaurant_details values (132723,' Gordas de morales ','  ',' San Luis Potosi ',' Mexico ','  ',' Full_Bar ',' section ',' medium ',' closed ',' none ',' West ',318);\n",
    "insert into restaurant_details values (135051,' Restaurante Versalles ',' Francisco I. Madero 145 Centro ',' SLP ',' Mexico ',' 78000 ',' No_Alcohol_Served ',' section ',' low ',' closed ',' none ',' East ',808);\n",
    "insert into restaurant_details values (135021,' Subway ',' Rio Mayo 17 Vista Hermosa ',' Morelos ',' Mexico ',' 62290 ',' No_Alcohol_Served ',' not permitted ',' low ',' closed ',' none ',' West ',630);\n",
    "insert into restaurant_details values (135052,' La Cantina Restaurante ',' Ignacio Aldama 300 Centro ',' SLP ',' Mexico ',' 78000 ',' Full_Bar ',' none ',' high ',' closed ',' none ',' East ',916);\n",
    "insert into restaurant_details values (132845,' Cenaduria El Rincan de Tlaquepaque ',' av. seminario ',' san luis potosi ',' mexico ','  ',' No_Alcohol_Served ',' none ',' medium ',' closed ',' none ',' West ',848);\n",
    "insert into restaurant_details values (135011,' Los Vikingos ',' 36 Sur Civac ',' Morelos ',' Mexico ','  ',' No_Alcohol_Served ',' none ',' medium ',' closed ',' none ',' West ',223);\n",
    "insert into restaurant_details values (132858,' Hamburguesas Valle Dorado ',' Av. Coral ',' San Luis Potosi ',' Mexico ','  ',' No_Alcohol_Served ',' none ',' low ',' closed ',' none ',' East ',823);\n",
    "insert into restaurant_details values (135026,' la Cantina ',' Capitan Caldera No. 420 Tequisqueapan ',' SLP ',' Mexico ',' 78250 ',' Full_Bar ',' none ',' high ',' closed ',' none ',' East ',820);\n",
    "insert into restaurant_details values (132884,' dairy queen ','  ','  ','  ','  ',' No_Alcohol_Served ',' none ',' low ',' closed ',' none ',' East ',795);\n",
    "insert into restaurant_details values (135016,' Arrachela Grill ',' 69 Tres De Mayo ',' Morelos ',' Mexico ','  ',' No_Alcohol_Served ',' none ',' medium ',' closed ',' none ',' East ',852);\n",
    "insert into restaurant_details values (135104,' vips ','  ','  ','  ','  ',' Full_Bar ',' not permitted ',' medium ',' closed ',' variety ',' West ',487);\n",
    "insert into restaurant_details values (132630,' palomo tec ',' blvrd emilio portes gil ',' tamaulipas ',' ? ','  ',' No_Alcohol_Served ',' none ',' low ',' closed ',' none ',' East ',583);\n",
    "insert into restaurant_details values (135047,' Restaurante Casa de las Flores ',' General Mariano Arista 1205 Barrio de Tequisquiap ',' SLP ',' Mexico ',' 78310 ',' Wine-Beer ',' section ',' high ',' closed ',' none ',' West ',693);\n",
    "insert into restaurant_details values (132951,' VIPS ',' NICOLAS ZAPATA 300 ',' San Luis Potosi ',' Mexico ','  ',' No_Alcohol_Served ',' not permitted ',' low ',' closed ',' none ',' East ',441);\n",
    "insert into restaurant_details values (132665,' TACOS CORRECAMINOS ','  ',' tamaulipas ',' mexico ','  ',' No_Alcohol_Served ',' none ',' low ',' closed ',' none ',' East ',1057);\n",
    "insert into restaurant_details values (135044,' Restaurant Wu Zhuo Yi ',' Himno Nacional 100 Avenida ',' SLP ',' Mexico ',' 78240 ',' No_Alcohol_Served ',' none ',' medium ',' closed ',' none ',' East ',298);\n",
    "insert into restaurant_details values (135035,' El Mundo de la Pasta ',' Rio Papaloapan 265 Lomas de San Luis (3) ',' SLP ',' Mexico ',' 78210 ',' No_Alcohol_Served ',' section ',' high ',' closed ',' none ',' East ',177);\n",
    "insert into restaurant_details values (135071,' Restaurante la Cantina ',' De La Estrella 2005 Estrella de Oriente ',' SLP ',' Mexico ',' 78396 ',' Full_Bar ',' section ',' medium ',' closed ',' none ',' West ',835);\n",
    "insert into restaurant_details values (132834,' Gorditas Doa Gloria ',' sevilla y olmedo 715 a ',' san luis potosi ',' mexico ',' 78349 ',' No_Alcohol_Served ',' not permitted ',' low ',' closed ',' none ',' East ',284);\n",
    "insert into restaurant_details values (132846,' el lechon potosino  ',' circuito oriente esq. carretera 57 ',' slp ',' mexico ','  ',' No_Alcohol_Served ',' permitted ',' low ',' open ',' none ',' East ',868);\n",
    "insert into restaurant_details values (135048,' Restaurante Bar Fu-hao ',' Jesus Goytortua 390 Tangamanga ',' SLP ',' Mexico ',' 78269 ',' Wine-Beer ',' none ',' high ',' closed ',' none ',' East ',450);\n",
    "insert into restaurant_details values (132717,' tortas hawai ','  ','  ','  ','  ',' No_Alcohol_Served ',' not permitted ',' medium ',' closed ',' none ',' West ',813);\n",
    "insert into restaurant_details values (132861,' Carls Jr ',' Av. V. Carranza ',' San Luis Potosi ',' Mexico ','  ',' No_Alcohol_Served ',' not permitted ',' medium ',' closed ',' none ',' East ',551);\n",
    "insert into restaurant_details values (132885,' Hamburguesas saul ',' Av. Saan Luis enttre moctezuma y salinas ',' San Luis Potosi ',' mexico ',' 78433 ',' No_Alcohol_Served ',' none ',' low ',' closed ',' none ',' West ',1024);\n",
    "insert into restaurant_details values (132740,' Carreton de Flautas y Migadas ','  ',' Tamaulipas ',' Mexico ','  ',' No_Alcohol_Served ',' permitted ',' low ',' open ',' none ',' West ',736);\n",
    "insert into restaurant_details values (132830,' Rincon Huasteco ','  ','  ','  ','  ',' No_Alcohol_Served ',' none ',' low ',' closed ',' none ',' West ',780);\n",
    "insert into restaurant_details values (132773,' El cotorreo ',' Emiliano Zapata Col. Tres de Mayo ',' Morelos ','  ','  ',' Wine-Beer ',' permitted ',' low ',' open ',' none ',' East ',632);\n",
    "insert into restaurant_details values (132706,' Gorditas Dona Tota ',' Zaragoza entre Francisco Zarco y Lopez Velarde ',' Tamaulipas ',' Mexico ','  ',' No_Alcohol_Served ',' not permitted ',' medium ',' closed ',' none ',' East ',964);\n",
    "insert into restaurant_details values (132872,' Pizzeria Julios ','  ',' mexico ','  ','  ',' No_Alcohol_Served ',' not permitted ',' medium ',' closed ',' none ',' West ',810);\n",
    "insert into restaurant_details values (134987,' Chilis Cuernavaca ',' Rio Mayo Colonia Vista Hermosa Esq. Rio Balsas ',' Morelos ',' Mexico ',' 62290 ',' Wine-Beer ',' none ',' medium ',' closed ',' none ',' West ',1016);\n",
    "insert into restaurant_details values (132572,' Cafe Chaires ','  ',' San Luis Potosi ',' Mexico ','  ',' No_Alcohol_Served ',' not permitted ',' low ',' closed ',' none ',' West ',580);\n",
    "insert into restaurant_details values (132958,' tacos los volcanes ',' avenida hivno nacional ',' san luis potos ',' mexico ','  ',' No_Alcohol_Served ',' none ',' low ',' closed ',' none ',' West ',843);\n",
    "insert into restaurant_details values (132733,' Little Cesarz ','  ',' Tamaulipas ',' Mexico ','  ',' No_Alcohol_Served ',' not permitted ',' medium ',' closed ',' none ',' West ',897);\n",
    "insert into restaurant_details values (132922,' cafe punta del cielo ','  ','  ','  ','  ',' No_Alcohol_Served ',' permitted ',' medium ',' closed ',' none ',' West ',219);\n",
    "insert into restaurant_details values (132715,' tacos de la estacion ','  ','  ','  ','  ',' No_Alcohol_Served ',' none ',' low ',' open ',' none ',' East ',934);\n",
    "insert into restaurant_details values (135027,' Restaurant Orizatlan ',' Pascual M. Hernandez 240 ',' SLP ',' Mexico ','  ',' Wine-Beer ',' none ',' medium ',' closed ',' none ',' East ',280);\n",
    "insert into restaurant_details values (132767,' Restaurant Familiar El Chino ',' Paseo de las Fuentes ',' Morelos ','  ','  ',' Wine-Beer ',' permitted ',' medium ',' open ',' variety ',' West ',1047);\n",
    "insert into restaurant_details values (135039,' Restaurant de Mariscos de Picon ',' Miguel Barragan 46 Centro ',' SLP ',' Mexico ',' 79300 ',' No_Alcohol_Served ',' section ',' low ',' closed ',' none ',' East ',514);\n",
    "insert into restaurant_details values (134996,' Sanborns Casa Piedra ',' Lomas del Mirador ',' Morelos ',' Mexico ','  ',' Wine-Beer ',' only at bar ',' medium ',' closed ',' Internet ',' East ',300);\n",
    "insert into restaurant_details values (132755,' La Estrella de Dimas ',' Av. de los Pintores ',' S.L.P. ',' Mexico ','  ',' No_Alcohol_Served ',' none ',' medium ',' closed ',' variety ',' East ',445);\n",
    "insert into restaurant_details values (135043,' pizza clasica ',' 524 Soledad de Graciano Sanchez ',' SLP ',' Mexico ','  ',' No_Alcohol_Served ',' none ',' medium ',' closed ',' none ',' East ',304);\n",
    "insert into restaurant_details values (132654,' Carnitas Mata  Calle 16 de Septiembre ',' 16 de Septiembre ',' tamaulipas ','  ','  ',' No_Alcohol_Served ',' none ',' low ',' closed ',' none ',' East ',1027);\n",
    "insert into restaurant_details values (135049,' Restaurante de Mariscos la Langosta ',' Cordillera de Los Alpes 675 Loma Verde ',' SLP ',' Mexico ',' 78214 ',' No_Alcohol_Served ',' none ',' medium ',' closed ',' none ',' West ',406);\n",
    "insert into restaurant_details values (135073,' Restaurante Bar El Gallinero ',' Pascual M. Hernandez 210 Centro ',' SLP ',' Mexico ',' 78000 ',' Wine-Beer ',' section ',' high ',' closed ',' none ',' West ',222);\n",
    "insert into restaurant_details values (132560,' puesto de gorditas ',' frente al tecnologico ',' tamaulipas ',' mexico ','  ',' No_Alcohol_Served ',' permitted ',' low ',' open ',' none ',' West ',329);\n",
    "insert into restaurant_details values (134976,' Log Yin ','  ','  ','  ','  ',' No_Alcohol_Served ',' none ',' low ',' closed ',' none ',' West ',989);\n",
    "insert into restaurant_details values (135075,' Mariscos El Pescador ',' Himno Nacional 2104 Tangamanga ',' SLP ',' Mexico ',' 78269 ',' No_Alcohol_Served ',' none ',' medium ',' closed ',' none ',' East ',825);\n",
    "insert into restaurant_details values (132660,' carnitas mata calle Emilio Portes Gil ',' Emilio Portes Gil ',' tamaulipas ',' ? ','  ',' No_Alcohol_Served ',' none ',' low ',' closed ',' none ',' West ',954);\n",
    "insert into restaurant_details values (132921,' crudalia ','  ','  ','  ','  ',' Wine-Beer ',' section ',' low ',' open ',' none ',' East ',795);\n",
    "insert into restaurant_details values (132594,' tacos de barbacoa enfrente del Tec ','  ','  ','  ','  ',' No_Alcohol_Served ',' not permitted ',' low ',' open ',' none ',' East ',445);\n",
    "insert into restaurant_details values (134986,' Restaurant Las Mananitas ',' Ricardo Linares 107 ',' Morelos ',' Mexico ','  ',' Wine-Beer ',' none ',' high ',' closed ',' none ',' West ',431);\n",
    "insert into restaurant_details values (135062,' Restaurante El Cielo Potosino ',' Julian de Los Reyes 400 Centro ',' SLP ',' Mexico ',' 78000 ',' No_Alcohol_Served ',' none ',' medium ',' closed ',' none ',' West ',468);\n",
    "insert into restaurant_details values (132766,' Mikasa ',' Himno nacional esq. Blvd. Juarez ',' Morelos ',' Mexico ','  ',' Wine-Beer ',' none ',' medium ',' closed ',' none ',' East ',290);\n",
    "insert into restaurant_details values (135088,' Cafeteria cenidet ',' Interior Internado Palmira SN ',' Morelos ',' Mexico ','  ',' No_Alcohol_Served ',' not permitted ',' low ',' closed ',' none ',' East ',336);\n",
    "insert into restaurant_details values (135058,' Restaurante Tiberius ',' Munoz Sn Centro ',' SLP ',' Mexico ',' 64000 ',' No_Alcohol_Served ',' none ',' medium ',' closed ',' none ',' West ',514);\n",
    "insert into restaurant_details values (132754,' Cabana Huasteca ',' Cuauhtemoc 455 ',' S.L.P. ',' Mexico ','  ',' No_Alcohol_Served ',' none ',' medium ',' closed ',' none ',' West ',327);\n",
    "insert into restaurant_details values (132584,' Gorditas Dona Tota ','  ','  ','  ','  ',' No_Alcohol_Served ',' not permitted ',' medium ',' closed ',' none ',' East ',1043);\n",
    "insert into restaurant_details values (135032,' Cafeteria y Restaurant El Pacifico ',' Constitucion 200 Centro ',' SLP ',' Mexico ',' 78000 ',' Wine-Beer ',' section ',' medium ',' closed ',' none ',' East ',953);\n",
    "insert into restaurant_details values (135028,' La Virreina ',' Av. Carranza 830 ',' SLP ',' Mexico ','  ',' Wine-Beer ',' none ',' medium ',' closed ',' none ',' West ',616);\n",
    "insert into restaurant_details values (135085,' Tortas Locas Hipocampo ',' Venustiano Carranza 719 Centro ',' SLP ',' Mexico ',' 78000 ',' No_Alcohol_Served ',' not permitted ',' medium ',' closed ',' none ',' West ',819);\n",
    "insert into restaurant_details values (132663,' tacos abi ','  ',' tamaulipas ',' mexico ','  ',' No_Alcohol_Served ',' none ',' low ',' closed ',' none ',' West ',889);\n",
    "insert into restaurant_details values (132626,' la perica hamburguesa ','  ',' tamaulipas ','  ','  ',' No_Alcohol_Served ',' none ',' medium ',' closed ',' none ',' East ',454);\n",
    "insert into restaurant_details values (132583,' McDonalds Centro ',' Rayon sn col. Centro ',' Morelos ',' Mexico ',' 62000 ',' No_Alcohol_Served ',' not permitted ',' low ',' closed ',' none ',' West ',545);\n",
    "insert into restaurant_details values (132866,' Chaires ',' Ricardo B. Anaya ',' San Luis Potosi ',' Mexico ','  ',' No_Alcohol_Served ',' not permitted ',' medium ',' closed ',' none ',' West ',691);\n",
    "insert into restaurant_details values (135072,' Sushi Itto ',' Venustiano Carranza 1809 C Polanco ',' SLP ',' Mexico ',' 78220 ',' No_Alcohol_Served ',' none ',' medium ',' closed ',' none ',' West ',744);\n",
    "insert into restaurant_details values (135109,' Paniroles ','  ','  ','  ','  ',' Wine-Beer ',' not permitted ',' medium ',' closed ',' Internet ',' East ',191);\n",
    "insert into restaurant_details values (135019,' Restaurant Bar Coty y Pablo ',' Paseo de Las Fuentes 24 Pedregal de Las Fuentes ',' Morelos ',' Mexico ','  ',' No_Alcohol_Served ',' none ',' low ',' closed ',' none ',' West ',926);\n",
    "insert into restaurant_details values (132877,' sirloin stockade ','  ','  ','  ','  ',' No_Alcohol_Served ',' none ',' low ',' closed ',' none ',' East ',668);\n",
    "    \"\"\")"
   ]
  },
  {
   "cell_type": "code",
   "execution_count": 116,
   "id": "21b09670",
   "metadata": {},
   "outputs": [
    {
     "data": {
      "text/html": [
       "<div>\n",
       "<style scoped>\n",
       "    .dataframe tbody tr th:only-of-type {\n",
       "        vertical-align: middle;\n",
       "    }\n",
       "\n",
       "    .dataframe tbody tr th {\n",
       "        vertical-align: top;\n",
       "    }\n",
       "\n",
       "    .dataframe thead th {\n",
       "        text-align: right;\n",
       "    }\n",
       "</style>\n",
       "<table border=\"1\" class=\"dataframe\">\n",
       "  <thead>\n",
       "    <tr style=\"text-align: right;\">\n",
       "      <th></th>\n",
       "      <th>placeID</th>\n",
       "      <th>name</th>\n",
       "      <th>address</th>\n",
       "      <th>state</th>\n",
       "      <th>country</th>\n",
       "      <th>zip</th>\n",
       "      <th>alcohol</th>\n",
       "      <th>smoking_area</th>\n",
       "      <th>price</th>\n",
       "      <th>area</th>\n",
       "      <th>other_services</th>\n",
       "      <th>Region</th>\n",
       "      <th>Average_dine_in_per_month</th>\n",
       "    </tr>\n",
       "  </thead>\n",
       "  <tbody>\n",
       "    <tr>\n",
       "      <th>0</th>\n",
       "      <td>134999</td>\n",
       "      <td>Kiku Cuernavaca</td>\n",
       "      <td>Revolucion</td>\n",
       "      <td>Morelos</td>\n",
       "      <td>Mexico</td>\n",
       "      <td></td>\n",
       "      <td>No_Alcohol_Served</td>\n",
       "      <td>none</td>\n",
       "      <td>medium</td>\n",
       "      <td>closed</td>\n",
       "      <td>none</td>\n",
       "      <td>West</td>\n",
       "      <td>677</td>\n",
       "    </tr>\n",
       "    <tr>\n",
       "      <th>1</th>\n",
       "      <td>132825</td>\n",
       "      <td>puesto de tacos</td>\n",
       "      <td>esquina santos degollado y leon guzman</td>\n",
       "      <td>s.l.p.</td>\n",
       "      <td>mexico</td>\n",
       "      <td>78280</td>\n",
       "      <td>No_Alcohol_Served</td>\n",
       "      <td>none</td>\n",
       "      <td>low</td>\n",
       "      <td>open</td>\n",
       "      <td>none</td>\n",
       "      <td>West</td>\n",
       "      <td>561</td>\n",
       "    </tr>\n",
       "    <tr>\n",
       "      <th>2</th>\n",
       "      <td>135106</td>\n",
       "      <td>El Rincon de San Francisco</td>\n",
       "      <td>Universidad 169</td>\n",
       "      <td>San Luis Potosi</td>\n",
       "      <td>Mexico</td>\n",
       "      <td>78000</td>\n",
       "      <td>Wine-Beer</td>\n",
       "      <td>only at bar</td>\n",
       "      <td>medium</td>\n",
       "      <td>open</td>\n",
       "      <td>none</td>\n",
       "      <td>East</td>\n",
       "      <td>743</td>\n",
       "    </tr>\n",
       "    <tr>\n",
       "      <th>3</th>\n",
       "      <td>132667</td>\n",
       "      <td>little pizza Emilio Portes Gil</td>\n",
       "      <td>calle emilio portes gil</td>\n",
       "      <td>tamaulipas</td>\n",
       "      <td>NA</td>\n",
       "      <td></td>\n",
       "      <td>No_Alcohol_Served</td>\n",
       "      <td>none</td>\n",
       "      <td>low</td>\n",
       "      <td>closed</td>\n",
       "      <td>none</td>\n",
       "      <td>East</td>\n",
       "      <td>546</td>\n",
       "    </tr>\n",
       "    <tr>\n",
       "      <th>4</th>\n",
       "      <td>132613</td>\n",
       "      <td>carnitas_mata</td>\n",
       "      <td>lic. Emilio portes gil</td>\n",
       "      <td>Tamaulipas</td>\n",
       "      <td>Mexico</td>\n",
       "      <td></td>\n",
       "      <td>No_Alcohol_Served</td>\n",
       "      <td>permitted</td>\n",
       "      <td>medium</td>\n",
       "      <td>closed</td>\n",
       "      <td>none</td>\n",
       "      <td>East</td>\n",
       "      <td>697</td>\n",
       "    </tr>\n",
       "  </tbody>\n",
       "</table>\n",
       "</div>"
      ],
      "text/plain": [
       "   placeID                              name  \\\n",
       "0   134999                  Kiku Cuernavaca    \n",
       "1   132825                  puesto de tacos    \n",
       "2   135106       El Rincon de San Francisco    \n",
       "3   132667   little pizza Emilio Portes Gil    \n",
       "4   132613                    carnitas_mata    \n",
       "\n",
       "                                    address              state   country  \\\n",
       "0                               Revolucion            Morelos    Mexico    \n",
       "1   esquina santos degollado y leon guzman             s.l.p.    mexico    \n",
       "2                          Universidad 169    San Luis Potosi    Mexico    \n",
       "3                  calle emilio portes gil         tamaulipas        NA    \n",
       "4                   lic. Emilio portes gil         Tamaulipas    Mexico    \n",
       "\n",
       "       zip              alcohol   smoking_area     price      area  \\\n",
       "0            No_Alcohol_Served           none    medium    closed    \n",
       "1   78280    No_Alcohol_Served           none       low      open    \n",
       "2   78000            Wine-Beer    only at bar    medium      open    \n",
       "3            No_Alcohol_Served           none       low    closed    \n",
       "4            No_Alcohol_Served      permitted    medium    closed    \n",
       "\n",
       "  other_services  Region  Average_dine_in_per_month  \n",
       "0          none    West                         677  \n",
       "1          none    West                         561  \n",
       "2          none    East                         743  \n",
       "3          none    East                         546  \n",
       "4          none    East                         697  "
      ]
     },
     "execution_count": 116,
     "metadata": {},
     "output_type": "execute_result"
    }
   ],
   "source": [
    "# loading the SQL-table to a dataframe\n",
    "import pandas as pd\n",
    "restaurant_details = pd.read_sql(\"Select * from restaurant_details\",conn)\n",
    "restaurant_details.head()"
   ]
  },
  {
   "cell_type": "code",
   "execution_count": 117,
   "id": "cf658065",
   "metadata": {},
   "outputs": [
    {
     "name": "stdout",
     "output_type": "stream",
     "text": [
      "Restaurant Id : 41955207\n"
     ]
    }
   ],
   "source": [
    "#Importing Data from XML file\n",
    "import xml.etree.ElementTree as ET\n",
    "tree = ET.parse('reviews.xml') #for reading and importing data from xml file\n",
    "root = tree.getroot()\n",
    "print(root.tag,\"Id :\", root.attrib['id'])"
   ]
  },
  {
   "cell_type": "code",
   "execution_count": 118,
   "id": "954bebb3",
   "metadata": {},
   "outputs": [],
   "source": [
    "#Extract all the data from elements and sub elements\n",
    "restaurantDict = {}\n",
    "reviewDict = {}\n",
    "specialFeaturesList = []\n",
    "reviewsList = []\n",
    "\n",
    "for elem in root:\n",
    "    restaurantDict.update({elem.tag:elem.text})\n",
    "    for subelem in elem:\n",
    "        if elem.tag == \"SpecialFeatures\":\n",
    "            specialFeaturesList.append(subelem.text)\n",
    "            restaurantDict.update({\"SpecialFeatures\":specialFeaturesList})\n",
    "         \n",
    "        if elem.tag == \"Reviews\":\n",
    "            reviewDict = {}\n",
    "            reviewDict.update({\"Review Id\":subelem.attrib['id']})\n",
    "            for subsubelem in subelem:            \n",
    "                 reviewDict.update({subsubelem.tag:subsubelem.text})\n",
    "            reviewsList.append(reviewDict)\n",
    "            restaurantDict.update({\"Reviews\":reviewsList})\n",
    "\n",
    "#restaurantDict"
   ]
  },
  {
   "cell_type": "code",
   "execution_count": 119,
   "id": "6a5ec8d0",
   "metadata": {
    "scrolled": true
   },
   "outputs": [
    {
     "name": "stdout",
     "output_type": "stream",
     "text": [
      "Restaurant Id : 41955207\n",
      "---------------------------------------------------------------------------------------------------------\n",
      "Name : Staghorn Steakhouse\n",
      "ZipCode : 10018\n",
      "Cuisines : Seafood, Steakhouse\n",
      "PriceLevel : None\n",
      "Hours : None\n",
      "Payment : None\n",
      "DressCode : None\n",
      "SpecialFeatures : ['Notable Wine List', 'Business Dining', 'Romantic Dining', 'Group Dining', 'Fine Dining']\n",
      "PromptSeating : yes\n",
      "MakeReservation : yes\n",
      "Romantic : yes\n",
      "GoodForKids : no\n",
      "GoodForGroups : yes\n",
      "Reviews :\n",
      "---------------------------------------------------------------------------------------------------------\n",
      "\n",
      "Review Id : 1741211\n",
      "UserType : Customer\n",
      "Title : like eating in a funeral parlor!\n",
      "Username : pauli68\n",
      "Date : 07/28/2006\n",
      "TotalRatedHelpful : \n",
      "      \n",
      "TotalRated : \n",
      "      \n",
      "Body : awful start to finish. went on a nice thursday night and we were 1 of only 2 tables in the whole place. zero atmosphere, overpriced menu, average food. we ordered the bacon appetizer thinking it would be similar to Lugers or any other reputable steakhouse - WRONG. They brought out tiny pieces of Oscar Meyer breakfast bacon. Eastern European waitstaff doesn't get the customer service thing either. save your money, boycott these average spots and lets keep NY restaurants on top.\n",
      "Rating : 2\n",
      "Pros : easy to get a table because its awful\n",
      "Cons : read the review\n",
      "\n",
      "-------------------------------------------------------------------------------------------------------\n",
      "\n",
      "Review Id : 1741279\n",
      "UserType : Customer\n",
      "Title : Hurry up and get to this place!\n",
      "Username : chainsaw06\n",
      "Date : 07/28/2006\n",
      "TotalRatedHelpful : \n",
      "      \n",
      "TotalRated : \n",
      "      \n",
      "Body : Get there quick because by next week they will be selling all the fancy furniture and kitchen equipment on EBay! Where do I begin. They pour a fantastic glass of ice water and that's it! The bread on the table was harder than titanium. Maybe it wasn't supposed to be eaten just for decoration. The bacon appetizer doesn't even compare to Army MREs. I would say maybe on par with hospital food. The shrimp cocktail was just average until my waiter put his dirty sleeve in my plate...Thank you now its really tasty. I think the waitstaff was hired away from the KFC down the block. This place is history!!\n",
      "Rating : 1\n",
      "Pros : Brand new clean bathrooms\n",
      "Cons : Expensive\n",
      "\n",
      "-------------------------------------------------------------------------------------------------------\n",
      "\n",
      "Review Id : 1732945\n",
      "UserType : Customer\n",
      "Title : Great Steaks / Great Service\n",
      "Username : larrybird33\n",
      "Date : 07/19/2006\n",
      "TotalRatedHelpful : \n",
      "      \n",
      "TotalRated : \n",
      "      \n",
      "Body : Got caught at the last minute looking for a restaurant on the West Side to take important clients, and held my breath coming here for the first time. But what a great place! Understated but sleek decor, prompt/attentive/not overbearing service, stiff drinks from the bar, and awesome steaks. Will definitely return.\n",
      "Rating : 5\n",
      "Pros : Steaks, drinks and service\n",
      "Cons : Somewhat pricey\n",
      "\n",
      "-------------------------------------------------------------------------------------------------------\n",
      "\n",
      "Review Id : 1720570\n",
      "UserType : Customer\n",
      "Title : Great atmosphere and food to match!!!\n",
      "Username : lax111\n",
      "Date : 07/11/2006\n",
      "TotalRatedHelpful : \n",
      "      \n",
      "TotalRated : \n",
      "      \n",
      "Body : I was at an event at the Garden and found Staghorn right near there so went with some friends for dinner. What a nice restaurant. The steak of course was great and the drinks were made nice and strong. Service was just as good. I would definitely suggest have dinner one night if you are in the area!!!\n",
      "Rating : 5\n",
      "Pros : \n",
      "      \n",
      "Cons : \n",
      "      \n",
      "\n",
      "-------------------------------------------------------------------------------------------------------\n",
      "\n"
     ]
    }
   ],
   "source": [
    "#Display the data extracted from the Reviews.xml file\n",
    "print(root.tag,\"Id :\", root.attrib['id'])\n",
    "print(\"---------------------------------------------------------------------------------------------------------\")\n",
    "for key, val in restaurantDict.items():\n",
    "        if key == \"Reviews\":\n",
    "            print(key,\":\")\n",
    "            print(\"---------------------------------------------------------------------------------------------------------\\n\")\n",
    "            for reviews in val:\n",
    "                for keyR, valR in reviews.items():\n",
    "                    print(keyR,\":\",valR)\n",
    "                print(\"\\n-------------------------------------------------------------------------------------------------------\\n\")\n",
    "        else:\n",
    "            print(key,\":\", val)"
   ]
  },
  {
   "cell_type": "code",
   "execution_count": 120,
   "id": "d6b0e004",
   "metadata": {},
   "outputs": [
    {
     "data": {
      "text/html": [
       "<div>\n",
       "<style scoped>\n",
       "    .dataframe tbody tr th:only-of-type {\n",
       "        vertical-align: middle;\n",
       "    }\n",
       "\n",
       "    .dataframe tbody tr th {\n",
       "        vertical-align: top;\n",
       "    }\n",
       "\n",
       "    .dataframe thead th {\n",
       "        text-align: right;\n",
       "    }\n",
       "</style>\n",
       "<table border=\"1\" class=\"dataframe\">\n",
       "  <thead>\n",
       "    <tr style=\"text-align: right;\">\n",
       "      <th></th>\n",
       "      <th>Reviews</th>\n",
       "    </tr>\n",
       "  </thead>\n",
       "  <tbody>\n",
       "    <tr>\n",
       "      <th>0</th>\n",
       "      <td>The food for our event was delicious .</td>\n",
       "    </tr>\n",
       "    <tr>\n",
       "      <th>1</th>\n",
       "      <td>The food in the lounge was great and very fre...</td>\n",
       "    </tr>\n",
       "    <tr>\n",
       "      <th>2</th>\n",
       "      <td>As far as food, walk a few blocks toward Mich...</td>\n",
       "    </tr>\n",
       "    <tr>\n",
       "      <th>3</th>\n",
       "      <td>The Palm resturant in the hotel had some spec...</td>\n",
       "    </tr>\n",
       "    <tr>\n",
       "      <th>4</th>\n",
       "      <td>Took the charge of the minibar which we had u...</td>\n",
       "    </tr>\n",
       "  </tbody>\n",
       "</table>\n",
       "</div>"
      ],
      "text/plain": [
       "                                             Reviews\n",
       "0             The food for our event was delicious .\n",
       "1   The food in the lounge was great and very fre...\n",
       "2   As far as food, walk a few blocks toward Mich...\n",
       "3   The Palm resturant in the hotel had some spec...\n",
       "4   Took the charge of the minibar which we had u..."
      ]
     },
     "execution_count": 120,
     "metadata": {},
     "output_type": "execute_result"
    }
   ],
   "source": [
    "#Importing Data from Unstructured text file - feedback.txt\n",
    "feedback = pd.read_table(\"feedback.txt\", names = ['Reviews'])\n",
    "feedback.head()"
   ]
  },
  {
   "cell_type": "code",
   "execution_count": 121,
   "id": "4fe86958",
   "metadata": {},
   "outputs": [
    {
     "data": {
      "text/plain": [
       " SLP                 50\n",
       " Morelos             19\n",
       "                     18\n",
       " San Luis Potosi     14\n",
       " tamaulipas           9\n",
       " Tamaulipas           7\n",
       " san luis potosi      4\n",
       " slp                  2\n",
       " mexico               2\n",
       " S.L.P.               2\n",
       " s.l.p.               1\n",
       " morelos              1\n",
       " san luis potos       1\n",
       "Name: state, dtype: int64"
      ]
     },
     "execution_count": 121,
     "metadata": {},
     "output_type": "execute_result"
    }
   ],
   "source": [
    "restaurant_details[\"state\"].value_counts()"
   ]
  },
  {
   "cell_type": "code",
   "execution_count": 122,
   "id": "c32c4878",
   "metadata": {},
   "outputs": [],
   "source": [
    "#Update the state column to remove inconsistancies\n",
    "restaurant_details[\"state\"] = [\"Tamaulipas\" if x in [\" tamaulipas \",\" Tamaulipas \"] else x for x in restaurant_details[\"state\"]]\n",
    "restaurant_details[\"state\"] = [\"Morelos\" if x in [\" morelos \",\" Morelos \"] else x for x in restaurant_details[\"state\"]]\n",
    "restaurant_details[\"state\"] = [\"San Luis Potosi\" if x in [\" s.l.p. \",\" SLP \",\" san luis potosi \",\" slp \",\" S.L.P. \",\" san luis potos \",\" San Luis Potosi \"] else x for x in restaurant_details[\"state\"]]\n",
    "restaurant_details[\"state\"] = [\"Mexico\" if x in [\" mexico \",\" Mexico \"] else x for x in restaurant_details[\"state\"]]"
   ]
  },
  {
   "cell_type": "code",
   "execution_count": 123,
   "id": "3b2cc7d6",
   "metadata": {
    "scrolled": true
   },
   "outputs": [
    {
     "data": {
      "text/plain": [
       "San Luis Potosi    74\n",
       "Morelos            20\n",
       "                   18\n",
       "Tamaulipas         16\n",
       "Mexico              2\n",
       "Name: state, dtype: int64"
      ]
     },
     "execution_count": 123,
     "metadata": {},
     "output_type": "execute_result"
    }
   ],
   "source": [
    "#Check the different kind of states available -->we use value count\n",
    "restaurant_details[\"state\"].value_counts()"
   ]
  },
  {
   "cell_type": "code",
   "execution_count": 124,
   "id": "26542e91",
   "metadata": {},
   "outputs": [
    {
     "data": {
      "text/plain": [
       " Mexico     89\n",
       "            24\n",
       " mexico     13\n",
       " ?           3\n",
       " NA          1\n",
       "Name: country, dtype: int64"
      ]
     },
     "execution_count": 124,
     "metadata": {},
     "output_type": "execute_result"
    }
   ],
   "source": [
    "#Check the different kind of countries available\n",
    "restaurant_details[\"country\"].value_counts()"
   ]
  },
  {
   "cell_type": "code",
   "execution_count": 125,
   "id": "0f197941",
   "metadata": {},
   "outputs": [],
   "source": [
    "#Update the country column to remove inconsistancies\n",
    "restaurant_details[\"country\"] = [\"Mexico\" if x in [\" mexico \",\" Mexico \"] else x for x in restaurant_details[\"country\"]]"
   ]
  },
  {
   "cell_type": "code",
   "execution_count": 126,
   "id": "10f2b992",
   "metadata": {},
   "outputs": [],
   "source": [
    "import numpy as np"
   ]
  },
  {
   "cell_type": "code",
   "execution_count": 128,
   "id": "f109c521",
   "metadata": {},
   "outputs": [
    {
     "data": {
      "text/plain": [
       "Mexico    102\n",
       "           24\n",
       " ?          3\n",
       " NA         1\n",
       "Name: country, dtype: int64"
      ]
     },
     "execution_count": 128,
     "metadata": {},
     "output_type": "execute_result"
    }
   ],
   "source": [
    "#Check the different kind of countries available\n",
    "restaurant_details[\"country\"].value_counts()"
   ]
  },
  {
   "cell_type": "code",
   "execution_count": 129,
   "id": "0fe99db5",
   "metadata": {},
   "outputs": [
    {
     "name": "stdout",
     "output_type": "stream",
     "text": [
      "[1, 2, 9, 5, 0, 6, 0]\n",
      "Mean: 3.2857142857142856\n"
     ]
    }
   ],
   "source": [
    "sample_data = [1,2,9,5,-5,6,-4]\n",
    "result = [0 if i < 0 else i for i in sample_data]\n",
    "print(result)\n",
    "print(\"Mean:\",np.mean(result)) #replacing negative values with 0 will affect the mean"
   ]
  },
  {
   "cell_type": "code",
   "execution_count": 130,
   "id": "a824bf99",
   "metadata": {},
   "outputs": [
    {
     "name": "stdout",
     "output_type": "stream",
     "text": [
      "[1, 2, 9, 5, 6]\n",
      "Mean: 4.6\n"
     ]
    }
   ],
   "source": [
    "#Therefore we ignore the negative value like this:\n",
    "result = [i for i in sample_data if i >0]\n",
    "print(result)\n",
    "print(\"Mean:\",np.mean(result))"
   ]
  },
  {
   "cell_type": "code",
   "execution_count": 131,
   "id": "6a9b6800",
   "metadata": {
    "scrolled": true
   },
   "outputs": [
    {
     "data": {
      "text/html": [
       "<div>\n",
       "<style scoped>\n",
       "    .dataframe tbody tr th:only-of-type {\n",
       "        vertical-align: middle;\n",
       "    }\n",
       "\n",
       "    .dataframe tbody tr th {\n",
       "        vertical-align: top;\n",
       "    }\n",
       "\n",
       "    .dataframe thead th {\n",
       "        text-align: right;\n",
       "    }\n",
       "</style>\n",
       "<table border=\"1\" class=\"dataframe\">\n",
       "  <thead>\n",
       "    <tr style=\"text-align: right;\">\n",
       "      <th></th>\n",
       "      <th>StudentID</th>\n",
       "      <th>Marks_Eng</th>\n",
       "      <th>Marks_Math</th>\n",
       "    </tr>\n",
       "  </thead>\n",
       "  <tbody>\n",
       "    <tr>\n",
       "      <th>0</th>\n",
       "      <td>1001</td>\n",
       "      <td>89.0</td>\n",
       "      <td>78.0</td>\n",
       "    </tr>\n",
       "    <tr>\n",
       "      <th>1</th>\n",
       "      <td>1002</td>\n",
       "      <td>NaN</td>\n",
       "      <td>86.0</td>\n",
       "    </tr>\n",
       "    <tr>\n",
       "      <th>2</th>\n",
       "      <td>1003</td>\n",
       "      <td>92.0</td>\n",
       "      <td>NaN</td>\n",
       "    </tr>\n",
       "    <tr>\n",
       "      <th>3</th>\n",
       "      <td>1004</td>\n",
       "      <td>76.0</td>\n",
       "      <td>58.0</td>\n",
       "    </tr>\n",
       "    <tr>\n",
       "      <th>4</th>\n",
       "      <td>1005</td>\n",
       "      <td>65.0</td>\n",
       "      <td>90.0</td>\n",
       "    </tr>\n",
       "    <tr>\n",
       "      <th>5</th>\n",
       "      <td>1006</td>\n",
       "      <td>NaN</td>\n",
       "      <td>NaN</td>\n",
       "    </tr>\n",
       "  </tbody>\n",
       "</table>\n",
       "</div>"
      ],
      "text/plain": [
       "   StudentID  Marks_Eng  Marks_Math\n",
       "0       1001       89.0        78.0\n",
       "1       1002        NaN        86.0\n",
       "2       1003       92.0         NaN\n",
       "3       1004       76.0        58.0\n",
       "4       1005       65.0        90.0\n",
       "5       1006        NaN         NaN"
      ]
     },
     "execution_count": 131,
     "metadata": {},
     "output_type": "execute_result"
    }
   ],
   "source": [
    "df = pd.DataFrame([[1001,89,78], \n",
    "                    [1002,np.nan,86],\n",
    "                    [1003,92,np.nan],\n",
    "                    [1004,76,58],\n",
    "                    [1005,65,90],\n",
    "                    [1006,np.nan,np.nan]],\n",
    "                   columns = ['StudentID', 'Marks_Eng','Marks_Math'])\n",
    "df"
   ]
  },
  {
   "cell_type": "code",
   "execution_count": 132,
   "id": "bb1ed24e",
   "metadata": {},
   "outputs": [
    {
     "data": {
      "text/html": [
       "<div>\n",
       "<style scoped>\n",
       "    .dataframe tbody tr th:only-of-type {\n",
       "        vertical-align: middle;\n",
       "    }\n",
       "\n",
       "    .dataframe tbody tr th {\n",
       "        vertical-align: top;\n",
       "    }\n",
       "\n",
       "    .dataframe thead th {\n",
       "        text-align: right;\n",
       "    }\n",
       "</style>\n",
       "<table border=\"1\" class=\"dataframe\">\n",
       "  <thead>\n",
       "    <tr style=\"text-align: right;\">\n",
       "      <th></th>\n",
       "      <th>StudentID</th>\n",
       "      <th>Marks_Eng</th>\n",
       "      <th>Marks_Math</th>\n",
       "    </tr>\n",
       "  </thead>\n",
       "  <tbody>\n",
       "    <tr>\n",
       "      <th>0</th>\n",
       "      <td>False</td>\n",
       "      <td>False</td>\n",
       "      <td>False</td>\n",
       "    </tr>\n",
       "    <tr>\n",
       "      <th>1</th>\n",
       "      <td>False</td>\n",
       "      <td>True</td>\n",
       "      <td>False</td>\n",
       "    </tr>\n",
       "    <tr>\n",
       "      <th>2</th>\n",
       "      <td>False</td>\n",
       "      <td>False</td>\n",
       "      <td>True</td>\n",
       "    </tr>\n",
       "    <tr>\n",
       "      <th>3</th>\n",
       "      <td>False</td>\n",
       "      <td>False</td>\n",
       "      <td>False</td>\n",
       "    </tr>\n",
       "    <tr>\n",
       "      <th>4</th>\n",
       "      <td>False</td>\n",
       "      <td>False</td>\n",
       "      <td>False</td>\n",
       "    </tr>\n",
       "    <tr>\n",
       "      <th>5</th>\n",
       "      <td>False</td>\n",
       "      <td>True</td>\n",
       "      <td>True</td>\n",
       "    </tr>\n",
       "  </tbody>\n",
       "</table>\n",
       "</div>"
      ],
      "text/plain": [
       "   StudentID  Marks_Eng  Marks_Math\n",
       "0      False      False       False\n",
       "1      False       True       False\n",
       "2      False      False        True\n",
       "3      False      False       False\n",
       "4      False      False       False\n",
       "5      False       True        True"
      ]
     },
     "execution_count": 132,
     "metadata": {},
     "output_type": "execute_result"
    }
   ],
   "source": [
    "#Where are the NaN values?\n",
    "df.isna() #true indicates nan values"
   ]
  },
  {
   "cell_type": "code",
   "execution_count": 133,
   "id": "ff6032e1",
   "metadata": {},
   "outputs": [
    {
     "data": {
      "text/plain": [
       "StudentID     False\n",
       "Marks_Eng      True\n",
       "Marks_Math     True\n",
       "dtype: bool"
      ]
     },
     "execution_count": 133,
     "metadata": {},
     "output_type": "execute_result"
    }
   ],
   "source": [
    "#Which columns contain NaN values?\n",
    "df.isna().any()"
   ]
  },
  {
   "cell_type": "code",
   "execution_count": 134,
   "id": "847e2e36",
   "metadata": {
    "scrolled": true
   },
   "outputs": [
    {
     "data": {
      "text/plain": [
       "StudentID     0\n",
       "Marks_Eng     2\n",
       "Marks_Math    2\n",
       "dtype: int64"
      ]
     },
     "execution_count": 134,
     "metadata": {},
     "output_type": "execute_result"
    }
   ],
   "source": [
    "df.isna().sum() #finding number of nan values in each coloumn"
   ]
  },
  {
   "cell_type": "code",
   "execution_count": 135,
   "id": "d619ec93",
   "metadata": {},
   "outputs": [
    {
     "data": {
      "text/plain": [
       "0    False\n",
       "1     True\n",
       "2     True\n",
       "3    False\n",
       "4    False\n",
       "5     True\n",
       "dtype: bool"
      ]
     },
     "execution_count": 135,
     "metadata": {},
     "output_type": "execute_result"
    }
   ],
   "source": [
    "#Which rows contain NaN values?\n",
    "df.isna().any(axis=1) #axis=1 indicates rows"
   ]
  },
  {
   "cell_type": "code",
   "execution_count": 136,
   "id": "aa8e1fb6",
   "metadata": {},
   "outputs": [
    {
     "data": {
      "text/html": [
       "<div>\n",
       "<style scoped>\n",
       "    .dataframe tbody tr th:only-of-type {\n",
       "        vertical-align: middle;\n",
       "    }\n",
       "\n",
       "    .dataframe tbody tr th {\n",
       "        vertical-align: top;\n",
       "    }\n",
       "\n",
       "    .dataframe thead th {\n",
       "        text-align: right;\n",
       "    }\n",
       "</style>\n",
       "<table border=\"1\" class=\"dataframe\">\n",
       "  <thead>\n",
       "    <tr style=\"text-align: right;\">\n",
       "      <th></th>\n",
       "      <th>StudentID</th>\n",
       "      <th>Marks_Eng</th>\n",
       "      <th>Marks_Math</th>\n",
       "    </tr>\n",
       "  </thead>\n",
       "  <tbody>\n",
       "    <tr>\n",
       "      <th>1</th>\n",
       "      <td>1002</td>\n",
       "      <td>NaN</td>\n",
       "      <td>86.0</td>\n",
       "    </tr>\n",
       "    <tr>\n",
       "      <th>2</th>\n",
       "      <td>1003</td>\n",
       "      <td>92.0</td>\n",
       "      <td>NaN</td>\n",
       "    </tr>\n",
       "    <tr>\n",
       "      <th>5</th>\n",
       "      <td>1006</td>\n",
       "      <td>NaN</td>\n",
       "      <td>NaN</td>\n",
       "    </tr>\n",
       "  </tbody>\n",
       "</table>\n",
       "</div>"
      ],
      "text/plain": [
       "   StudentID  Marks_Eng  Marks_Math\n",
       "1       1002        NaN        86.0\n",
       "2       1003       92.0         NaN\n",
       "5       1006        NaN         NaN"
      ]
     },
     "execution_count": 136,
     "metadata": {},
     "output_type": "execute_result"
    }
   ],
   "source": [
    "df[df.isna().any(axis=1)] #displaying only the rows that contain nan values"
   ]
  },
  {
   "cell_type": "code",
   "execution_count": 137,
   "id": "fcede9f5",
   "metadata": {},
   "outputs": [
    {
     "data": {
      "text/plain": [
       "[1, 2, 5]"
      ]
     },
     "execution_count": 137,
     "metadata": {},
     "output_type": "execute_result"
    }
   ],
   "source": [
    "#displaying the row numbers containing NaN values\n",
    "df[df.isna().any(axis=1)].index.tolist()"
   ]
  },
  {
   "cell_type": "markdown",
   "id": "71b69bfa",
   "metadata": {},
   "source": [
    "## HANDLING MISSING VALUES"
   ]
  },
  {
   "cell_type": "code",
   "execution_count": 138,
   "id": "f97ad593",
   "metadata": {
    "scrolled": true
   },
   "outputs": [
    {
     "data": {
      "text/plain": [
       "nan"
      ]
     },
     "execution_count": 138,
     "metadata": {},
     "output_type": "execute_result"
    }
   ],
   "source": [
    "#Compute mean of a column without ignoring the NaN values.\n",
    "df.Marks_Eng.mean(skipna=False) #any operation on Nan gives nan"
   ]
  },
  {
   "cell_type": "code",
   "execution_count": 139,
   "id": "9c6a5922",
   "metadata": {},
   "outputs": [
    {
     "data": {
      "text/plain": [
       "80.5"
      ]
     },
     "execution_count": 139,
     "metadata": {},
     "output_type": "execute_result"
    }
   ],
   "source": [
    "#therefor we ignore nan values\n",
    "#Compute mean of a column ignoring the NaN values.\n",
    "#Default skipna value is True\n",
    "df.Marks_Eng.mean(skipna=True)"
   ]
  },
  {
   "cell_type": "code",
   "execution_count": 140,
   "id": "a7b19c89",
   "metadata": {
    "scrolled": true
   },
   "outputs": [
    {
     "data": {
      "text/html": [
       "<div>\n",
       "<style scoped>\n",
       "    .dataframe tbody tr th:only-of-type {\n",
       "        vertical-align: middle;\n",
       "    }\n",
       "\n",
       "    .dataframe tbody tr th {\n",
       "        vertical-align: top;\n",
       "    }\n",
       "\n",
       "    .dataframe thead th {\n",
       "        text-align: right;\n",
       "    }\n",
       "</style>\n",
       "<table border=\"1\" class=\"dataframe\">\n",
       "  <thead>\n",
       "    <tr style=\"text-align: right;\">\n",
       "      <th></th>\n",
       "      <th>StudentID</th>\n",
       "      <th>Marks_Eng</th>\n",
       "      <th>Marks_Math</th>\n",
       "    </tr>\n",
       "  </thead>\n",
       "  <tbody>\n",
       "    <tr>\n",
       "      <th>0</th>\n",
       "      <td>1001</td>\n",
       "      <td>89.0</td>\n",
       "      <td>78.0</td>\n",
       "    </tr>\n",
       "    <tr>\n",
       "      <th>3</th>\n",
       "      <td>1004</td>\n",
       "      <td>76.0</td>\n",
       "      <td>58.0</td>\n",
       "    </tr>\n",
       "    <tr>\n",
       "      <th>4</th>\n",
       "      <td>1005</td>\n",
       "      <td>65.0</td>\n",
       "      <td>90.0</td>\n",
       "    </tr>\n",
       "  </tbody>\n",
       "</table>\n",
       "</div>"
      ],
      "text/plain": [
       "   StudentID  Marks_Eng  Marks_Math\n",
       "0       1001       89.0        78.0\n",
       "3       1004       76.0        58.0\n",
       "4       1005       65.0        90.0"
      ]
     },
     "execution_count": 140,
     "metadata": {},
     "output_type": "execute_result"
    }
   ],
   "source": [
    "#Dataframe with rows that contained NaN values, removed.\n",
    "df.dropna() #removing rows containing nan values"
   ]
  },
  {
   "cell_type": "code",
   "execution_count": 141,
   "id": "349e07c9",
   "metadata": {},
   "outputs": [
    {
     "name": "stdout",
     "output_type": "stream",
     "text": [
      "Before dropping rows with missing values: (138, 14)\n"
     ]
    }
   ],
   "source": [
    "#axis=0 or 1 can be used for either row or coloumns\n",
    "#consumer_survey\n",
    "print(\"Before dropping rows with missing values:\",consumer_survey.shape)\n",
    "#shape tells about no of rows and coloumns respectively(a,b)"
   ]
  },
  {
   "cell_type": "code",
   "execution_count": 142,
   "id": "c1eea86b",
   "metadata": {},
   "outputs": [],
   "source": [
    "#Replace '?' with NaN\n",
    "consumer_survey.replace('?',np.NaN, inplace = True)\n"
   ]
  },
  {
   "cell_type": "code",
   "execution_count": 143,
   "id": "6a958f00",
   "metadata": {},
   "outputs": [],
   "source": [
    "#Drop rows with missing values\n",
    "consumer_survey.dropna(axis = 0, inplace = True, thresh = 13) #thresh indicates non-nan values\n",
    "#which means if row has atleast 13 non-nan values the row need not be dropped"
   ]
  },
  {
   "cell_type": "code",
   "execution_count": 144,
   "id": "be22bedb",
   "metadata": {
    "scrolled": true
   },
   "outputs": [
    {
     "name": "stdout",
     "output_type": "stream",
     "text": [
      "After dropping rows with missing values: (134, 14)\n"
     ]
    }
   ],
   "source": [
    "print(\"After dropping rows with missing values:\",consumer_survey.shape) #4 rows have been dropped here."
   ]
  },
  {
   "cell_type": "code",
   "execution_count": 145,
   "id": "02d9aefa",
   "metadata": {},
   "outputs": [],
   "source": [
    "#Reset index\n",
    "consumer_survey.reset_index(inplace = True, drop = True)"
   ]
  },
  {
   "cell_type": "code",
   "execution_count": 146,
   "id": "a6d6c516",
   "metadata": {
    "scrolled": true
   },
   "outputs": [
    {
     "name": "stdout",
     "output_type": "stream",
     "text": [
      "Before dropping rows with missing values: (130, 13)\n",
      "After dropping rows with missing values: (110, 13)\n"
     ]
    }
   ],
   "source": [
    "#restaurant_details\n",
    "print(\"Before dropping rows with missing values:\",restaurant_details.shape)\n",
    "\n",
    "#Replace '?' with NaN\n",
    "missing_values = [' ? ','  ',' NA ']\n",
    "\n",
    "for i in missing_values:\n",
    "    restaurant_details.replace(i,np.NaN, inplace = True)\n",
    "\n",
    "#Drop rows with missing values\n",
    "restaurant_details.dropna(axis = 0, inplace = True, thresh = 11)\n",
    "\n",
    "print(\"After dropping rows with missing values:\",restaurant_details.shape)\n",
    "\n",
    "#Reset index\n",
    "restaurant_details.reset_index(inplace = True, drop = True) \n",
    "#here 3 rows are dropped so reset the index"
   ]
  },
  {
   "cell_type": "code",
   "execution_count": 147,
   "id": "1ac70ba5",
   "metadata": {},
   "outputs": [],
   "source": [
    "#Drop columns with more than 40% missing values\n",
    "restaurant_details.dropna(axis = 1, inplace = True, thresh = 60 * 1.1) #out of 110 rows 60%of 110"
   ]
  },
  {
   "cell_type": "code",
   "execution_count": 148,
   "id": "2a189b72",
   "metadata": {},
   "outputs": [
    {
     "data": {
      "text/plain": [
       "(110, 12)"
      ]
     },
     "execution_count": 148,
     "metadata": {},
     "output_type": "execute_result"
    }
   ],
   "source": [
    "#Check how many columns are dropped\n",
    "restaurant_details.shape #here 1 col is dropped"
   ]
  },
  {
   "cell_type": "code",
   "execution_count": 149,
   "id": "35fddb2f",
   "metadata": {},
   "outputs": [
    {
     "name": "stdout",
     "output_type": "stream",
     "text": [
      "['placeID' 'name' 'address' 'state' 'country' 'alcohol' 'smoking_area'\n",
      " 'price' 'area' 'other_services' 'Region' 'Average_dine_in_per_month']\n"
     ]
    }
   ],
   "source": [
    "#Check which columns are dropped\n",
    "print(restaurant_details.columns.values)"
   ]
  },
  {
   "cell_type": "markdown",
   "id": "2edbb352",
   "metadata": {},
   "source": [
    "### IMPUTE DATA"
   ]
  },
  {
   "cell_type": "code",
   "execution_count": 150,
   "id": "88b415be",
   "metadata": {},
   "outputs": [],
   "source": [
    "from sklearn.impute import SimpleImputer"
   ]
  },
  {
   "cell_type": "code",
   "execution_count": 151,
   "id": "01f23e8d",
   "metadata": {},
   "outputs": [
    {
     "data": {
      "text/plain": [
       "[3, 36, 41, 65, 78, 85, 90, 95]"
      ]
     },
     "execution_count": 151,
     "metadata": {},
     "output_type": "execute_result"
    }
   ],
   "source": [
    "#Which rows contain NA values?\n",
    "df = restaurant_details.loc[:,[\"country\"]]\n",
    "df[df.isna().any(axis=1)].index.tolist()"
   ]
  },
  {
   "cell_type": "code",
   "execution_count": 152,
   "id": "7e753e72",
   "metadata": {},
   "outputs": [
    {
     "data": {
      "text/html": [
       "<div>\n",
       "<style scoped>\n",
       "    .dataframe tbody tr th:only-of-type {\n",
       "        vertical-align: middle;\n",
       "    }\n",
       "\n",
       "    .dataframe tbody tr th {\n",
       "        vertical-align: top;\n",
       "    }\n",
       "\n",
       "    .dataframe thead th {\n",
       "        text-align: right;\n",
       "    }\n",
       "</style>\n",
       "<table border=\"1\" class=\"dataframe\">\n",
       "  <thead>\n",
       "    <tr style=\"text-align: right;\">\n",
       "      <th></th>\n",
       "      <th>country</th>\n",
       "    </tr>\n",
       "  </thead>\n",
       "  <tbody>\n",
       "    <tr>\n",
       "      <th>0</th>\n",
       "      <td>Mexico</td>\n",
       "    </tr>\n",
       "    <tr>\n",
       "      <th>5</th>\n",
       "      <td>Mexico</td>\n",
       "    </tr>\n",
       "    <tr>\n",
       "      <th>23</th>\n",
       "      <td>Mexico</td>\n",
       "    </tr>\n",
       "    <tr>\n",
       "      <th>56</th>\n",
       "      <td>Mexico</td>\n",
       "    </tr>\n",
       "    <tr>\n",
       "      <th>61</th>\n",
       "      <td>Mexico</td>\n",
       "    </tr>\n",
       "    <tr>\n",
       "      <th>85</th>\n",
       "      <td>NaN</td>\n",
       "    </tr>\n",
       "    <tr>\n",
       "      <th>98</th>\n",
       "      <td>Mexico</td>\n",
       "    </tr>\n",
       "    <tr>\n",
       "      <th>105</th>\n",
       "      <td>Mexico</td>\n",
       "    </tr>\n",
       "  </tbody>\n",
       "</table>\n",
       "</div>"
      ],
      "text/plain": [
       "    country\n",
       "0    Mexico\n",
       "5    Mexico\n",
       "23   Mexico\n",
       "56   Mexico\n",
       "61   Mexico\n",
       "85      NaN\n",
       "98   Mexico\n",
       "105  Mexico"
      ]
     },
     "execution_count": 152,
     "metadata": {},
     "output_type": "execute_result"
    }
   ],
   "source": [
    "restaurant_details.loc[[0, 5, 23, 56, 61, 85, 98, 105],['country']]"
   ]
  },
  {
   "cell_type": "code",
   "execution_count": 153,
   "id": "2261db4c",
   "metadata": {},
   "outputs": [],
   "source": [
    "#Fill missing values with a constant #here constant value is mexico as it has a high value count\n",
    "country_array = np.array(restaurant_details[\"country\"])\n",
    "imputer = SimpleImputer(strategy = \"constant\", fill_value =\"Mexico\")\n",
    "restaurant_details[\"country\"] = imputer.fit_transform(country_array.reshape(-1,1))"
   ]
  },
  {
   "cell_type": "code",
   "execution_count": 154,
   "id": "b4035f36",
   "metadata": {},
   "outputs": [
    {
     "data": {
      "text/html": [
       "<div>\n",
       "<style scoped>\n",
       "    .dataframe tbody tr th:only-of-type {\n",
       "        vertical-align: middle;\n",
       "    }\n",
       "\n",
       "    .dataframe tbody tr th {\n",
       "        vertical-align: top;\n",
       "    }\n",
       "\n",
       "    .dataframe thead th {\n",
       "        text-align: right;\n",
       "    }\n",
       "</style>\n",
       "<table border=\"1\" class=\"dataframe\">\n",
       "  <thead>\n",
       "    <tr style=\"text-align: right;\">\n",
       "      <th></th>\n",
       "      <th>country</th>\n",
       "    </tr>\n",
       "  </thead>\n",
       "  <tbody>\n",
       "    <tr>\n",
       "      <th>0</th>\n",
       "      <td>Mexico</td>\n",
       "    </tr>\n",
       "    <tr>\n",
       "      <th>5</th>\n",
       "      <td>Mexico</td>\n",
       "    </tr>\n",
       "    <tr>\n",
       "      <th>23</th>\n",
       "      <td>Mexico</td>\n",
       "    </tr>\n",
       "    <tr>\n",
       "      <th>56</th>\n",
       "      <td>Mexico</td>\n",
       "    </tr>\n",
       "    <tr>\n",
       "      <th>61</th>\n",
       "      <td>Mexico</td>\n",
       "    </tr>\n",
       "    <tr>\n",
       "      <th>85</th>\n",
       "      <td>Mexico</td>\n",
       "    </tr>\n",
       "    <tr>\n",
       "      <th>98</th>\n",
       "      <td>Mexico</td>\n",
       "    </tr>\n",
       "    <tr>\n",
       "      <th>105</th>\n",
       "      <td>Mexico</td>\n",
       "    </tr>\n",
       "  </tbody>\n",
       "</table>\n",
       "</div>"
      ],
      "text/plain": [
       "    country\n",
       "0    Mexico\n",
       "5    Mexico\n",
       "23   Mexico\n",
       "56   Mexico\n",
       "61   Mexico\n",
       "85   Mexico\n",
       "98   Mexico\n",
       "105  Mexico"
      ]
     },
     "execution_count": 154,
     "metadata": {},
     "output_type": "execute_result"
    }
   ],
   "source": [
    "restaurant_details.loc[[0, 5, 23, 56, 61, 85, 98, 105],['country']]"
   ]
  },
  {
   "cell_type": "markdown",
   "id": "313108d4",
   "metadata": {},
   "source": [
    "### Impute with the mode or most frequent value"
   ]
  },
  {
   "cell_type": "code",
   "execution_count": 155,
   "id": "ee5c4034",
   "metadata": {},
   "outputs": [
    {
     "data": {
      "text/plain": [
       "[29, 37, 119]"
      ]
     },
     "execution_count": 155,
     "metadata": {},
     "output_type": "execute_result"
    }
   ],
   "source": [
    "#Which rows contain NA values?\n",
    "df = consumer_survey.loc[:,[\"transport\"]]\n",
    "df[df.isna().any(axis=1)].index.tolist()"
   ]
  },
  {
   "cell_type": "code",
   "execution_count": 156,
   "id": "ebd6a20f",
   "metadata": {},
   "outputs": [
    {
     "data": {
      "text/html": [
       "<div>\n",
       "<style scoped>\n",
       "    .dataframe tbody tr th:only-of-type {\n",
       "        vertical-align: middle;\n",
       "    }\n",
       "\n",
       "    .dataframe tbody tr th {\n",
       "        vertical-align: top;\n",
       "    }\n",
       "\n",
       "    .dataframe thead th {\n",
       "        text-align: right;\n",
       "    }\n",
       "</style>\n",
       "<table border=\"1\" class=\"dataframe\">\n",
       "  <thead>\n",
       "    <tr style=\"text-align: right;\">\n",
       "      <th></th>\n",
       "      <th>transport</th>\n",
       "    </tr>\n",
       "  </thead>\n",
       "  <tbody>\n",
       "    <tr>\n",
       "      <th>29</th>\n",
       "      <td>NaN</td>\n",
       "    </tr>\n",
       "    <tr>\n",
       "      <th>37</th>\n",
       "      <td>NaN</td>\n",
       "    </tr>\n",
       "    <tr>\n",
       "      <th>119</th>\n",
       "      <td>NaN</td>\n",
       "    </tr>\n",
       "  </tbody>\n",
       "</table>\n",
       "</div>"
      ],
      "text/plain": [
       "    transport\n",
       "29        NaN\n",
       "37        NaN\n",
       "119       NaN"
      ]
     },
     "execution_count": 156,
     "metadata": {},
     "output_type": "execute_result"
    }
   ],
   "source": [
    "consumer_survey.loc[[29, 37, 119],['transport']] #verifying if the rows contain nan values"
   ]
  },
  {
   "cell_type": "code",
   "execution_count": 157,
   "id": "49e2473e",
   "metadata": {},
   "outputs": [
    {
     "data": {
      "text/plain": [
       "public       82\n",
       "car owner    35\n",
       "on foot      14\n",
       "Name: transport, dtype: int64"
      ]
     },
     "execution_count": 157,
     "metadata": {},
     "output_type": "execute_result"
    }
   ],
   "source": [
    "consumer_survey[\"transport\"].value_counts()"
   ]
  },
  {
   "cell_type": "code",
   "execution_count": 158,
   "id": "7c46445f",
   "metadata": {},
   "outputs": [
    {
     "data": {
      "text/plain": [
       "'public'"
      ]
     },
     "execution_count": 158,
     "metadata": {},
     "output_type": "execute_result"
    }
   ],
   "source": [
    "consumer_survey[\"transport\"].mode()[0] "
   ]
  },
  {
   "cell_type": "code",
   "execution_count": 159,
   "id": "2d074baf",
   "metadata": {},
   "outputs": [],
   "source": [
    "transport_array = np.array(consumer_survey[\"transport\"])\n",
    "imputer = SimpleImputer(strategy = \"most_frequent\") #imputing data with mode value\n",
    "consumer_survey[\"transport\"] = imputer.fit_transform(transport_array .reshape(-1,1))"
   ]
  },
  {
   "cell_type": "code",
   "execution_count": 160,
   "id": "cfd85cab",
   "metadata": {},
   "outputs": [
    {
     "data": {
      "text/html": [
       "<div>\n",
       "<style scoped>\n",
       "    .dataframe tbody tr th:only-of-type {\n",
       "        vertical-align: middle;\n",
       "    }\n",
       "\n",
       "    .dataframe tbody tr th {\n",
       "        vertical-align: top;\n",
       "    }\n",
       "\n",
       "    .dataframe thead th {\n",
       "        text-align: right;\n",
       "    }\n",
       "</style>\n",
       "<table border=\"1\" class=\"dataframe\">\n",
       "  <thead>\n",
       "    <tr style=\"text-align: right;\">\n",
       "      <th></th>\n",
       "      <th>transport</th>\n",
       "    </tr>\n",
       "  </thead>\n",
       "  <tbody>\n",
       "    <tr>\n",
       "      <th>29</th>\n",
       "      <td>public</td>\n",
       "    </tr>\n",
       "    <tr>\n",
       "      <th>37</th>\n",
       "      <td>public</td>\n",
       "    </tr>\n",
       "    <tr>\n",
       "      <th>119</th>\n",
       "      <td>public</td>\n",
       "    </tr>\n",
       "  </tbody>\n",
       "</table>\n",
       "</div>"
      ],
      "text/plain": [
       "    transport\n",
       "29     public\n",
       "37     public\n",
       "119    public"
      ]
     },
     "execution_count": 160,
     "metadata": {},
     "output_type": "execute_result"
    }
   ],
   "source": [
    "consumer_survey.loc[[29, 37, 119],[\"transport\"]]"
   ]
  },
  {
   "cell_type": "markdown",
   "id": "30aeea70",
   "metadata": {},
   "source": [
    "### Impute with the mean value"
   ]
  },
  {
   "cell_type": "code",
   "execution_count": 161,
   "id": "89e9eecd",
   "metadata": {},
   "outputs": [],
   "source": [
    "#Convert AVERAGE_DINE_IN_PER_MONTH to numeric data type\n",
    "restaurant_details.Average_dine_in_per_month = pd.to_numeric(restaurant_details.Average_dine_in_per_month)"
   ]
  },
  {
   "cell_type": "code",
   "execution_count": 162,
   "id": "e0a435f1",
   "metadata": {},
   "outputs": [
    {
     "data": {
      "text/plain": [
       "[]"
      ]
     },
     "execution_count": 162,
     "metadata": {},
     "output_type": "execute_result"
    }
   ],
   "source": [
    "#Which rows contain NA values?\n",
    "df = restaurant_details.loc[:,[\"Average_dine_in_per_month\"]]\n",
    "df[df.isna().any(axis = 1)].index.tolist()"
   ]
  },
  {
   "cell_type": "code",
   "execution_count": 163,
   "id": "eb1bb9ca",
   "metadata": {},
   "outputs": [
    {
     "data": {
      "text/html": [
       "<div>\n",
       "<style scoped>\n",
       "    .dataframe tbody tr th:only-of-type {\n",
       "        vertical-align: middle;\n",
       "    }\n",
       "\n",
       "    .dataframe tbody tr th {\n",
       "        vertical-align: top;\n",
       "    }\n",
       "\n",
       "    .dataframe thead th {\n",
       "        text-align: right;\n",
       "    }\n",
       "</style>\n",
       "<table border=\"1\" class=\"dataframe\">\n",
       "  <thead>\n",
       "    <tr style=\"text-align: right;\">\n",
       "      <th></th>\n",
       "      <th>Average_dine_in_per_month</th>\n",
       "      <th>state</th>\n",
       "    </tr>\n",
       "  </thead>\n",
       "  <tbody>\n",
       "    <tr>\n",
       "      <th>21</th>\n",
       "      <td>652</td>\n",
       "      <td>Morelos</td>\n",
       "    </tr>\n",
       "    <tr>\n",
       "      <th>26</th>\n",
       "      <td>443</td>\n",
       "      <td>San Luis Potosi</td>\n",
       "    </tr>\n",
       "    <tr>\n",
       "      <th>34</th>\n",
       "      <td>748</td>\n",
       "      <td>San Luis Potosi</td>\n",
       "    </tr>\n",
       "    <tr>\n",
       "      <th>43</th>\n",
       "      <td>765</td>\n",
       "      <td>Morelos</td>\n",
       "    </tr>\n",
       "  </tbody>\n",
       "</table>\n",
       "</div>"
      ],
      "text/plain": [
       "    Average_dine_in_per_month            state\n",
       "21                        652          Morelos\n",
       "26                        443  San Luis Potosi\n",
       "34                        748  San Luis Potosi\n",
       "43                        765          Morelos"
      ]
     },
     "execution_count": 163,
     "metadata": {},
     "output_type": "execute_result"
    }
   ],
   "source": [
    "restaurant_details.loc[[21, 26, 34, 43],[\"Average_dine_in_per_month\", \"state\"]]"
   ]
  },
  {
   "cell_type": "code",
   "execution_count": 164,
   "id": "74125cf5",
   "metadata": {},
   "outputs": [
    {
     "data": {
      "text/plain": [
       "Average_dine_in_per_month    651.563636\n",
       "dtype: float64"
      ]
     },
     "execution_count": 164,
     "metadata": {},
     "output_type": "execute_result"
    }
   ],
   "source": [
    "#Check the mean value. By default, NaN is skipped.\n",
    "restaurant_details[[\"Average_dine_in_per_month\"]].mean()"
   ]
  },
  {
   "cell_type": "code",
   "execution_count": 165,
   "id": "714f8e42",
   "metadata": {},
   "outputs": [],
   "source": [
    "average_dine_in_per_month_array = np.array(restaurant_details[\"Average_dine_in_per_month\"])\n",
    "imputer = SimpleImputer(strategy = \"mean\")\n",
    "restaurant_details[\"AVERAGE_DINE_IN_PER_MONTH_MEAN_IMPUTED\"] = imputer.fit_transform(average_dine_in_per_month_array.reshape(-1,1))"
   ]
  },
  {
   "cell_type": "code",
   "execution_count": 166,
   "id": "f97e8c36",
   "metadata": {},
   "outputs": [
    {
     "data": {
      "text/html": [
       "<div>\n",
       "<style scoped>\n",
       "    .dataframe tbody tr th:only-of-type {\n",
       "        vertical-align: middle;\n",
       "    }\n",
       "\n",
       "    .dataframe tbody tr th {\n",
       "        vertical-align: top;\n",
       "    }\n",
       "\n",
       "    .dataframe thead th {\n",
       "        text-align: right;\n",
       "    }\n",
       "</style>\n",
       "<table border=\"1\" class=\"dataframe\">\n",
       "  <thead>\n",
       "    <tr style=\"text-align: right;\">\n",
       "      <th></th>\n",
       "      <th>AVERAGE_DINE_IN_PER_MONTH_MEAN_IMPUTED</th>\n",
       "      <th>state</th>\n",
       "    </tr>\n",
       "  </thead>\n",
       "  <tbody>\n",
       "    <tr>\n",
       "      <th>21</th>\n",
       "      <td>652.0</td>\n",
       "      <td>Morelos</td>\n",
       "    </tr>\n",
       "    <tr>\n",
       "      <th>26</th>\n",
       "      <td>443.0</td>\n",
       "      <td>San Luis Potosi</td>\n",
       "    </tr>\n",
       "    <tr>\n",
       "      <th>34</th>\n",
       "      <td>748.0</td>\n",
       "      <td>San Luis Potosi</td>\n",
       "    </tr>\n",
       "    <tr>\n",
       "      <th>43</th>\n",
       "      <td>765.0</td>\n",
       "      <td>Morelos</td>\n",
       "    </tr>\n",
       "  </tbody>\n",
       "</table>\n",
       "</div>"
      ],
      "text/plain": [
       "    AVERAGE_DINE_IN_PER_MONTH_MEAN_IMPUTED            state\n",
       "21                                   652.0          Morelos\n",
       "26                                   443.0  San Luis Potosi\n",
       "34                                   748.0  San Luis Potosi\n",
       "43                                   765.0          Morelos"
      ]
     },
     "execution_count": 166,
     "metadata": {},
     "output_type": "execute_result"
    }
   ],
   "source": [
    "restaurant_details.loc[[21, 26, 34, 43],[\"AVERAGE_DINE_IN_PER_MONTH_MEAN_IMPUTED\", \"state\"]]"
   ]
  },
  {
   "cell_type": "code",
   "execution_count": 167,
   "id": "fd841371",
   "metadata": {},
   "outputs": [
    {
     "data": {
      "text/html": [
       "<div>\n",
       "<style scoped>\n",
       "    .dataframe tbody tr th:only-of-type {\n",
       "        vertical-align: middle;\n",
       "    }\n",
       "\n",
       "    .dataframe tbody tr th {\n",
       "        vertical-align: top;\n",
       "    }\n",
       "\n",
       "    .dataframe thead th {\n",
       "        text-align: right;\n",
       "    }\n",
       "</style>\n",
       "<table border=\"1\" class=\"dataframe\">\n",
       "  <thead>\n",
       "    <tr style=\"text-align: right;\">\n",
       "      <th></th>\n",
       "      <th>Average_dine_in_per_month</th>\n",
       "    </tr>\n",
       "    <tr>\n",
       "      <th>state</th>\n",
       "      <th></th>\n",
       "    </tr>\n",
       "  </thead>\n",
       "  <tbody>\n",
       "    <tr>\n",
       "      <th>Mexico</th>\n",
       "      <td>859.000000</td>\n",
       "    </tr>\n",
       "    <tr>\n",
       "      <th>Morelos</th>\n",
       "      <td>643.150000</td>\n",
       "    </tr>\n",
       "    <tr>\n",
       "      <th>San Luis Potosi</th>\n",
       "      <td>625.581081</td>\n",
       "    </tr>\n",
       "    <tr>\n",
       "      <th>Tamaulipas</th>\n",
       "      <td>777.133333</td>\n",
       "    </tr>\n",
       "  </tbody>\n",
       "</table>\n",
       "</div>"
      ],
      "text/plain": [
       "                 Average_dine_in_per_month\n",
       "state                                     \n",
       "Mexico                          859.000000\n",
       "Morelos                         643.150000\n",
       "San Luis Potosi                 625.581081\n",
       "Tamaulipas                      777.133333"
      ]
     },
     "execution_count": 167,
     "metadata": {},
     "output_type": "execute_result"
    }
   ],
   "source": [
    "#Mean average_dine_in_per_month in each state\n",
    "restaurant_details[[\"Average_dine_in_per_month\",\"state\"]].groupby(\"state\").mean()"
   ]
  },
  {
   "cell_type": "code",
   "execution_count": 168,
   "id": "45806369",
   "metadata": {},
   "outputs": [
    {
     "data": {
      "text/html": [
       "<div>\n",
       "<style scoped>\n",
       "    .dataframe tbody tr th:only-of-type {\n",
       "        vertical-align: middle;\n",
       "    }\n",
       "\n",
       "    .dataframe tbody tr th {\n",
       "        vertical-align: top;\n",
       "    }\n",
       "\n",
       "    .dataframe thead th {\n",
       "        text-align: right;\n",
       "    }\n",
       "</style>\n",
       "<table border=\"1\" class=\"dataframe\">\n",
       "  <thead>\n",
       "    <tr style=\"text-align: right;\">\n",
       "      <th></th>\n",
       "      <th>Average_dine_in_per_month</th>\n",
       "      <th>state</th>\n",
       "    </tr>\n",
       "  </thead>\n",
       "  <tbody>\n",
       "    <tr>\n",
       "      <th>21</th>\n",
       "      <td>652</td>\n",
       "      <td>Morelos</td>\n",
       "    </tr>\n",
       "    <tr>\n",
       "      <th>26</th>\n",
       "      <td>443</td>\n",
       "      <td>San Luis Potosi</td>\n",
       "    </tr>\n",
       "    <tr>\n",
       "      <th>34</th>\n",
       "      <td>748</td>\n",
       "      <td>San Luis Potosi</td>\n",
       "    </tr>\n",
       "    <tr>\n",
       "      <th>43</th>\n",
       "      <td>765</td>\n",
       "      <td>Morelos</td>\n",
       "    </tr>\n",
       "  </tbody>\n",
       "</table>\n",
       "</div>"
      ],
      "text/plain": [
       "    Average_dine_in_per_month            state\n",
       "21                        652          Morelos\n",
       "26                        443  San Luis Potosi\n",
       "34                        748  San Luis Potosi\n",
       "43                        765          Morelos"
      ]
     },
     "execution_count": 168,
     "metadata": {},
     "output_type": "execute_result"
    }
   ],
   "source": [
    "restaurant_details.loc[[21, 26, 34, 43],[\"Average_dine_in_per_month\",\"state\"]]"
   ]
  },
  {
   "cell_type": "code",
   "execution_count": 169,
   "id": "d7db1a00",
   "metadata": {},
   "outputs": [
    {
     "data": {
      "text/html": [
       "<div>\n",
       "<style scoped>\n",
       "    .dataframe tbody tr th:only-of-type {\n",
       "        vertical-align: middle;\n",
       "    }\n",
       "\n",
       "    .dataframe tbody tr th {\n",
       "        vertical-align: top;\n",
       "    }\n",
       "\n",
       "    .dataframe thead th {\n",
       "        text-align: right;\n",
       "    }\n",
       "</style>\n",
       "<table border=\"1\" class=\"dataframe\">\n",
       "  <thead>\n",
       "    <tr style=\"text-align: right;\">\n",
       "      <th></th>\n",
       "      <th>Average_dine_in_per_month</th>\n",
       "      <th>state</th>\n",
       "    </tr>\n",
       "  </thead>\n",
       "  <tbody>\n",
       "    <tr>\n",
       "      <th>21</th>\n",
       "      <td>652</td>\n",
       "      <td>Morelos</td>\n",
       "    </tr>\n",
       "    <tr>\n",
       "      <th>26</th>\n",
       "      <td>443</td>\n",
       "      <td>San Luis Potosi</td>\n",
       "    </tr>\n",
       "    <tr>\n",
       "      <th>34</th>\n",
       "      <td>748</td>\n",
       "      <td>San Luis Potosi</td>\n",
       "    </tr>\n",
       "    <tr>\n",
       "      <th>43</th>\n",
       "      <td>765</td>\n",
       "      <td>Morelos</td>\n",
       "    </tr>\n",
       "  </tbody>\n",
       "</table>\n",
       "</div>"
      ],
      "text/plain": [
       "    Average_dine_in_per_month            state\n",
       "21                        652          Morelos\n",
       "26                        443  San Luis Potosi\n",
       "34                        748  San Luis Potosi\n",
       "43                        765          Morelos"
      ]
     },
     "execution_count": 169,
     "metadata": {},
     "output_type": "execute_result"
    }
   ],
   "source": [
    "grouped_restaurant_details = restaurant_details[[\"Average_dine_in_per_month\",\"state\"]].groupby(\"state\")\n",
    "mean_updated = grouped_restaurant_details.transform(lambda x: x.fillna(x.mean()))\n",
    "mean_updated[\"state\"] = restaurant_details[\"state\"]\n",
    "mean_updated.loc[[21, 26, 34, 43],:]"
   ]
  },
  {
   "cell_type": "code",
   "execution_count": null,
   "id": "a3544e82",
   "metadata": {},
   "outputs": [],
   "source": [
    "#imputing with median values"
   ]
  },
  {
   "cell_type": "code",
   "execution_count": 47,
   "id": "a8e85aa2",
   "metadata": {},
   "outputs": [
    {
     "data": {
      "text/plain": [
       "[]"
      ]
     },
     "execution_count": 47,
     "metadata": {},
     "output_type": "execute_result"
    }
   ],
   "source": [
    "#Which rows contain NA values?\n",
    "df = restaurant_details.loc[:,[\"Average_dine_in_per_month\"]]\n",
    "df.loc[df.isna().sum(1)>=1].index.tolist()"
   ]
  },
  {
   "cell_type": "code",
   "execution_count": 48,
   "id": "5d0ead6d",
   "metadata": {},
   "outputs": [
    {
     "data": {
      "text/html": [
       "<div>\n",
       "<style scoped>\n",
       "    .dataframe tbody tr th:only-of-type {\n",
       "        vertical-align: middle;\n",
       "    }\n",
       "\n",
       "    .dataframe tbody tr th {\n",
       "        vertical-align: top;\n",
       "    }\n",
       "\n",
       "    .dataframe thead th {\n",
       "        text-align: right;\n",
       "    }\n",
       "</style>\n",
       "<table border=\"1\" class=\"dataframe\">\n",
       "  <thead>\n",
       "    <tr style=\"text-align: right;\">\n",
       "      <th></th>\n",
       "      <th>Average_dine_in_per_month</th>\n",
       "      <th>state</th>\n",
       "    </tr>\n",
       "  </thead>\n",
       "  <tbody>\n",
       "    <tr>\n",
       "      <th>21</th>\n",
       "      <td>485</td>\n",
       "      <td>San Luis Potosi</td>\n",
       "    </tr>\n",
       "    <tr>\n",
       "      <th>26</th>\n",
       "      <td>917</td>\n",
       "      <td>Morelos</td>\n",
       "    </tr>\n",
       "    <tr>\n",
       "      <th>34</th>\n",
       "      <td>344</td>\n",
       "      <td>San Luis Potosi</td>\n",
       "    </tr>\n",
       "    <tr>\n",
       "      <th>43</th>\n",
       "      <td>713</td>\n",
       "      <td></td>\n",
       "    </tr>\n",
       "  </tbody>\n",
       "</table>\n",
       "</div>"
      ],
      "text/plain": [
       "    Average_dine_in_per_month            state\n",
       "21                        485  San Luis Potosi\n",
       "26                        917          Morelos\n",
       "34                        344  San Luis Potosi\n",
       "43                        713                 "
      ]
     },
     "execution_count": 48,
     "metadata": {},
     "output_type": "execute_result"
    }
   ],
   "source": [
    "restaurant_details.loc[[21, 26, 34, 43],[\"Average_dine_in_per_month\", \"state\"]]\n",
    "#verifying if these rows contain nan values and updating with corresponding median values\n",
    "#for each state"
   ]
  },
  {
   "cell_type": "code",
   "execution_count": 49,
   "id": "5fe4662b",
   "metadata": {},
   "outputs": [
    {
     "data": {
      "text/plain": [
       "679.0"
      ]
     },
     "execution_count": 49,
     "metadata": {},
     "output_type": "execute_result"
    }
   ],
   "source": [
    "#Check the median value. By default, NaN is skipped.\n",
    "restaurant_details[[\"Average_dine_in_per_month\"]].median()[0]"
   ]
  },
  {
   "cell_type": "code",
   "execution_count": 50,
   "id": "e1743284",
   "metadata": {},
   "outputs": [],
   "source": [
    "import numpy as np\n",
    "from sklearn.impute import SimpleImputer\n",
    "#storing imputed values in another coloumn\n",
    "average_dine_in_per_month_array = np.array(restaurant_details[\"Average_dine_in_per_month\"])\n",
    "imputer = SimpleImputer(strategy = \"median\")\n",
    "restaurant_details[\"AVERAGE_DINE_IN_PER_MONTH_MEDIAN_IMPUTED\"] = imputer.fit_transform(average_dine_in_per_month_array.reshape(-1,1))"
   ]
  },
  {
   "cell_type": "code",
   "execution_count": 51,
   "id": "9ba8f0a5",
   "metadata": {},
   "outputs": [
    {
     "data": {
      "text/html": [
       "<div>\n",
       "<style scoped>\n",
       "    .dataframe tbody tr th:only-of-type {\n",
       "        vertical-align: middle;\n",
       "    }\n",
       "\n",
       "    .dataframe tbody tr th {\n",
       "        vertical-align: top;\n",
       "    }\n",
       "\n",
       "    .dataframe thead th {\n",
       "        text-align: right;\n",
       "    }\n",
       "</style>\n",
       "<table border=\"1\" class=\"dataframe\">\n",
       "  <thead>\n",
       "    <tr style=\"text-align: right;\">\n",
       "      <th></th>\n",
       "      <th>AVERAGE_DINE_IN_PER_MONTH_MEDIAN_IMPUTED</th>\n",
       "      <th>state</th>\n",
       "    </tr>\n",
       "  </thead>\n",
       "  <tbody>\n",
       "    <tr>\n",
       "      <th>21</th>\n",
       "      <td>485.0</td>\n",
       "      <td>San Luis Potosi</td>\n",
       "    </tr>\n",
       "    <tr>\n",
       "      <th>26</th>\n",
       "      <td>917.0</td>\n",
       "      <td>Morelos</td>\n",
       "    </tr>\n",
       "    <tr>\n",
       "      <th>34</th>\n",
       "      <td>344.0</td>\n",
       "      <td>San Luis Potosi</td>\n",
       "    </tr>\n",
       "    <tr>\n",
       "      <th>43</th>\n",
       "      <td>713.0</td>\n",
       "      <td></td>\n",
       "    </tr>\n",
       "  </tbody>\n",
       "</table>\n",
       "</div>"
      ],
      "text/plain": [
       "    AVERAGE_DINE_IN_PER_MONTH_MEDIAN_IMPUTED            state\n",
       "21                                     485.0  San Luis Potosi\n",
       "26                                     917.0          Morelos\n",
       "34                                     344.0  San Luis Potosi\n",
       "43                                     713.0                 "
      ]
     },
     "execution_count": 51,
     "metadata": {},
     "output_type": "execute_result"
    }
   ],
   "source": [
    "#checking if the values are imputed\n",
    "restaurant_details.loc[[21, 26, 34, 43],[\"AVERAGE_DINE_IN_PER_MONTH_MEDIAN_IMPUTED\", \"state\"]]"
   ]
  },
  {
   "cell_type": "code",
   "execution_count": 52,
   "id": "6feaf0fa",
   "metadata": {},
   "outputs": [
    {
     "data": {
      "text/html": [
       "<div>\n",
       "<style scoped>\n",
       "    .dataframe tbody tr th:only-of-type {\n",
       "        vertical-align: middle;\n",
       "    }\n",
       "\n",
       "    .dataframe tbody tr th {\n",
       "        vertical-align: top;\n",
       "    }\n",
       "\n",
       "    .dataframe thead th {\n",
       "        text-align: right;\n",
       "    }\n",
       "</style>\n",
       "<table border=\"1\" class=\"dataframe\">\n",
       "  <thead>\n",
       "    <tr style=\"text-align: right;\">\n",
       "      <th></th>\n",
       "      <th>Average_dine_in_per_month</th>\n",
       "    </tr>\n",
       "    <tr>\n",
       "      <th>state</th>\n",
       "      <th></th>\n",
       "    </tr>\n",
       "  </thead>\n",
       "  <tbody>\n",
       "    <tr>\n",
       "      <th></th>\n",
       "      <td>745.0</td>\n",
       "    </tr>\n",
       "    <tr>\n",
       "      <th>Mexico</th>\n",
       "      <td>834.5</td>\n",
       "    </tr>\n",
       "    <tr>\n",
       "      <th>Morelos</th>\n",
       "      <td>642.0</td>\n",
       "    </tr>\n",
       "    <tr>\n",
       "      <th>San Luis Potosi</th>\n",
       "      <td>618.5</td>\n",
       "    </tr>\n",
       "    <tr>\n",
       "      <th>Tamaulipas</th>\n",
       "      <td>735.5</td>\n",
       "    </tr>\n",
       "  </tbody>\n",
       "</table>\n",
       "</div>"
      ],
      "text/plain": [
       "                 Average_dine_in_per_month\n",
       "state                                     \n",
       "                                     745.0\n",
       "Mexico                               834.5\n",
       "Morelos                              642.0\n",
       "San Luis Potosi                      618.5\n",
       "Tamaulipas                           735.5"
      ]
     },
     "execution_count": 52,
     "metadata": {},
     "output_type": "execute_result"
    }
   ],
   "source": [
    "#Median average_dine_in_per_month in each state\n",
    "restaurant_details[[\"Average_dine_in_per_month\",\"state\"]].groupby(\"state\").median()"
   ]
  },
  {
   "cell_type": "code",
   "execution_count": 53,
   "id": "38f37077",
   "metadata": {},
   "outputs": [
    {
     "data": {
      "text/html": [
       "<div>\n",
       "<style scoped>\n",
       "    .dataframe tbody tr th:only-of-type {\n",
       "        vertical-align: middle;\n",
       "    }\n",
       "\n",
       "    .dataframe tbody tr th {\n",
       "        vertical-align: top;\n",
       "    }\n",
       "\n",
       "    .dataframe thead th {\n",
       "        text-align: right;\n",
       "    }\n",
       "</style>\n",
       "<table border=\"1\" class=\"dataframe\">\n",
       "  <thead>\n",
       "    <tr style=\"text-align: right;\">\n",
       "      <th></th>\n",
       "      <th>Average_dine_in_per_month</th>\n",
       "      <th>state</th>\n",
       "    </tr>\n",
       "  </thead>\n",
       "  <tbody>\n",
       "    <tr>\n",
       "      <th>21</th>\n",
       "      <td>485</td>\n",
       "      <td>San Luis Potosi</td>\n",
       "    </tr>\n",
       "    <tr>\n",
       "      <th>26</th>\n",
       "      <td>917</td>\n",
       "      <td>Morelos</td>\n",
       "    </tr>\n",
       "    <tr>\n",
       "      <th>34</th>\n",
       "      <td>344</td>\n",
       "      <td>San Luis Potosi</td>\n",
       "    </tr>\n",
       "    <tr>\n",
       "      <th>43</th>\n",
       "      <td>713</td>\n",
       "      <td></td>\n",
       "    </tr>\n",
       "  </tbody>\n",
       "</table>\n",
       "</div>"
      ],
      "text/plain": [
       "    Average_dine_in_per_month            state\n",
       "21                        485  San Luis Potosi\n",
       "26                        917          Morelos\n",
       "34                        344  San Luis Potosi\n",
       "43                        713                 "
      ]
     },
     "execution_count": 53,
     "metadata": {},
     "output_type": "execute_result"
    }
   ],
   "source": [
    "restaurant_details.loc[[21, 26, 34, 43],[\"Average_dine_in_per_month\",\"state\"]]"
   ]
  },
  {
   "cell_type": "code",
   "execution_count": 55,
   "id": "d5939906",
   "metadata": {},
   "outputs": [],
   "source": [
    "#Update the state column to remove inconsistancies\n",
    "restaurant_details[\"state\"] = [\"Tamaulipas\" if x in [\" tamaulipas \",\" Tamaulipas \"] else x for x in restaurant_details[\"state\"]]\n",
    "restaurant_details[\"state\"] = [\"Morelos\" if x in [\" morelos \",\" Morelos \"] else x for x in restaurant_details[\"state\"]]\n",
    "restaurant_details[\"state\"] = [\"San Luis Potosi\" if x in [\" s.l.p. \",\" SLP \",\" san luis potosi \",\" slp \",\" S.L.P. \",\" san luis potos \",\" San Luis Potosi \"] else x for x in restaurant_details[\"state\"]]\n",
    "restaurant_details[\"state\"] = [\"Mexico\" if x in [\" mexico \",\" Mexico \"] else x for x in restaurant_details[\"state\"]]"
   ]
  },
  {
   "cell_type": "code",
   "execution_count": 57,
   "id": "4008211f",
   "metadata": {},
   "outputs": [
    {
     "data": {
      "text/plain": [
       "San Luis Potosi    74\n",
       "Morelos            20\n",
       "                   18\n",
       "Tamaulipas         16\n",
       "Mexico              2\n",
       "Name: state, dtype: int64"
      ]
     },
     "execution_count": 57,
     "metadata": {},
     "output_type": "execute_result"
    }
   ],
   "source": [
    "#Check the different kind of states available\n",
    "restaurant_details[\"state\"].value_counts()"
   ]
  },
  {
   "cell_type": "code",
   "execution_count": 60,
   "id": "7ca34385",
   "metadata": {},
   "outputs": [
    {
     "data": {
      "text/html": [
       "<div>\n",
       "<style scoped>\n",
       "    .dataframe tbody tr th:only-of-type {\n",
       "        vertical-align: middle;\n",
       "    }\n",
       "\n",
       "    .dataframe tbody tr th {\n",
       "        vertical-align: top;\n",
       "    }\n",
       "\n",
       "    .dataframe thead th {\n",
       "        text-align: right;\n",
       "    }\n",
       "</style>\n",
       "<table border=\"1\" class=\"dataframe\">\n",
       "  <thead>\n",
       "    <tr style=\"text-align: right;\">\n",
       "      <th></th>\n",
       "      <th>Average_dine_in_per_month</th>\n",
       "      <th>state</th>\n",
       "    </tr>\n",
       "  </thead>\n",
       "  <tbody>\n",
       "    <tr>\n",
       "      <th>21</th>\n",
       "      <td>485</td>\n",
       "      <td>San Luis Potosi</td>\n",
       "    </tr>\n",
       "    <tr>\n",
       "      <th>26</th>\n",
       "      <td>917</td>\n",
       "      <td>Morelos</td>\n",
       "    </tr>\n",
       "    <tr>\n",
       "      <th>34</th>\n",
       "      <td>344</td>\n",
       "      <td>San Luis Potosi</td>\n",
       "    </tr>\n",
       "    <tr>\n",
       "      <th>43</th>\n",
       "      <td>713</td>\n",
       "      <td></td>\n",
       "    </tr>\n",
       "  </tbody>\n",
       "</table>\n",
       "</div>"
      ],
      "text/plain": [
       "    Average_dine_in_per_month            state\n",
       "21                        485  San Luis Potosi\n",
       "26                        917          Morelos\n",
       "34                        344  San Luis Potosi\n",
       "43                        713                 "
      ]
     },
     "execution_count": 60,
     "metadata": {},
     "output_type": "execute_result"
    }
   ],
   "source": [
    "#why are some states missing here ?-->doubt\n",
    "grouped_restaurant_details = restaurant_details[[\"Average_dine_in_per_month\",\"state\"]].groupby(\"state\")\n",
    "median_updated = grouped_restaurant_details.transform(lambda x: x.fillna(x.median()))\n",
    "median_updated[\"state\"] = restaurant_details[\"state\"]\n",
    "median_updated.loc[[21, 26, 34, 43],:]"
   ]
  },
  {
   "cell_type": "code",
   "execution_count": 61,
   "id": "7c4e588a",
   "metadata": {},
   "outputs": [
    {
     "name": "stdout",
     "output_type": "stream",
     "text": [
      "['placeID' 'name' 'address' 'state' 'country' 'zip' 'alcohol'\n",
      " 'smoking_area' 'price' 'area' 'other_services' 'Region'\n",
      " 'Average_dine_in_per_month' 'AVERAGE_DINE_IN_PER_MONTH_MEDIAN_IMPUTED'\n",
      " 'AVERAGE_DINE_IN_PER_MONTH_MEAN_IMPUTED']\n"
     ]
    }
   ],
   "source": [
    "#merging data\n",
    "print(restaurant_details.columns.values) #displaying coloumn values"
   ]
  },
  {
   "cell_type": "code",
   "execution_count": 64,
   "id": "1198ef67",
   "metadata": {},
   "outputs": [
    {
     "name": "stdout",
     "output_type": "stream",
     "text": [
      "['placeID' 'Rcuisine']\n"
     ]
    }
   ],
   "source": [
    "print(restaurant_cuisine.columns.values)"
   ]
  },
  {
   "cell_type": "code",
   "execution_count": 13,
   "id": "20337585",
   "metadata": {},
   "outputs": [
    {
     "name": "stdout",
     "output_type": "stream",
     "text": [
      "['placeID' 'name' 'address' 'state' 'country' 'zip' 'alcohol'\n",
      " 'smoking_area' 'price' 'area' 'other_services' 'Region'\n",
      " 'Average_dine_in_per_month' 'Rcuisine']\n"
     ]
    }
   ],
   "source": [
    "restaurant_details_cuisine = pd.merge(restaurant_details,restaurant_cuisine.set_index('placeID'), \n",
    "                                      left_on= 'placeID',right_index=True, how = 'inner')\n",
    "print(restaurant_details_cuisine.columns.values)\n",
    "#inner is the default value\n",
    "#placeID is the joining key that is common in the 2 data sets restaurant details and \n",
    "#restaurant cuisine.\n",
    "#inner ensures that only common rows from both the data sets are placed in the merged dataset"
   ]
  },
  {
   "cell_type": "code",
   "execution_count": 68,
   "id": "a2801cef",
   "metadata": {},
   "outputs": [
    {
     "data": {
      "text/plain": [
       "130"
      ]
     },
     "execution_count": 68,
     "metadata": {},
     "output_type": "execute_result"
    }
   ],
   "source": [
    "#print(restaurant_details.shape) #counting no.of rows\n",
    "restaurant_details['placeID'].count()"
   ]
  },
  {
   "cell_type": "code",
   "execution_count": 69,
   "id": "93861231",
   "metadata": {},
   "outputs": [
    {
     "data": {
      "text/plain": [
       "916"
      ]
     },
     "execution_count": 69,
     "metadata": {},
     "output_type": "execute_result"
    }
   ],
   "source": [
    "#print(resturant_cuisine.shape)\n",
    "restaurant_cuisine['placeID'].count()"
   ]
  },
  {
   "cell_type": "code",
   "execution_count": 70,
   "id": "805e78e8",
   "metadata": {},
   "outputs": [
    {
     "data": {
      "text/plain": [
       "112"
      ]
     },
     "execution_count": 70,
     "metadata": {},
     "output_type": "execute_result"
    }
   ],
   "source": [
    "#print(details_cuisine.shape)\n",
    "restaurant_details_cuisine['placeID'].count()"
   ]
  },
  {
   "cell_type": "code",
   "execution_count": 73,
   "id": "230b7760",
   "metadata": {
    "scrolled": true
   },
   "outputs": [
    {
     "name": "stdout",
     "output_type": "stream",
     "text": [
      "['placeID' 'parking_lot']\n"
     ]
    }
   ],
   "source": [
    "#Merge restaurant_details_cuisine and restaurant_parking\n",
    "print(restaurant_parking.columns.values)"
   ]
  },
  {
   "cell_type": "code",
   "execution_count": 9,
   "id": "094c1269",
   "metadata": {},
   "outputs": [],
   "source": [
    "import pandas as pd"
   ]
  },
  {
   "cell_type": "code",
   "execution_count": 16,
   "id": "44bd0a9a",
   "metadata": {
    "scrolled": true
   },
   "outputs": [
    {
     "name": "stdout",
     "output_type": "stream",
     "text": [
      "['placeID' 'name' 'address' 'state' 'country' 'zip' 'alcohol'\n",
      " 'smoking_area' 'price' 'area' 'other_services' 'Region'\n",
      " 'Average_dine_in_per_month' 'Rcuisine' 'parking_lot']\n"
     ]
    }
   ],
   "source": [
    "restaurant_details_cuisine_parking = pd.merge(restaurant_details_cuisine,restaurant_parking.set_index('placeID'), left_on= 'placeID',right_index=True)\n",
    "print(restaurant_details_cuisine_parking.columns.values)\n",
    "#parking lot has been merged"
   ]
  },
  {
   "cell_type": "code",
   "execution_count": 17,
   "id": "1095de2a",
   "metadata": {},
   "outputs": [
    {
     "data": {
      "text/html": [
       "<div>\n",
       "<style scoped>\n",
       "    .dataframe tbody tr th:only-of-type {\n",
       "        vertical-align: middle;\n",
       "    }\n",
       "\n",
       "    .dataframe tbody tr th {\n",
       "        vertical-align: top;\n",
       "    }\n",
       "\n",
       "    .dataframe thead th {\n",
       "        text-align: right;\n",
       "    }\n",
       "</style>\n",
       "<table border=\"1\" class=\"dataframe\">\n",
       "  <thead>\n",
       "    <tr style=\"text-align: right;\">\n",
       "      <th></th>\n",
       "      <th>placeID</th>\n",
       "      <th>name</th>\n",
       "      <th>Rcuisine</th>\n",
       "      <th>parking_lot</th>\n",
       "    </tr>\n",
       "  </thead>\n",
       "  <tbody>\n",
       "    <tr>\n",
       "      <th>0</th>\n",
       "      <td>134999</td>\n",
       "      <td>Kiku Cuernavaca</td>\n",
       "      <td>Japanese</td>\n",
       "      <td>none</td>\n",
       "    </tr>\n",
       "    <tr>\n",
       "      <th>1</th>\n",
       "      <td>132825</td>\n",
       "      <td>puesto de tacos</td>\n",
       "      <td>Mexican</td>\n",
       "      <td>none</td>\n",
       "    </tr>\n",
       "    <tr>\n",
       "      <th>2</th>\n",
       "      <td>135106</td>\n",
       "      <td>El Rincon de San Francisco</td>\n",
       "      <td>Mexican</td>\n",
       "      <td>none</td>\n",
       "    </tr>\n",
       "    <tr>\n",
       "      <th>3</th>\n",
       "      <td>132667</td>\n",
       "      <td>little pizza Emilio Portes Gil</td>\n",
       "      <td>Armenian</td>\n",
       "      <td>none</td>\n",
       "    </tr>\n",
       "    <tr>\n",
       "      <th>4</th>\n",
       "      <td>132613</td>\n",
       "      <td>carnitas_mata</td>\n",
       "      <td>Mexican</td>\n",
       "      <td>yes</td>\n",
       "    </tr>\n",
       "  </tbody>\n",
       "</table>\n",
       "</div>"
      ],
      "text/plain": [
       "   placeID                              name  Rcuisine parking_lot\n",
       "0   134999                  Kiku Cuernavaca   Japanese        none\n",
       "1   132825                  puesto de tacos    Mexican        none\n",
       "2   135106       El Rincon de San Francisco    Mexican        none\n",
       "3   132667   little pizza Emilio Portes Gil   Armenian        none\n",
       "4   132613                    carnitas_mata    Mexican         yes"
      ]
     },
     "execution_count": 17,
     "metadata": {},
     "output_type": "execute_result"
    }
   ],
   "source": [
    "#Display placeid, name, cuisine and parkin_lot info\n",
    "restaurant_details_cuisine_parking.loc[:,['placeID','name','Rcuisine','parking_lot']].head()"
   ]
  },
  {
   "cell_type": "code",
   "execution_count": 18,
   "id": "c16f46c1",
   "metadata": {},
   "outputs": [
    {
     "data": {
      "text/plain": [
       "Mexican             28\n",
       "Bar                 13\n",
       "Cafeteria            9\n",
       "Fast_Food            8\n",
       "Bar_Pub_Brewery      6\n",
       "Japanese             5\n",
       "Seafood              5\n",
       "Pizzeria             5\n",
       "Burgers              5\n",
       "American             5\n",
       "International        4\n",
       "Italian              4\n",
       "Chinese              3\n",
       "Family               2\n",
       "Contemporary         2\n",
       "Game                 1\n",
       "Armenian             1\n",
       "Cafe-Coffee_Shop     1\n",
       "Breakfast-Brunch     1\n",
       "Vietnamese           1\n",
       "Regional             1\n",
       "Mediterranean        1\n",
       "Bakery               1\n",
       "Name: Rcuisine, dtype: int64"
      ]
     },
     "execution_count": 18,
     "metadata": {},
     "output_type": "execute_result"
    }
   ],
   "source": [
    "#Check the various cuisines and their value counts\n",
    "restaurant_details_cuisine_parking['Rcuisine'].value_counts()"
   ]
  },
  {
   "cell_type": "code",
   "execution_count": 19,
   "id": "4d1fa9f4",
   "metadata": {},
   "outputs": [
    {
     "data": {
      "text/plain": [
       "none             49\n",
       "yes              44\n",
       "public           17\n",
       "valet parking     2\n",
       "Name: parking_lot, dtype: int64"
      ]
     },
     "execution_count": 19,
     "metadata": {},
     "output_type": "execute_result"
    }
   ],
   "source": [
    "#Check the various kinds of parking lots and their value counts\n",
    "restaurant_details_cuisine_parking['parking_lot'].value_counts()"
   ]
  },
  {
   "cell_type": "code",
   "execution_count": 20,
   "id": "b5659d61",
   "metadata": {},
   "outputs": [
    {
     "data": {
      "text/html": [
       "<div>\n",
       "<style scoped>\n",
       "    .dataframe tbody tr th:only-of-type {\n",
       "        vertical-align: middle;\n",
       "    }\n",
       "\n",
       "    .dataframe tbody tr th {\n",
       "        vertical-align: top;\n",
       "    }\n",
       "\n",
       "    .dataframe thead th {\n",
       "        text-align: right;\n",
       "    }\n",
       "</style>\n",
       "<table border=\"1\" class=\"dataframe\">\n",
       "  <thead>\n",
       "    <tr style=\"text-align: right;\">\n",
       "      <th></th>\n",
       "      <th>placeID</th>\n",
       "      <th>name</th>\n",
       "      <th>Rcuisine</th>\n",
       "      <th>parking_lot</th>\n",
       "    </tr>\n",
       "  </thead>\n",
       "  <tbody>\n",
       "    <tr>\n",
       "      <th>41</th>\n",
       "      <td>132608</td>\n",
       "      <td>Hamburguesas La perica</td>\n",
       "      <td>Mexican</td>\n",
       "      <td>public</td>\n",
       "    </tr>\n",
       "    <tr>\n",
       "      <th>62</th>\n",
       "      <td>132723</td>\n",
       "      <td>Gordas de morales</td>\n",
       "      <td>Mexican</td>\n",
       "      <td>public</td>\n",
       "    </tr>\n",
       "    <tr>\n",
       "      <th>80</th>\n",
       "      <td>132834</td>\n",
       "      <td>Gorditas Doa Gloria</td>\n",
       "      <td>Mexican</td>\n",
       "      <td>public</td>\n",
       "    </tr>\n",
       "    <tr>\n",
       "      <th>89</th>\n",
       "      <td>132706</td>\n",
       "      <td>Gorditas Dona Tota</td>\n",
       "      <td>Mexican</td>\n",
       "      <td>public</td>\n",
       "    </tr>\n",
       "    <tr>\n",
       "      <th>101</th>\n",
       "      <td>132755</td>\n",
       "      <td>La Estrella de Dimas</td>\n",
       "      <td>Mexican</td>\n",
       "      <td>public</td>\n",
       "    </tr>\n",
       "    <tr>\n",
       "      <th>111</th>\n",
       "      <td>132594</td>\n",
       "      <td>tacos de barbacoa enfrente del Tec</td>\n",
       "      <td>Mexican</td>\n",
       "      <td>public</td>\n",
       "    </tr>\n",
       "  </tbody>\n",
       "</table>\n",
       "</div>"
      ],
      "text/plain": [
       "     placeID                                  name Rcuisine parking_lot\n",
       "41    132608               Hamburguesas La perica   Mexican      public\n",
       "62    132723                    Gordas de morales   Mexican      public\n",
       "80    132834                  Gorditas Doa Gloria   Mexican      public\n",
       "89    132706                   Gorditas Dona Tota   Mexican      public\n",
       "101   132755                 La Estrella de Dimas   Mexican      public\n",
       "111   132594   tacos de barbacoa enfrente del Tec   Mexican      public"
      ]
     },
     "execution_count": 20,
     "metadata": {},
     "output_type": "execute_result"
    }
   ],
   "source": [
    "#Sub-setting data frame - Mexican cuisine, with public parking\n",
    "subset = restaurant_details_cuisine_parking.loc[(restaurant_details_cuisine_parking.\n",
    "                                                 Rcuisine == 'Mexican') & \n",
    "                                                (restaurant_details_cuisine_parking.parking_lot == 'public'),\n",
    "                                                ['placeID', 'name','Rcuisine','parking_lot']]\n",
    "subset\n",
    "#mexican with public"
   ]
  },
  {
   "cell_type": "code",
   "execution_count": 25,
   "id": "5e8f0843",
   "metadata": {},
   "outputs": [
    {
     "data": {
      "text/html": [
       "<div>\n",
       "<style scoped>\n",
       "    .dataframe tbody tr th:only-of-type {\n",
       "        vertical-align: middle;\n",
       "    }\n",
       "\n",
       "    .dataframe tbody tr th {\n",
       "        vertical-align: top;\n",
       "    }\n",
       "\n",
       "    .dataframe thead th {\n",
       "        text-align: right;\n",
       "    }\n",
       "</style>\n",
       "<table border=\"1\" class=\"dataframe\">\n",
       "  <thead>\n",
       "    <tr style=\"text-align: right;\">\n",
       "      <th></th>\n",
       "      <th>name</th>\n",
       "      <th>Rcuisine</th>\n",
       "      <th>parking_lot</th>\n",
       "    </tr>\n",
       "  </thead>\n",
       "  <tbody>\n",
       "    <tr>\n",
       "      <th>1</th>\n",
       "      <td>puesto de tacos</td>\n",
       "      <td>Mexican</td>\n",
       "      <td>none</td>\n",
       "    </tr>\n",
       "    <tr>\n",
       "      <th>2</th>\n",
       "      <td>El Rincon de San Francisco</td>\n",
       "      <td>Mexican</td>\n",
       "      <td>none</td>\n",
       "    </tr>\n",
       "    <tr>\n",
       "      <th>4</th>\n",
       "      <td>carnitas_mata</td>\n",
       "      <td>Mexican</td>\n",
       "      <td>yes</td>\n",
       "    </tr>\n",
       "    <tr>\n",
       "      <th>6</th>\n",
       "      <td>Taqueria EL amigo</td>\n",
       "      <td>Mexican</td>\n",
       "      <td>none</td>\n",
       "    </tr>\n",
       "    <tr>\n",
       "      <th>19</th>\n",
       "      <td>TACOS EL GUERO</td>\n",
       "      <td>Mexican</td>\n",
       "      <td>none</td>\n",
       "    </tr>\n",
       "    <tr>\n",
       "      <th>23</th>\n",
       "      <td>KFC</td>\n",
       "      <td>American</td>\n",
       "      <td>yes</td>\n",
       "    </tr>\n",
       "    <tr>\n",
       "      <th>34</th>\n",
       "      <td>El Rincon de San Francisco</td>\n",
       "      <td>Mexican</td>\n",
       "      <td>none</td>\n",
       "    </tr>\n",
       "    <tr>\n",
       "      <th>41</th>\n",
       "      <td>Hamburguesas La perica</td>\n",
       "      <td>Mexican</td>\n",
       "      <td>public</td>\n",
       "    </tr>\n",
       "    <tr>\n",
       "      <th>45</th>\n",
       "      <td>el pueblito</td>\n",
       "      <td>Mexican</td>\n",
       "      <td>none</td>\n",
       "    </tr>\n",
       "    <tr>\n",
       "      <th>55</th>\n",
       "      <td>la Cochinita Pibil Restaurante Yucateco</td>\n",
       "      <td>Mexican</td>\n",
       "      <td>yes</td>\n",
       "    </tr>\n",
       "    <tr>\n",
       "      <th>58</th>\n",
       "      <td>El Oceano Dorado</td>\n",
       "      <td>Mexican</td>\n",
       "      <td>yes</td>\n",
       "    </tr>\n",
       "    <tr>\n",
       "      <th>62</th>\n",
       "      <td>Gordas de morales</td>\n",
       "      <td>Mexican</td>\n",
       "      <td>public</td>\n",
       "    </tr>\n",
       "    <tr>\n",
       "      <th>66</th>\n",
       "      <td>Cenaduria El Rincan de Tlaquepaque</td>\n",
       "      <td>Mexican</td>\n",
       "      <td>none</td>\n",
       "    </tr>\n",
       "    <tr>\n",
       "      <th>72</th>\n",
       "      <td>vips</td>\n",
       "      <td>Mexican</td>\n",
       "      <td>yes</td>\n",
       "    </tr>\n",
       "    <tr>\n",
       "      <th>73</th>\n",
       "      <td>palomo tec</td>\n",
       "      <td>Mexican</td>\n",
       "      <td>none</td>\n",
       "    </tr>\n",
       "    <tr>\n",
       "      <th>75</th>\n",
       "      <td>VIPS</td>\n",
       "      <td>American</td>\n",
       "      <td>yes</td>\n",
       "    </tr>\n",
       "    <tr>\n",
       "      <th>76</th>\n",
       "      <td>TACOS CORRECAMINOS</td>\n",
       "      <td>Mexican</td>\n",
       "      <td>none</td>\n",
       "    </tr>\n",
       "    <tr>\n",
       "      <th>80</th>\n",
       "      <td>Gorditas Doa Gloria</td>\n",
       "      <td>Mexican</td>\n",
       "      <td>public</td>\n",
       "    </tr>\n",
       "    <tr>\n",
       "      <th>86</th>\n",
       "      <td>Carreton de Flautas y Migadas</td>\n",
       "      <td>Mexican</td>\n",
       "      <td>none</td>\n",
       "    </tr>\n",
       "    <tr>\n",
       "      <th>88</th>\n",
       "      <td>El cotorreo</td>\n",
       "      <td>Mexican</td>\n",
       "      <td>none</td>\n",
       "    </tr>\n",
       "    <tr>\n",
       "      <th>89</th>\n",
       "      <td>Gorditas Dona Tota</td>\n",
       "      <td>Mexican</td>\n",
       "      <td>public</td>\n",
       "    </tr>\n",
       "    <tr>\n",
       "      <th>90</th>\n",
       "      <td>Pizzeria Julios</td>\n",
       "      <td>American</td>\n",
       "      <td>public</td>\n",
       "    </tr>\n",
       "    <tr>\n",
       "      <th>93</th>\n",
       "      <td>tacos los volcanes</td>\n",
       "      <td>American</td>\n",
       "      <td>none</td>\n",
       "    </tr>\n",
       "    <tr>\n",
       "      <th>96</th>\n",
       "      <td>tacos de la estacion</td>\n",
       "      <td>Mexican</td>\n",
       "      <td>none</td>\n",
       "    </tr>\n",
       "    <tr>\n",
       "      <th>97</th>\n",
       "      <td>Restaurant Orizatlan</td>\n",
       "      <td>Mexican</td>\n",
       "      <td>none</td>\n",
       "    </tr>\n",
       "    <tr>\n",
       "      <th>101</th>\n",
       "      <td>La Estrella de Dimas</td>\n",
       "      <td>Mexican</td>\n",
       "      <td>public</td>\n",
       "    </tr>\n",
       "    <tr>\n",
       "      <th>107</th>\n",
       "      <td>Log Yin</td>\n",
       "      <td>Mexican</td>\n",
       "      <td>yes</td>\n",
       "    </tr>\n",
       "    <tr>\n",
       "      <th>111</th>\n",
       "      <td>tacos de barbacoa enfrente del Tec</td>\n",
       "      <td>Mexican</td>\n",
       "      <td>public</td>\n",
       "    </tr>\n",
       "    <tr>\n",
       "      <th>117</th>\n",
       "      <td>Cabana Huasteca</td>\n",
       "      <td>Mexican</td>\n",
       "      <td>none</td>\n",
       "    </tr>\n",
       "    <tr>\n",
       "      <th>118</th>\n",
       "      <td>Gorditas Dona Tota</td>\n",
       "      <td>Mexican</td>\n",
       "      <td>yes</td>\n",
       "    </tr>\n",
       "    <tr>\n",
       "      <th>120</th>\n",
       "      <td>La Virreina</td>\n",
       "      <td>Mexican</td>\n",
       "      <td>none</td>\n",
       "    </tr>\n",
       "    <tr>\n",
       "      <th>122</th>\n",
       "      <td>tacos abi</td>\n",
       "      <td>Mexican</td>\n",
       "      <td>none</td>\n",
       "    </tr>\n",
       "    <tr>\n",
       "      <th>124</th>\n",
       "      <td>McDonalds Centro</td>\n",
       "      <td>American</td>\n",
       "      <td>none</td>\n",
       "    </tr>\n",
       "  </tbody>\n",
       "</table>\n",
       "</div>"
      ],
      "text/plain": [
       "                                          name  Rcuisine parking_lot\n",
       "1                             puesto de tacos    Mexican        none\n",
       "2                  El Rincon de San Francisco    Mexican        none\n",
       "4                               carnitas_mata    Mexican         yes\n",
       "6                          Taqueria EL amigo     Mexican        none\n",
       "19                             TACOS EL GUERO    Mexican        none\n",
       "23                                        KFC   American         yes\n",
       "34                 El Rincon de San Francisco    Mexican        none\n",
       "41                     Hamburguesas La perica    Mexican      public\n",
       "45                                el pueblito    Mexican        none\n",
       "55    la Cochinita Pibil Restaurante Yucateco    Mexican         yes\n",
       "58                           El Oceano Dorado    Mexican         yes\n",
       "62                          Gordas de morales    Mexican      public\n",
       "66         Cenaduria El Rincan de Tlaquepaque    Mexican        none\n",
       "72                                       vips    Mexican         yes\n",
       "73                                 palomo tec    Mexican        none\n",
       "75                                       VIPS   American         yes\n",
       "76                         TACOS CORRECAMINOS    Mexican        none\n",
       "80                        Gorditas Doa Gloria    Mexican      public\n",
       "86              Carreton de Flautas y Migadas    Mexican        none\n",
       "88                                El cotorreo    Mexican        none\n",
       "89                         Gorditas Dona Tota    Mexican      public\n",
       "90                            Pizzeria Julios   American      public\n",
       "93                         tacos los volcanes   American        none\n",
       "96                       tacos de la estacion    Mexican        none\n",
       "97                       Restaurant Orizatlan    Mexican        none\n",
       "101                      La Estrella de Dimas    Mexican      public\n",
       "107                                   Log Yin    Mexican         yes\n",
       "111        tacos de barbacoa enfrente del Tec    Mexican      public\n",
       "117                           Cabana Huasteca    Mexican        none\n",
       "118                        Gorditas Dona Tota    Mexican         yes\n",
       "120                               La Virreina    Mexican        none\n",
       "122                                 tacos abi    Mexican        none\n",
       "124                          McDonalds Centro   American        none"
      ]
     },
     "execution_count": 25,
     "metadata": {},
     "output_type": "execute_result"
    }
   ],
   "source": [
    "#Sub-setting data frame - Mexican or American cuisine\n",
    "subset = restaurant_details_cuisine_parking.loc[(restaurant_details_cuisine_parking.Rcuisine == 'Mexican') | (restaurant_details_cuisine_parking.Rcuisine == 'American'), ['name','Rcuisine', 'parking_lot']]\n",
    "subset\n",
    "#displaying along with name Rcuisine and parking lot\n",
    "# OR #\n",
    "\n",
    "#subset = restaurant_details_cuisine_parking.loc[(restaurant_details_cuisine_parking.Rcuisine.isin(['Mexican', 'American'])), ['NAME','Rcuisine', 'parking_lot']]\n",
    "#subset\n",
    "# using isin function to display parking lot info in mexican and american"
   ]
  },
  {
   "cell_type": "code",
   "execution_count": 28,
   "id": "a00f9657",
   "metadata": {},
   "outputs": [
    {
     "name": "stdout",
     "output_type": "stream",
     "text": [
      "['gender' 'smoker' 'drink_level' 'dress_preference' 'ambience' 'transport'\n",
      " 'marital_status' 'interest' 'personality' 'religion' 'activity' 'income'\n",
      " 'FRVPM' 'AERPM']\n"
     ]
    }
   ],
   "source": [
    "#ordering data\n",
    "print(consumer_survey.columns.values)"
   ]
  },
  {
   "cell_type": "code",
   "execution_count": 29,
   "id": "6dbf1919",
   "metadata": {},
   "outputs": [
    {
     "data": {
      "text/html": [
       "<div>\n",
       "<style scoped>\n",
       "    .dataframe tbody tr th:only-of-type {\n",
       "        vertical-align: middle;\n",
       "    }\n",
       "\n",
       "    .dataframe tbody tr th {\n",
       "        vertical-align: top;\n",
       "    }\n",
       "\n",
       "    .dataframe thead th {\n",
       "        text-align: right;\n",
       "    }\n",
       "</style>\n",
       "<table border=\"1\" class=\"dataframe\">\n",
       "  <thead>\n",
       "    <tr style=\"text-align: right;\">\n",
       "      <th></th>\n",
       "      <th>gender</th>\n",
       "      <th>smoker</th>\n",
       "      <th>marital_status</th>\n",
       "      <th>FRVPM</th>\n",
       "    </tr>\n",
       "  </thead>\n",
       "  <tbody>\n",
       "    <tr>\n",
       "      <th>0</th>\n",
       "      <td>male</td>\n",
       "      <td>False</td>\n",
       "      <td>single</td>\n",
       "      <td>12</td>\n",
       "    </tr>\n",
       "    <tr>\n",
       "      <th>1</th>\n",
       "      <td>female</td>\n",
       "      <td>False</td>\n",
       "      <td>single</td>\n",
       "      <td>12</td>\n",
       "    </tr>\n",
       "    <tr>\n",
       "      <th>2</th>\n",
       "      <td>female</td>\n",
       "      <td>False</td>\n",
       "      <td>single</td>\n",
       "      <td>3</td>\n",
       "    </tr>\n",
       "    <tr>\n",
       "      <th>3</th>\n",
       "      <td>male</td>\n",
       "      <td>False</td>\n",
       "      <td>single</td>\n",
       "      <td>18</td>\n",
       "    </tr>\n",
       "    <tr>\n",
       "      <th>4</th>\n",
       "      <td>female</td>\n",
       "      <td>False</td>\n",
       "      <td>single</td>\n",
       "      <td>15</td>\n",
       "    </tr>\n",
       "  </tbody>\n",
       "</table>\n",
       "</div>"
      ],
      "text/plain": [
       "   gender smoker marital_status  FRVPM\n",
       "0    male  False         single     12\n",
       "1  female  False         single     12\n",
       "2  female  False         single      3\n",
       "3    male  False         single     18\n",
       "4  female  False         single     15"
      ]
     },
     "execution_count": 29,
     "metadata": {},
     "output_type": "execute_result"
    }
   ],
   "source": [
    "#Before Ordering\n",
    "consumer_survey.loc[:,['gender','smoker','marital_status','FRVPM']].head()"
   ]
  },
  {
   "cell_type": "code",
   "execution_count": 30,
   "id": "f8359005",
   "metadata": {},
   "outputs": [
    {
     "data": {
      "text/html": [
       "<div>\n",
       "<style scoped>\n",
       "    .dataframe tbody tr th:only-of-type {\n",
       "        vertical-align: middle;\n",
       "    }\n",
       "\n",
       "    .dataframe tbody tr th {\n",
       "        vertical-align: top;\n",
       "    }\n",
       "\n",
       "    .dataframe thead th {\n",
       "        text-align: right;\n",
       "    }\n",
       "</style>\n",
       "<table border=\"1\" class=\"dataframe\">\n",
       "  <thead>\n",
       "    <tr style=\"text-align: right;\">\n",
       "      <th></th>\n",
       "      <th>gender</th>\n",
       "      <th>smoker</th>\n",
       "      <th>marital_status</th>\n",
       "      <th>FRVPM</th>\n",
       "    </tr>\n",
       "  </thead>\n",
       "  <tbody>\n",
       "    <tr>\n",
       "      <th>137</th>\n",
       "      <td>male</td>\n",
       "      <td>False</td>\n",
       "      <td>single</td>\n",
       "      <td>2</td>\n",
       "    </tr>\n",
       "    <tr>\n",
       "      <th>110</th>\n",
       "      <td>male</td>\n",
       "      <td>True</td>\n",
       "      <td>single</td>\n",
       "      <td>2</td>\n",
       "    </tr>\n",
       "    <tr>\n",
       "      <th>57</th>\n",
       "      <td>female</td>\n",
       "      <td>False</td>\n",
       "      <td>single</td>\n",
       "      <td>2</td>\n",
       "    </tr>\n",
       "    <tr>\n",
       "      <th>87</th>\n",
       "      <td>female</td>\n",
       "      <td>False</td>\n",
       "      <td>single</td>\n",
       "      <td>2</td>\n",
       "    </tr>\n",
       "    <tr>\n",
       "      <th>46</th>\n",
       "      <td>male</td>\n",
       "      <td>False</td>\n",
       "      <td>single</td>\n",
       "      <td>2</td>\n",
       "    </tr>\n",
       "  </tbody>\n",
       "</table>\n",
       "</div>"
      ],
      "text/plain": [
       "     gender smoker marital_status  FRVPM\n",
       "137    male  False         single      2\n",
       "110    male   True         single      2\n",
       "57   female  False         single      2\n",
       "87   female  False         single      2\n",
       "46     male  False         single      2"
      ]
     },
     "execution_count": 30,
     "metadata": {},
     "output_type": "execute_result"
    }
   ],
   "source": [
    "#using sort_values function to sort values\n",
    "#Ordering in Increasing Order of FRVPM\n",
    "#what is frvpm ?\n",
    "#ascending=True is the default value\n",
    "consumer_survey.sort_values(by=['FRVPM']).loc[:,['gender','smoker','marital_status','FRVPM']].head()"
   ]
  },
  {
   "cell_type": "code",
   "execution_count": 31,
   "id": "6de5d460",
   "metadata": {},
   "outputs": [
    {
     "data": {
      "text/html": [
       "<div>\n",
       "<style scoped>\n",
       "    .dataframe tbody tr th:only-of-type {\n",
       "        vertical-align: middle;\n",
       "    }\n",
       "\n",
       "    .dataframe tbody tr th {\n",
       "        vertical-align: top;\n",
       "    }\n",
       "\n",
       "    .dataframe thead th {\n",
       "        text-align: right;\n",
       "    }\n",
       "</style>\n",
       "<table border=\"1\" class=\"dataframe\">\n",
       "  <thead>\n",
       "    <tr style=\"text-align: right;\">\n",
       "      <th></th>\n",
       "      <th>gender</th>\n",
       "      <th>smoker</th>\n",
       "      <th>marital_status</th>\n",
       "      <th>FRVPM</th>\n",
       "    </tr>\n",
       "  </thead>\n",
       "  <tbody>\n",
       "    <tr>\n",
       "      <th>100</th>\n",
       "      <td>male</td>\n",
       "      <td>False</td>\n",
       "      <td>single</td>\n",
       "      <td>60</td>\n",
       "    </tr>\n",
       "    <tr>\n",
       "      <th>136</th>\n",
       "      <td>male</td>\n",
       "      <td>False</td>\n",
       "      <td>single</td>\n",
       "      <td>45</td>\n",
       "    </tr>\n",
       "    <tr>\n",
       "      <th>10</th>\n",
       "      <td>female</td>\n",
       "      <td>False</td>\n",
       "      <td>single</td>\n",
       "      <td>22</td>\n",
       "    </tr>\n",
       "    <tr>\n",
       "      <th>16</th>\n",
       "      <td>female</td>\n",
       "      <td>False</td>\n",
       "      <td>single</td>\n",
       "      <td>18</td>\n",
       "    </tr>\n",
       "    <tr>\n",
       "      <th>3</th>\n",
       "      <td>male</td>\n",
       "      <td>False</td>\n",
       "      <td>single</td>\n",
       "      <td>18</td>\n",
       "    </tr>\n",
       "  </tbody>\n",
       "</table>\n",
       "</div>"
      ],
      "text/plain": [
       "     gender smoker marital_status  FRVPM\n",
       "100    male  False         single     60\n",
       "136    male  False         single     45\n",
       "10   female  False         single     22\n",
       "16   female  False         single     18\n",
       "3      male  False         single     18"
      ]
     },
     "execution_count": 31,
     "metadata": {},
     "output_type": "execute_result"
    }
   ],
   "source": [
    "#Ordering in Decreasing Order of FRVPM\n",
    "consumer_survey.sort_values(by=['FRVPM'],ascending = False).loc[:,['gender','smoker','marital_status','FRVPM']].head()"
   ]
  },
  {
   "cell_type": "code",
   "execution_count": 32,
   "id": "c5a7681b",
   "metadata": {},
   "outputs": [],
   "source": [
    "#reshaping data #adding new feature"
   ]
  },
  {
   "cell_type": "code",
   "execution_count": 33,
   "id": "c8c24ef2",
   "metadata": {},
   "outputs": [
    {
     "data": {
      "text/plain": [
       "none             49\n",
       "yes              44\n",
       "public           17\n",
       "valet parking     2\n",
       "Name: parking_lot, dtype: int64"
      ]
     },
     "execution_count": 33,
     "metadata": {},
     "output_type": "execute_result"
    }
   ],
   "source": [
    "#Value counts: parking_lot\n",
    "restaurant_details_cuisine_parking['parking_lot'].value_counts()"
   ]
  },
  {
   "cell_type": "code",
   "execution_count": 40,
   "id": "cbc2637e",
   "metadata": {},
   "outputs": [
    {
     "data": {
      "text/html": [
       "<div>\n",
       "<style scoped>\n",
       "    .dataframe tbody tr th:only-of-type {\n",
       "        vertical-align: middle;\n",
       "    }\n",
       "\n",
       "    .dataframe tbody tr th {\n",
       "        vertical-align: top;\n",
       "    }\n",
       "\n",
       "    .dataframe thead th {\n",
       "        text-align: right;\n",
       "    }\n",
       "</style>\n",
       "<table border=\"1\" class=\"dataframe\">\n",
       "  <thead>\n",
       "    <tr style=\"text-align: right;\">\n",
       "      <th></th>\n",
       "      <th>placeID</th>\n",
       "      <th>name</th>\n",
       "      <th>Rcuisine</th>\n",
       "      <th>parking_lot</th>\n",
       "      <th>parking_availability</th>\n",
       "    </tr>\n",
       "  </thead>\n",
       "  <tbody>\n",
       "    <tr>\n",
       "      <th>0</th>\n",
       "      <td>134999</td>\n",
       "      <td>Kiku Cuernavaca</td>\n",
       "      <td>Japanese</td>\n",
       "      <td>none</td>\n",
       "      <td>False</td>\n",
       "    </tr>\n",
       "    <tr>\n",
       "      <th>1</th>\n",
       "      <td>132825</td>\n",
       "      <td>puesto de tacos</td>\n",
       "      <td>Mexican</td>\n",
       "      <td>none</td>\n",
       "      <td>False</td>\n",
       "    </tr>\n",
       "    <tr>\n",
       "      <th>2</th>\n",
       "      <td>135106</td>\n",
       "      <td>El Rincon de San Francisco</td>\n",
       "      <td>Mexican</td>\n",
       "      <td>none</td>\n",
       "      <td>False</td>\n",
       "    </tr>\n",
       "    <tr>\n",
       "      <th>3</th>\n",
       "      <td>132667</td>\n",
       "      <td>little pizza Emilio Portes Gil</td>\n",
       "      <td>Armenian</td>\n",
       "      <td>none</td>\n",
       "      <td>False</td>\n",
       "    </tr>\n",
       "    <tr>\n",
       "      <th>4</th>\n",
       "      <td>132613</td>\n",
       "      <td>carnitas_mata</td>\n",
       "      <td>Mexican</td>\n",
       "      <td>none</td>\n",
       "      <td>False</td>\n",
       "    </tr>\n",
       "  </tbody>\n",
       "</table>\n",
       "</div>"
      ],
      "text/plain": [
       "   placeID                              name  Rcuisine parking_lot  \\\n",
       "0   134999                  Kiku Cuernavaca   Japanese        none   \n",
       "1   132825                  puesto de tacos    Mexican        none   \n",
       "2   135106       El Rincon de San Francisco    Mexican        none   \n",
       "3   132667   little pizza Emilio Portes Gil   Armenian        none   \n",
       "4   132613                    carnitas_mata    Mexican        none   \n",
       "\n",
       "   parking_availability  \n",
       "0                 False  \n",
       "1                 False  \n",
       "2                 False  \n",
       "3                 False  \n",
       "4                 False  "
      ]
     },
     "execution_count": 40,
     "metadata": {},
     "output_type": "execute_result"
    }
   ],
   "source": [
    "#Add a new feature/attribute\n",
    "restaurant_details_cuisine_parking['parking_availability'] = restaurant_details_cuisine_parking['parking_lot'] !='none'\n",
    "restaurant_details_cuisine_parking.loc[:,['placeID','name','Rcuisine','parking_lot','parking_availability']].head()\n",
    "#not equal to none which is yes,public and valet parking which gives true\n",
    "# OR #\n",
    "\n",
    "#restaurant_details_cuisine_parking['parking_availability'] = (restaurant_details_cuisine_parking['parking_lot'].isin(['public', 'yes','valet_parking', 'paid parking']))\n",
    "#restaurant_details_cuisine_parking.loc[:,['PLACEID','NAME','Rcuisine','parking_lot','parking_availability']].head() \n"
   ]
  },
  {
   "cell_type": "code",
   "execution_count": 39,
   "id": "a0add601",
   "metadata": {},
   "outputs": [
    {
     "data": {
      "text/plain": [
       "False    112\n",
       "Name: parking_availability, dtype: int64"
      ]
     },
     "execution_count": 39,
     "metadata": {},
     "output_type": "execute_result"
    }
   ],
   "source": [
    "#checking how many true and false\n",
    "#Value counts: parking_availability\n",
    "restaurant_details_cuisine_parking['parking_availability'].value_counts()"
   ]
  },
  {
   "cell_type": "code",
   "execution_count": 43,
   "id": "bf7c5de9",
   "metadata": {},
   "outputs": [
    {
     "data": {
      "text/html": [
       "<div>\n",
       "<style scoped>\n",
       "    .dataframe tbody tr th:only-of-type {\n",
       "        vertical-align: middle;\n",
       "    }\n",
       "\n",
       "    .dataframe tbody tr th {\n",
       "        vertical-align: top;\n",
       "    }\n",
       "\n",
       "    .dataframe thead th {\n",
       "        text-align: right;\n",
       "    }\n",
       "</style>\n",
       "<table border=\"1\" class=\"dataframe\">\n",
       "  <thead>\n",
       "    <tr style=\"text-align: right;\">\n",
       "      <th></th>\n",
       "      <th>userID</th>\n",
       "      <th>placeID</th>\n",
       "      <th>food_rating</th>\n",
       "      <th>service_rating</th>\n",
       "    </tr>\n",
       "  </thead>\n",
       "  <tbody>\n",
       "    <tr>\n",
       "      <th>0</th>\n",
       "      <td>U1077</td>\n",
       "      <td>135085</td>\n",
       "      <td>2</td>\n",
       "      <td>2</td>\n",
       "    </tr>\n",
       "    <tr>\n",
       "      <th>1</th>\n",
       "      <td>U1077</td>\n",
       "      <td>135038</td>\n",
       "      <td>2</td>\n",
       "      <td>1</td>\n",
       "    </tr>\n",
       "    <tr>\n",
       "      <th>2</th>\n",
       "      <td>U1077</td>\n",
       "      <td>132825</td>\n",
       "      <td>2</td>\n",
       "      <td>2</td>\n",
       "    </tr>\n",
       "    <tr>\n",
       "      <th>3</th>\n",
       "      <td>U1077</td>\n",
       "      <td>135060</td>\n",
       "      <td>2</td>\n",
       "      <td>2</td>\n",
       "    </tr>\n",
       "    <tr>\n",
       "      <th>4</th>\n",
       "      <td>U1068</td>\n",
       "      <td>135104</td>\n",
       "      <td>1</td>\n",
       "      <td>2</td>\n",
       "    </tr>\n",
       "  </tbody>\n",
       "</table>\n",
       "</div>"
      ],
      "text/plain": [
       "  userID  placeID  food_rating  service_rating\n",
       "0  U1077   135085            2               2\n",
       "1  U1077   135038            2               1\n",
       "2  U1077   132825            2               2\n",
       "3  U1077   135060            2               2\n",
       "4  U1068   135104            1               2"
      ]
     },
     "execution_count": 43,
     "metadata": {},
     "output_type": "execute_result"
    }
   ],
   "source": [
    "#melting a dataset\n",
    "user_rating.head()"
   ]
  },
  {
   "cell_type": "code",
   "execution_count": 7,
   "id": "57b32be1",
   "metadata": {},
   "outputs": [
    {
     "data": {
      "text/html": [
       "<div>\n",
       "<style scoped>\n",
       "    .dataframe tbody tr th:only-of-type {\n",
       "        vertical-align: middle;\n",
       "    }\n",
       "\n",
       "    .dataframe tbody tr th {\n",
       "        vertical-align: top;\n",
       "    }\n",
       "\n",
       "    .dataframe thead th {\n",
       "        text-align: right;\n",
       "    }\n",
       "</style>\n",
       "<table border=\"1\" class=\"dataframe\">\n",
       "  <thead>\n",
       "    <tr style=\"text-align: right;\">\n",
       "      <th></th>\n",
       "      <th>userID</th>\n",
       "      <th>placeID</th>\n",
       "      <th>food/service</th>\n",
       "      <th>rating</th>\n",
       "    </tr>\n",
       "  </thead>\n",
       "  <tbody>\n",
       "    <tr>\n",
       "      <th>0</th>\n",
       "      <td>U1077</td>\n",
       "      <td>135085</td>\n",
       "      <td>food_rating</td>\n",
       "      <td>2</td>\n",
       "    </tr>\n",
       "    <tr>\n",
       "      <th>1</th>\n",
       "      <td>U1077</td>\n",
       "      <td>135038</td>\n",
       "      <td>food_rating</td>\n",
       "      <td>2</td>\n",
       "    </tr>\n",
       "    <tr>\n",
       "      <th>2</th>\n",
       "      <td>U1077</td>\n",
       "      <td>132825</td>\n",
       "      <td>food_rating</td>\n",
       "      <td>2</td>\n",
       "    </tr>\n",
       "    <tr>\n",
       "      <th>3</th>\n",
       "      <td>U1077</td>\n",
       "      <td>135060</td>\n",
       "      <td>food_rating</td>\n",
       "      <td>2</td>\n",
       "    </tr>\n",
       "    <tr>\n",
       "      <th>4</th>\n",
       "      <td>U1068</td>\n",
       "      <td>135104</td>\n",
       "      <td>food_rating</td>\n",
       "      <td>1</td>\n",
       "    </tr>\n",
       "  </tbody>\n",
       "</table>\n",
       "</div>"
      ],
      "text/plain": [
       "  userID  placeID food/service  rating\n",
       "0  U1077   135085  food_rating       2\n",
       "1  U1077   135038  food_rating       2\n",
       "2  U1077   132825  food_rating       2\n",
       "3  U1077   135060  food_rating       2\n",
       "4  U1068   135104  food_rating       1"
      ]
     },
     "metadata": {},
     "output_type": "display_data"
    },
    {
     "data": {
      "text/html": [
       "<div>\n",
       "<style scoped>\n",
       "    .dataframe tbody tr th:only-of-type {\n",
       "        vertical-align: middle;\n",
       "    }\n",
       "\n",
       "    .dataframe tbody tr th {\n",
       "        vertical-align: top;\n",
       "    }\n",
       "\n",
       "    .dataframe thead th {\n",
       "        text-align: right;\n",
       "    }\n",
       "</style>\n",
       "<table border=\"1\" class=\"dataframe\">\n",
       "  <thead>\n",
       "    <tr style=\"text-align: right;\">\n",
       "      <th></th>\n",
       "      <th>userID</th>\n",
       "      <th>placeID</th>\n",
       "      <th>food/service</th>\n",
       "      <th>rating</th>\n",
       "    </tr>\n",
       "  </thead>\n",
       "  <tbody>\n",
       "    <tr>\n",
       "      <th>2317</th>\n",
       "      <td>U1043</td>\n",
       "      <td>132630</td>\n",
       "      <td>service_rating</td>\n",
       "      <td>1</td>\n",
       "    </tr>\n",
       "    <tr>\n",
       "      <th>2318</th>\n",
       "      <td>U1011</td>\n",
       "      <td>132715</td>\n",
       "      <td>service_rating</td>\n",
       "      <td>0</td>\n",
       "    </tr>\n",
       "    <tr>\n",
       "      <th>2319</th>\n",
       "      <td>U1068</td>\n",
       "      <td>132733</td>\n",
       "      <td>service_rating</td>\n",
       "      <td>0</td>\n",
       "    </tr>\n",
       "    <tr>\n",
       "      <th>2320</th>\n",
       "      <td>U1068</td>\n",
       "      <td>132594</td>\n",
       "      <td>service_rating</td>\n",
       "      <td>1</td>\n",
       "    </tr>\n",
       "    <tr>\n",
       "      <th>2321</th>\n",
       "      <td>U1068</td>\n",
       "      <td>132660</td>\n",
       "      <td>service_rating</td>\n",
       "      <td>0</td>\n",
       "    </tr>\n",
       "  </tbody>\n",
       "</table>\n",
       "</div>"
      ],
      "text/plain": [
       "     userID  placeID    food/service  rating\n",
       "2317  U1043   132630  service_rating       1\n",
       "2318  U1011   132715  service_rating       0\n",
       "2319  U1068   132733  service_rating       0\n",
       "2320  U1068   132594  service_rating       1\n",
       "2321  U1068   132660  service_rating       0"
      ]
     },
     "metadata": {},
     "output_type": "display_data"
    }
   ],
   "source": [
    "#melt function is used\n",
    "user_rating_melted = pd.melt(user_rating, id_vars=['userID', 'placeID'],value_vars = ['food_rating', 'service_rating'] ,var_name = \"food/service\" , value_name = \"rating\" )\n",
    "display(user_rating_melted.head()) #starting few values\n",
    "display(user_rating_melted.tail()) #ending few values\n",
    "#categorised food/service seperately and into a single coloumn\n",
    " #Melting converts the columns to rows as seen above."
   ]
  },
  {
   "cell_type": "code",
   "execution_count": null,
   "id": "e70f71ed",
   "metadata": {},
   "outputs": [],
   "source": [
    "#The key words need not be specified. The melt function takes the order id_vars, value_vars strictly."
   ]
  },
  {
   "cell_type": "code",
   "execution_count": 8,
   "id": "0b4549dd",
   "metadata": {},
   "outputs": [],
   "source": [
    "import pandas as pd"
   ]
  },
  {
   "cell_type": "code",
   "execution_count": 9,
   "id": "dee59336",
   "metadata": {},
   "outputs": [
    {
     "data": {
      "text/html": [
       "<div>\n",
       "<style scoped>\n",
       "    .dataframe tbody tr th:only-of-type {\n",
       "        vertical-align: middle;\n",
       "    }\n",
       "\n",
       "    .dataframe tbody tr th {\n",
       "        vertical-align: top;\n",
       "    }\n",
       "\n",
       "    .dataframe thead th {\n",
       "        text-align: right;\n",
       "    }\n",
       "</style>\n",
       "<table border=\"1\" class=\"dataframe\">\n",
       "  <thead>\n",
       "    <tr style=\"text-align: right;\">\n",
       "      <th>food/service</th>\n",
       "      <th>food_rating</th>\n",
       "      <th>service_rating</th>\n",
       "    </tr>\n",
       "    <tr>\n",
       "      <th>placeID</th>\n",
       "      <th></th>\n",
       "      <th></th>\n",
       "    </tr>\n",
       "  </thead>\n",
       "  <tbody>\n",
       "    <tr>\n",
       "      <th>132560</th>\n",
       "      <td>1.00</td>\n",
       "      <td>0.250000</td>\n",
       "    </tr>\n",
       "    <tr>\n",
       "      <th>132561</th>\n",
       "      <td>1.00</td>\n",
       "      <td>1.000000</td>\n",
       "    </tr>\n",
       "    <tr>\n",
       "      <th>132564</th>\n",
       "      <td>1.25</td>\n",
       "      <td>1.500000</td>\n",
       "    </tr>\n",
       "    <tr>\n",
       "      <th>132572</th>\n",
       "      <td>1.00</td>\n",
       "      <td>0.933333</td>\n",
       "    </tr>\n",
       "    <tr>\n",
       "      <th>132583</th>\n",
       "      <td>1.00</td>\n",
       "      <td>1.250000</td>\n",
       "    </tr>\n",
       "  </tbody>\n",
       "</table>\n",
       "</div>"
      ],
      "text/plain": [
       "food/service  food_rating  service_rating\n",
       "placeID                                  \n",
       "132560               1.00        0.250000\n",
       "132561               1.00        1.000000\n",
       "132564               1.25        1.500000\n",
       "132572               1.00        0.933333\n",
       "132583               1.00        1.250000"
      ]
     },
     "execution_count": 9,
     "metadata": {},
     "output_type": "execute_result"
    }
   ],
   "source": [
    "#casting A dataframe\n",
    "pd.pivot_table(user_rating_melted, index = 'placeID', columns = 'food/service', values = 'rating',aggfunc = 'mean').head()"
   ]
  },
  {
   "cell_type": "code",
   "execution_count": null,
   "id": "ef33482c",
   "metadata": {},
   "outputs": [],
   "source": [
    "#here the first argument is the dataframe that has to be casted, 3rd arg is the col that\n",
    "#needs to be aggregated"
   ]
  },
  {
   "cell_type": "markdown",
   "id": "437aec01",
   "metadata": {},
   "source": [
    "## Pandas provides an easy way to do a logical operation between a series/dataframe and an int."
   ]
  },
  {
   "cell_type": "markdown",
   "id": "a7325f5d",
   "metadata": {},
   "source": [
    "# Example:\n",
    "df[\"More than Average\"] = df[\"rating\"]>5"
   ]
  },
  {
   "cell_type": "markdown",
   "id": "c8a29211",
   "metadata": {},
   "source": [
    "#5 number summary\n",
    "50% is the median"
   ]
  },
  {
   "cell_type": "markdown",
   "id": "29c93280",
   "metadata": {},
   "source": [
    "## Explore and Summarize data\n",
    "Exploring Quantitative Attributes\n",
    "  FRVPM\n",
    "  Five Number Summary"
   ]
  },
  {
   "cell_type": "code",
   "execution_count": 12,
   "id": "9b33260d",
   "metadata": {
    "scrolled": false
   },
   "outputs": [
    {
     "data": {
      "text/plain": [
       "count    138.000000\n",
       "mean       9.166667\n",
       "std        6.838687\n",
       "min        2.000000\n",
       "25%        5.000000\n",
       "50%        8.000000\n",
       "75%       12.000000\n",
       "max       60.000000\n",
       "Name: FRVPM, dtype: float64"
      ]
     },
     "execution_count": 12,
     "metadata": {},
     "output_type": "execute_result"
    }
   ],
   "source": [
    "five_number_summary = consumer_survey.FRVPM.describe()\n",
    "five_number_summary\n",
    "#min value of attribute\n",
    "#25% the value below which 25%of the values of the attribute exist in this case\n",
    "#less than 5% visit the restaurant in a month\n",
    "#25% >> first quartile\n",
    "#50% >> second\n",
    "#75% >> third\n",
    "#25,50,75 >>IQR>> interquartile range"
   ]
  },
  {
   "cell_type": "code",
   "execution_count": null,
   "id": "60f43e38",
   "metadata": {},
   "outputs": [],
   "source": [
    "# Box plot"
   ]
  },
  {
   "cell_type": "code",
   "execution_count": 17,
   "id": "f4a93b90",
   "metadata": {},
   "outputs": [],
   "source": [
    "import seaborn as sns\n",
    "import matplotlib.pyplot as plt"
   ]
  },
  {
   "cell_type": "code",
   "execution_count": 18,
   "id": "7b371723",
   "metadata": {},
   "outputs": [
    {
     "data": {
      "image/png": "[encoded data removed]",
      "text/plain": [
       "<Figure size 640x480 with 1 Axes>"
      ]
     },
     "metadata": {},
     "output_type": "display_data"
    }
   ],
   "source": [
    "sns.boxplot(y=consumer_survey[\"FRVPM\"]) #frvpm taken on yaxis\n",
    "plt.title(\"Boxplot of FRVPM\") #title given to box plot\n",
    "plt.show()\n",
    "#interquartile raange= 75% - 25%\n",
    "#upper whisker = 3rd quartile + (1.5* IQR)\n",
    "#lower whisker = 1st quartile - (1.5* IQR)\n",
    "#data points beyond the upper and lower whiskers are termed as outliers"
   ]
  },
  {
   "cell_type": "code",
   "execution_count": 19,
   "id": "7da74aec",
   "metadata": {},
   "outputs": [
    {
     "name": "stdout",
     "output_type": "stream",
     "text": [
      "[60 45 22]\n"
     ]
    }
   ],
   "source": [
    "# Print the larget 3 values in FRVPM ...nlargest funcn used\n",
    "print(consumer_survey[\"FRVPM\"].nlargest(3).values)"
   ]
  },
  {
   "cell_type": "code",
   "execution_count": 20,
   "id": "a1019635",
   "metadata": {},
   "outputs": [],
   "source": [
    "IQR = five_number_summary[\"75%\"] - five_number_summary[\"25%\"]\n",
    "upper_limit = (1.5 * IQR) + five_number_summary[\"75%\"]\n",
    "lower_limit = five_number_summary[\"25%\"] - (1.5 * IQR)"
   ]
  },
  {
   "cell_type": "code",
   "execution_count": 21,
   "id": "be1753ad",
   "metadata": {},
   "outputs": [
    {
     "name": "stdout",
     "output_type": "stream",
     "text": [
      "IQR: 7.0\n",
      "1.5 * IQR: 10.5\n",
      "upper_limit: 22.5\n",
      "lower_limit: -5.5\n"
     ]
    }
   ],
   "source": [
    "print(\"IQR:\",IQR)\n",
    "print(\"1.5 * IQR:\", (1.5 * IQR))\n",
    "print(\"upper_limit:\",upper_limit)# upper whisker is drawn at 22\n",
    "print(\"lower_limit:\",lower_limit)# lower whisker is drawn at 2"
   ]
  },
  {
   "cell_type": "code",
   "execution_count": 22,
   "id": "b9e7b1f1",
   "metadata": {},
   "outputs": [],
   "source": [
    "#since 60 and 45 are beyond the upper limit they are termed as outliers\n",
    "#22 is the largest value below 22.5 therefore it is the upper whisker"
   ]
  },
  {
   "cell_type": "code",
   "execution_count": 25,
   "id": "6e8d525e",
   "metadata": {},
   "outputs": [
    {
     "data": {
      "text/plain": [
       "0    12\n",
       "1    12\n",
       "2     3\n",
       "3    18\n",
       "4    15\n",
       "Name: FRVPM, dtype: int64"
      ]
     },
     "execution_count": 25,
     "metadata": {},
     "output_type": "execute_result"
    }
   ],
   "source": [
    "# Histogram\n",
    "consumer_survey.FRVPM.head()\n"
   ]
  },
  {
   "cell_type": "code",
   "execution_count": 26,
   "id": "bef8bb42",
   "metadata": {
    "scrolled": true
   },
   "outputs": [
    {
     "data": {
      "text/plain": [
       "8     16\n",
       "3     12\n",
       "12    11\n",
       "6     11\n",
       "4     11\n",
       "9     10\n",
       "7      9\n",
       "11     9\n",
       "5      8\n",
       "10     7\n",
       "2      7\n",
       "13     6\n",
       "15     6\n",
       "14     5\n",
       "16     3\n",
       "17     2\n",
       "18     2\n",
       "22     1\n",
       "60     1\n",
       "45     1\n",
       "Name: FRVPM, dtype: int64"
      ]
     },
     "execution_count": 26,
     "metadata": {},
     "output_type": "execute_result"
    }
   ],
   "source": [
    "consumer_survey[\"FRVPM\"].value_counts()"
   ]
  },
  {
   "cell_type": "code",
   "execution_count": 28,
   "id": "cec0337a",
   "metadata": {},
   "outputs": [],
   "source": [
    "import numpy as np"
   ]
  },
  {
   "cell_type": "code",
   "execution_count": 29,
   "id": "6f4c88ed",
   "metadata": {},
   "outputs": [
    {
     "data": {
      "text/plain": [
       "array([ 1,  1,  1,  2,  2,  3,  5,  6,  6,  7,  7,  8,  9,  9, 10, 11, 11,\n",
       "       11, 12, 16], dtype=int64)"
      ]
     },
     "execution_count": 29,
     "metadata": {},
     "output_type": "execute_result"
    }
   ],
   "source": [
    "np.sort(consumer_survey[\"FRVPM\"].value_counts())"
   ]
  },
  {
   "cell_type": "code",
   "execution_count": 30,
   "id": "05e24a67",
   "metadata": {},
   "outputs": [
    {
     "name": "stderr",
     "output_type": "stream",
     "text": [
      "C:\\Users\\Anusha\\AppData\\Local\\Temp\\ipykernel_7196\\1854543756.py:1: UserWarning: \n",
      "\n",
      "`distplot` is a deprecated function and will be removed in seaborn v0.14.0.\n",
      "\n",
      "Please adapt your code to use either `displot` (a figure-level function with\n",
      "similar flexibility) or `histplot` (an axes-level function for histograms).\n",
      "\n",
      "For a guide to updating your code to use the new functions, please see\n",
      "https://gist.github.com/mwaskom/de44147ed2974457ad6372750bbe5751\n",
      "\n",
      "  sns.distplot(consumer_survey[\"FRVPM\"], kde = False)\n"
     ]
    },
    {
     "data": {
      "image/png": "[encoded data removed]",
      "text/plain": [
       "<Figure size 640x480 with 1 Axes>"
      ]
     },
     "metadata": {},
     "output_type": "display_data"
    }
   ],
   "source": [
    "sns.distplot(consumer_survey[\"FRVPM\"], kde = False)\n",
    "plt.title(\"Histogram of FRVPM\")\n",
    "plt.xlabel(\"FRVPM\")\n",
    "plt.ylabel(\"Frequency\")\n",
    "plt.show()\n",
    "#kde is the graph that can be drawn along with histogram \n",
    "#named gaussian kernel density estimate which is not req in our case"
   ]
  },
  {
   "cell_type": "code",
   "execution_count": 31,
   "id": "e3396537",
   "metadata": {},
   "outputs": [
    {
     "data": {
      "text/plain": [
       "count     138.000000\n",
       "mean     2491.818841\n",
       "std      1378.016952\n",
       "min       268.000000\n",
       "25%      1308.000000\n",
       "50%      2388.000000\n",
       "75%      3406.500000\n",
       "max      6234.000000\n",
       "Name: AERPM, dtype: float64"
      ]
     },
     "execution_count": 31,
     "metadata": {},
     "output_type": "execute_result"
    }
   ],
   "source": [
    "consumer_survey.AERPM.describe(percentiles=[0.25, 0.75])"
   ]
  },
  {
   "cell_type": "code",
   "execution_count": 32,
   "id": "03301702",
   "metadata": {},
   "outputs": [
    {
     "data": {
      "image/png": "[encoded data removed]",
      "text/plain": [
       "<Figure size 640x480 with 1 Axes>"
      ]
     },
     "metadata": {},
     "output_type": "display_data"
    }
   ],
   "source": [
    "sns.boxplot(y=consumer_survey.AERPM)\n",
    "plt.title(\"Boxplot of AERPM\")\n",
    "plt.show()"
   ]
  },
  {
   "cell_type": "code",
   "execution_count": 33,
   "id": "1ca9ac0e",
   "metadata": {},
   "outputs": [
    {
     "name": "stderr",
     "output_type": "stream",
     "text": [
      "C:\\Users\\Anusha\\AppData\\Local\\Temp\\ipykernel_7196\\169163143.py:1: UserWarning: \n",
      "\n",
      "`distplot` is a deprecated function and will be removed in seaborn v0.14.0.\n",
      "\n",
      "Please adapt your code to use either `displot` (a figure-level function with\n",
      "similar flexibility) or `histplot` (an axes-level function for histograms).\n",
      "\n",
      "For a guide to updating your code to use the new functions, please see\n",
      "https://gist.github.com/mwaskom/de44147ed2974457ad6372750bbe5751\n",
      "\n",
      "  sns.distplot(consumer_survey[\"AERPM\"],hist = True, kde = False)\n"
     ]
    },
    {
     "data": {
      "image/png": "[encoded data removed]",
      "text/plain": [
       "<Figure size 640x480 with 1 Axes>"
      ]
     },
     "metadata": {},
     "output_type": "display_data"
    }
   ],
   "source": [
    "sns.distplot(consumer_survey[\"AERPM\"],hist = True, kde = False)\n",
    "plt.title(\"Histogram of AERPM\")\n",
    "plt.xlabel(\"AERPM\")\n",
    "plt.ylabel(\"Frequency\")\n",
    "plt.show()"
   ]
  },
  {
   "cell_type": "code",
   "execution_count": 34,
   "id": "e632da42",
   "metadata": {},
   "outputs": [
    {
     "data": {
      "text/html": [
       "<div>\n",
       "<style scoped>\n",
       "    .dataframe tbody tr th:only-of-type {\n",
       "        vertical-align: middle;\n",
       "    }\n",
       "\n",
       "    .dataframe tbody tr th {\n",
       "        vertical-align: top;\n",
       "    }\n",
       "\n",
       "    .dataframe thead th {\n",
       "        text-align: right;\n",
       "    }\n",
       "</style>\n",
       "<table border=\"1\" class=\"dataframe\">\n",
       "  <thead>\n",
       "    <tr style=\"text-align: right;\">\n",
       "      <th></th>\n",
       "      <th>count</th>\n",
       "    </tr>\n",
       "    <tr>\n",
       "      <th>gender</th>\n",
       "      <th></th>\n",
       "    </tr>\n",
       "  </thead>\n",
       "  <tbody>\n",
       "    <tr>\n",
       "      <th>female</th>\n",
       "      <td>65</td>\n",
       "    </tr>\n",
       "    <tr>\n",
       "      <th>male</th>\n",
       "      <td>73</td>\n",
       "    </tr>\n",
       "  </tbody>\n",
       "</table>\n",
       "</div>"
      ],
      "text/plain": [
       "        count\n",
       "gender       \n",
       "female     65\n",
       "male       73"
      ]
     },
     "execution_count": 34,
     "metadata": {},
     "output_type": "execute_result"
    }
   ],
   "source": [
    "#qualitative attributes\n",
    "#cross tabulation\n",
    "pd.crosstab(index = consumer_survey[\"gender\"],  columns=\"count\", colnames = ['']) "
   ]
  },
  {
   "cell_type": "code",
   "execution_count": 35,
   "id": "fb1f8e01",
   "metadata": {},
   "outputs": [
    {
     "data": {
      "text/html": [
       "<div>\n",
       "<style scoped>\n",
       "    .dataframe tbody tr th:only-of-type {\n",
       "        vertical-align: middle;\n",
       "    }\n",
       "\n",
       "    .dataframe tbody tr th {\n",
       "        vertical-align: top;\n",
       "    }\n",
       "\n",
       "    .dataframe thead th {\n",
       "        text-align: right;\n",
       "    }\n",
       "</style>\n",
       "<table border=\"1\" class=\"dataframe\">\n",
       "  <thead>\n",
       "    <tr style=\"text-align: right;\">\n",
       "      <th></th>\n",
       "      <th>count</th>\n",
       "    </tr>\n",
       "    <tr>\n",
       "      <th>income</th>\n",
       "      <th></th>\n",
       "    </tr>\n",
       "  </thead>\n",
       "  <tbody>\n",
       "    <tr>\n",
       "      <th>high</th>\n",
       "      <td>20</td>\n",
       "    </tr>\n",
       "    <tr>\n",
       "      <th>low</th>\n",
       "      <td>36</td>\n",
       "    </tr>\n",
       "    <tr>\n",
       "      <th>medium</th>\n",
       "      <td>82</td>\n",
       "    </tr>\n",
       "  </tbody>\n",
       "</table>\n",
       "</div>"
      ],
      "text/plain": [
       "        count\n",
       "income       \n",
       "high       20\n",
       "low        36\n",
       "medium     82"
      ]
     },
     "execution_count": 35,
     "metadata": {},
     "output_type": "execute_result"
    }
   ],
   "source": [
    "pd.crosstab(index = consumer_survey[\"income\"],  columns=\"count\", colnames = ['']) "
   ]
  },
  {
   "cell_type": "code",
   "execution_count": 36,
   "id": "f291cf41",
   "metadata": {},
   "outputs": [
    {
     "data": {
      "text/html": [
       "<div>\n",
       "<style scoped>\n",
       "    .dataframe tbody tr th:only-of-type {\n",
       "        vertical-align: middle;\n",
       "    }\n",
       "\n",
       "    .dataframe tbody tr th {\n",
       "        vertical-align: top;\n",
       "    }\n",
       "\n",
       "    .dataframe thead th {\n",
       "        text-align: right;\n",
       "    }\n",
       "</style>\n",
       "<table border=\"1\" class=\"dataframe\">\n",
       "  <thead>\n",
       "    <tr style=\"text-align: right;\">\n",
       "      <th></th>\n",
       "      <th>count</th>\n",
       "    </tr>\n",
       "    <tr>\n",
       "      <th>FRVPM</th>\n",
       "      <th></th>\n",
       "    </tr>\n",
       "  </thead>\n",
       "  <tbody>\n",
       "    <tr>\n",
       "      <th>False</th>\n",
       "      <td>91</td>\n",
       "    </tr>\n",
       "    <tr>\n",
       "      <th>True</th>\n",
       "      <td>47</td>\n",
       "    </tr>\n",
       "  </tbody>\n",
       "</table>\n",
       "</div>"
      ],
      "text/plain": [
       "       count\n",
       "FRVPM       \n",
       "False     91\n",
       "True      47"
      ]
     },
     "execution_count": 36,
     "metadata": {},
     "output_type": "execute_result"
    }
   ],
   "source": [
    "pd.crosstab(index = consumer_survey.FRVPM>10,  columns=\"count\", colnames = ['']) \n",
    "#false and true are qualitative attributes\n",
    "#gives the frequency of input data taking qualitative attribute as inputs"
   ]
  },
  {
   "cell_type": "code",
   "execution_count": 56,
   "id": "5a48d5a6",
   "metadata": {
    "scrolled": true
   },
   "outputs": [
    {
     "data": {
      "text/html": [
       "<div>\n",
       "<style scoped>\n",
       "    .dataframe tbody tr th:only-of-type {\n",
       "        vertical-align: middle;\n",
       "    }\n",
       "\n",
       "    .dataframe tbody tr th {\n",
       "        vertical-align: top;\n",
       "    }\n",
       "\n",
       "    .dataframe thead th {\n",
       "        text-align: right;\n",
       "    }\n",
       "</style>\n",
       "<table border=\"1\" class=\"dataframe\">\n",
       "  <thead>\n",
       "    <tr style=\"text-align: right;\">\n",
       "      <th></th>\n",
       "      <th>count</th>\n",
       "    </tr>\n",
       "    <tr>\n",
       "      <th>Region</th>\n",
       "      <th></th>\n",
       "    </tr>\n",
       "  </thead>\n",
       "  <tbody>\n",
       "    <tr>\n",
       "      <th>East</th>\n",
       "      <td>70</td>\n",
       "    </tr>\n",
       "    <tr>\n",
       "      <th>West</th>\n",
       "      <td>60</td>\n",
       "    </tr>\n",
       "  </tbody>\n",
       "</table>\n",
       "</div>"
      ],
      "text/plain": [
       "        count\n",
       "Region       \n",
       " East      70\n",
       " West      60"
      ]
     },
     "execution_count": 56,
     "metadata": {},
     "output_type": "execute_result"
    }
   ],
   "source": [
    "pd.crosstab(index = restaurant_details[\"Region\"],  columns=\"count\", colnames = [''])"
   ]
  },
  {
   "cell_type": "code",
   "execution_count": 47,
   "id": "e45c1839",
   "metadata": {},
   "outputs": [],
   "source": [
    "#Outcome of cross tab plotted on a graph is a bar chart"
   ]
  },
  {
   "cell_type": "code",
   "execution_count": 49,
   "id": "2882d0ff",
   "metadata": {},
   "outputs": [],
   "source": [
    "#Bar chart\n",
    "#Convert income to Ordered Categorical data type\n",
    "consumer_survey['income'] = pd.Categorical(consumer_survey['income'], categories=[\"low\",\"medium\",\"high\"], ordered=True)"
   ]
  },
  {
   "cell_type": "code",
   "execution_count": 50,
   "id": "7070ef48",
   "metadata": {},
   "outputs": [
    {
     "data": {
      "image/png": "[encoded data removed]",
      "text/plain": [
       "<Figure size 640x480 with 1 Axes>"
      ]
     },
     "metadata": {},
     "output_type": "display_data"
    }
   ],
   "source": [
    "sns.countplot(x='income', data=consumer_survey)\n",
    "#data is taken from consumer_survey\n",
    "plt.title(\"Bar chart of Income\")\n",
    "plt.show()"
   ]
  },
  {
   "cell_type": "code",
   "execution_count": 54,
   "id": "23cba6a7",
   "metadata": {},
   "outputs": [
    {
     "data": {
      "text/html": [
       "<div>\n",
       "<style scoped>\n",
       "    .dataframe tbody tr th:only-of-type {\n",
       "        vertical-align: middle;\n",
       "    }\n",
       "\n",
       "    .dataframe tbody tr th {\n",
       "        vertical-align: top;\n",
       "    }\n",
       "\n",
       "    .dataframe thead th {\n",
       "        text-align: right;\n",
       "    }\n",
       "</style>\n",
       "<table border=\"1\" class=\"dataframe\">\n",
       "  <thead>\n",
       "    <tr style=\"text-align: right;\">\n",
       "      <th></th>\n",
       "      <th>FRVPM_greater_than_10</th>\n",
       "    </tr>\n",
       "  </thead>\n",
       "  <tbody>\n",
       "    <tr>\n",
       "      <th>0</th>\n",
       "      <td>True</td>\n",
       "    </tr>\n",
       "    <tr>\n",
       "      <th>1</th>\n",
       "      <td>True</td>\n",
       "    </tr>\n",
       "    <tr>\n",
       "      <th>2</th>\n",
       "      <td>False</td>\n",
       "    </tr>\n",
       "    <tr>\n",
       "      <th>3</th>\n",
       "      <td>True</td>\n",
       "    </tr>\n",
       "    <tr>\n",
       "      <th>4</th>\n",
       "      <td>True</td>\n",
       "    </tr>\n",
       "    <tr>\n",
       "      <th>...</th>\n",
       "      <td>...</td>\n",
       "    </tr>\n",
       "    <tr>\n",
       "      <th>133</th>\n",
       "      <td>False</td>\n",
       "    </tr>\n",
       "    <tr>\n",
       "      <th>134</th>\n",
       "      <td>False</td>\n",
       "    </tr>\n",
       "    <tr>\n",
       "      <th>135</th>\n",
       "      <td>False</td>\n",
       "    </tr>\n",
       "    <tr>\n",
       "      <th>136</th>\n",
       "      <td>True</td>\n",
       "    </tr>\n",
       "    <tr>\n",
       "      <th>137</th>\n",
       "      <td>False</td>\n",
       "    </tr>\n",
       "  </tbody>\n",
       "</table>\n",
       "<p>138 rows × 1 columns</p>\n",
       "</div>"
      ],
      "text/plain": [
       "     FRVPM_greater_than_10\n",
       "0                     True\n",
       "1                     True\n",
       "2                    False\n",
       "3                     True\n",
       "4                     True\n",
       "..                     ...\n",
       "133                  False\n",
       "134                  False\n",
       "135                  False\n",
       "136                   True\n",
       "137                  False\n",
       "\n",
       "[138 rows x 1 columns]"
      ]
     },
     "execution_count": 54,
     "metadata": {},
     "output_type": "execute_result"
    }
   ],
   "source": [
    "FRVPM_greater_than_10 = pd.DataFrame(consumer_survey.FRVPM>10)\n",
    "FRVPM_greater_than_10.columns = ['FRVPM_greater_than_10']\n",
    "FRVPM_greater_than_10\n"
   ]
  },
  {
   "cell_type": "code",
   "execution_count": 55,
   "id": "05b88cd3",
   "metadata": {},
   "outputs": [
    {
     "data": {
      "image/png": "[encoded data removed]",
      "text/plain": [
       "<Figure size 640x480 with 1 Axes>"
      ]
     },
     "metadata": {},
     "output_type": "display_data"
    }
   ],
   "source": [
    "sns.countplot(x = 'FRVPM_greater_than_10', data=FRVPM_greater_than_10)\n",
    "plt.title(\"Bar chart of consumers with FRVPM > 10\")\n",
    "plt.show()\n",
    "#y-axis can't contain non-numeric values\n",
    "#barh is used to plot the horizontal bar graph \n",
    "#Cross tab is used for determining the frequencies of the columns specified in relation to the other.b"
   ]
  },
  {
   "cell_type": "markdown",
   "id": "30c0bce2",
   "metadata": {},
   "source": [
    "Develop insights from data\n",
    "Exploring relationship between qualitative and quantitative attributes\n",
    "Plot and compare multiple box plots"
   ]
  },
  {
   "cell_type": "code",
   "execution_count": 170,
   "id": "83ec1a22",
   "metadata": {},
   "outputs": [],
   "source": [
    "#Update the AVERAGE_DINE_IN_PER_MONTH column of restaurant details data table with mean_updated\n",
    "restaurant_details['Average_dine_in_per_month'] = mean_updated['Average_dine_in_per_month']"
   ]
  },
  {
   "cell_type": "code",
   "execution_count": 171,
   "id": "35da03ad",
   "metadata": {},
   "outputs": [
    {
     "data": {
      "image/png": "[encoded data removed]",
      "text/plain": [
       "<Figure size 640x480 with 1 Axes>"
      ]
     },
     "metadata": {},
     "output_type": "display_data"
    }
   ],
   "source": [
    "sns.boxplot(y='Average_dine_in_per_month', x = 'Region', data=restaurant_details)\n",
    "plt.title('East vs. West Average Dine-In Per Month')\n",
    "plt.show()"
   ]
  },
  {
   "cell_type": "code",
   "execution_count": 172,
   "id": "d12acca9",
   "metadata": {},
   "outputs": [],
   "source": [
    "#Create subsets for East and West regions\n",
    "subset_East = restaurant_details.loc[(restaurant_details.Region == ' East '), ['Region','Average_dine_in_per_month']]\n",
    "subset_West = restaurant_details.loc[(restaurant_details.Region == ' West '), ['Region','Average_dine_in_per_month']]"
   ]
  },
  {
   "cell_type": "code",
   "execution_count": 173,
   "id": "3091ab76",
   "metadata": {},
   "outputs": [
    {
     "name": "stderr",
     "output_type": "stream",
     "text": [
      "C:\\Users\\Anusha\\AppData\\Local\\Temp\\ipykernel_7196\\3089874857.py:1: UserWarning: \n",
      "\n",
      "`distplot` is a deprecated function and will be removed in seaborn v0.14.0.\n",
      "\n",
      "Please adapt your code to use either `displot` (a figure-level function with\n",
      "similar flexibility) or `histplot` (an axes-level function for histograms).\n",
      "\n",
      "For a guide to updating your code to use the new functions, please see\n",
      "https://gist.github.com/mwaskom/de44147ed2974457ad6372750bbe5751\n",
      "\n",
      "  sns.distplot(subset_East['Average_dine_in_per_month'],color=\"red\", kde = False, label = 'East')\n",
      "C:\\Users\\Anusha\\AppData\\Local\\Temp\\ipykernel_7196\\3089874857.py:2: UserWarning: \n",
      "\n",
      "`distplot` is a deprecated function and will be removed in seaborn v0.14.0.\n",
      "\n",
      "Please adapt your code to use either `displot` (a figure-level function with\n",
      "similar flexibility) or `histplot` (an axes-level function for histograms).\n",
      "\n",
      "For a guide to updating your code to use the new functions, please see\n",
      "https://gist.github.com/mwaskom/de44147ed2974457ad6372750bbe5751\n",
      "\n",
      "  sns.distplot(subset_West['Average_dine_in_per_month'],color=\"blue\", kde = False, label = 'West')\n"
     ]
    },
    {
     "data": {
      "image/png": "[encoded data removed]",
      "text/plain": [
       "<Figure size 640x480 with 1 Axes>"
      ]
     },
     "metadata": {},
     "output_type": "display_data"
    }
   ],
   "source": [
    "sns.distplot(subset_East['Average_dine_in_per_month'],color=\"red\", kde = False, label = 'East')\n",
    "sns.distplot(subset_West['Average_dine_in_per_month'],color=\"blue\", kde = False, label = 'West')\n",
    "plt.legend()\n",
    "plt.xlabel('Average_dine_in_per_month')\n",
    "plt.ylabel('FREQUENCY')\n",
    "plt.title('East vs. West Frequency of Average Dine-In Per Month')\n",
    "plt.show()"
   ]
  },
  {
   "cell_type": "code",
   "execution_count": 174,
   "id": "94bf35c4",
   "metadata": {},
   "outputs": [
    {
     "data": {
      "text/plain": [
       "603.0"
      ]
     },
     "execution_count": 174,
     "metadata": {},
     "output_type": "execute_result"
    }
   ],
   "source": [
    "subset_East['Average_dine_in_per_month'].median()"
   ]
  },
  {
   "cell_type": "code",
   "execution_count": 175,
   "id": "9bbfd034",
   "metadata": {},
   "outputs": [
    {
     "data": {
      "text/plain": [
       "740.0"
      ]
     },
     "execution_count": 175,
     "metadata": {},
     "output_type": "execute_result"
    }
   ],
   "source": [
    "subset_West['Average_dine_in_per_month'].median() #more sales"
   ]
  },
  {
   "cell_type": "markdown",
   "id": "2ae7c23b",
   "metadata": {},
   "source": [
    "Exploring relationship among qualitative attributes\n",
    "Pivot Table"
   ]
  },
  {
   "cell_type": "code",
   "execution_count": 178,
   "id": "d98e51d5",
   "metadata": {},
   "outputs": [
    {
     "data": {
      "text/html": [
       "<div>\n",
       "<style scoped>\n",
       "    .dataframe tbody tr th:only-of-type {\n",
       "        vertical-align: middle;\n",
       "    }\n",
       "\n",
       "    .dataframe tbody tr th {\n",
       "        vertical-align: top;\n",
       "    }\n",
       "\n",
       "    .dataframe thead th {\n",
       "        text-align: right;\n",
       "    }\n",
       "</style>\n",
       "<table border=\"1\" class=\"dataframe\">\n",
       "  <thead>\n",
       "    <tr style=\"text-align: right;\">\n",
       "      <th>price</th>\n",
       "      <th>high</th>\n",
       "      <th>low</th>\n",
       "      <th>medium</th>\n",
       "    </tr>\n",
       "    <tr>\n",
       "      <th>Region</th>\n",
       "      <th></th>\n",
       "      <th></th>\n",
       "      <th></th>\n",
       "    </tr>\n",
       "  </thead>\n",
       "  <tbody>\n",
       "    <tr>\n",
       "      <th>East</th>\n",
       "      <td>16</td>\n",
       "      <td>20</td>\n",
       "      <td>24</td>\n",
       "    </tr>\n",
       "    <tr>\n",
       "      <th>West</th>\n",
       "      <td>7</td>\n",
       "      <td>15</td>\n",
       "      <td>28</td>\n",
       "    </tr>\n",
       "  </tbody>\n",
       "</table>\n",
       "</div>"
      ],
      "text/plain": [
       "price    high    low    medium \n",
       "Region                         \n",
       " East       16     20        24\n",
       " West        7     15        28"
      ]
     },
     "execution_count": 178,
     "metadata": {},
     "output_type": "execute_result"
    }
   ],
   "source": [
    "#Varied price restaurants across regions\n",
    "restaurant_details.pivot_table(index = 'Region', values = 'placeID', columns = 'price', aggfunc = 'count')"
   ]
  },
  {
   "cell_type": "code",
   "execution_count": 179,
   "id": "2d64c8bd",
   "metadata": {},
   "outputs": [
    {
     "data": {
      "text/html": [
       "<div>\n",
       "<style scoped>\n",
       "    .dataframe tbody tr th:only-of-type {\n",
       "        vertical-align: middle;\n",
       "    }\n",
       "\n",
       "    .dataframe tbody tr th {\n",
       "        vertical-align: top;\n",
       "    }\n",
       "\n",
       "    .dataframe thead th {\n",
       "        text-align: right;\n",
       "    }\n",
       "</style>\n",
       "<table border=\"1\" class=\"dataframe\">\n",
       "  <thead>\n",
       "    <tr style=\"text-align: right;\">\n",
       "      <th></th>\n",
       "      <th>gender</th>\n",
       "      <th>smoker</th>\n",
       "      <th>drink_level</th>\n",
       "      <th>dress_preference</th>\n",
       "      <th>ambience</th>\n",
       "      <th>transport</th>\n",
       "      <th>marital_status</th>\n",
       "      <th>interest</th>\n",
       "      <th>personality</th>\n",
       "      <th>religion</th>\n",
       "      <th>activity</th>\n",
       "      <th>income</th>\n",
       "      <th>FRVPM</th>\n",
       "      <th>AERPM</th>\n",
       "    </tr>\n",
       "  </thead>\n",
       "  <tbody>\n",
       "    <tr>\n",
       "      <th>0</th>\n",
       "      <td>male</td>\n",
       "      <td>False</td>\n",
       "      <td>abstemious</td>\n",
       "      <td>informal</td>\n",
       "      <td>family</td>\n",
       "      <td>on foot</td>\n",
       "      <td>single</td>\n",
       "      <td>variety</td>\n",
       "      <td>thrifty-protector</td>\n",
       "      <td>none</td>\n",
       "      <td>student</td>\n",
       "      <td>medium</td>\n",
       "      <td>12</td>\n",
       "      <td>2976</td>\n",
       "    </tr>\n",
       "    <tr>\n",
       "      <th>1</th>\n",
       "      <td>female</td>\n",
       "      <td>False</td>\n",
       "      <td>abstemious</td>\n",
       "      <td>informal</td>\n",
       "      <td>family</td>\n",
       "      <td>public</td>\n",
       "      <td>single</td>\n",
       "      <td>technology</td>\n",
       "      <td>hunter-ostentatious</td>\n",
       "      <td>Catholic</td>\n",
       "      <td>student</td>\n",
       "      <td>low</td>\n",
       "      <td>12</td>\n",
       "      <td>3648</td>\n",
       "    </tr>\n",
       "    <tr>\n",
       "      <th>2</th>\n",
       "      <td>female</td>\n",
       "      <td>False</td>\n",
       "      <td>social drinker</td>\n",
       "      <td>formal</td>\n",
       "      <td>family</td>\n",
       "      <td>public</td>\n",
       "      <td>single</td>\n",
       "      <td>none</td>\n",
       "      <td>hard-worker</td>\n",
       "      <td>Catholic</td>\n",
       "      <td>student</td>\n",
       "      <td>low</td>\n",
       "      <td>3</td>\n",
       "      <td>1461</td>\n",
       "    </tr>\n",
       "    <tr>\n",
       "      <th>3</th>\n",
       "      <td>male</td>\n",
       "      <td>False</td>\n",
       "      <td>abstemious</td>\n",
       "      <td>informal</td>\n",
       "      <td>family</td>\n",
       "      <td>public</td>\n",
       "      <td>single</td>\n",
       "      <td>variety</td>\n",
       "      <td>hard-worker</td>\n",
       "      <td>none</td>\n",
       "      <td>professional</td>\n",
       "      <td>medium</td>\n",
       "      <td>18</td>\n",
       "      <td>4014</td>\n",
       "    </tr>\n",
       "    <tr>\n",
       "      <th>4</th>\n",
       "      <td>female</td>\n",
       "      <td>False</td>\n",
       "      <td>abstemious</td>\n",
       "      <td>no preference</td>\n",
       "      <td>family</td>\n",
       "      <td>public</td>\n",
       "      <td>single</td>\n",
       "      <td>none</td>\n",
       "      <td>thrifty-protector</td>\n",
       "      <td>Catholic</td>\n",
       "      <td>student</td>\n",
       "      <td>medium</td>\n",
       "      <td>15</td>\n",
       "      <td>3045</td>\n",
       "    </tr>\n",
       "  </tbody>\n",
       "</table>\n",
       "</div>"
      ],
      "text/plain": [
       "   gender smoker     drink_level dress_preference ambience transport  \\\n",
       "0    male  False      abstemious         informal   family   on foot   \n",
       "1  female  False      abstemious         informal   family    public   \n",
       "2  female  False  social drinker           formal   family    public   \n",
       "3    male  False      abstemious         informal   family    public   \n",
       "4  female  False      abstemious    no preference   family    public   \n",
       "\n",
       "  marital_status    interest          personality  religion      activity  \\\n",
       "0         single     variety    thrifty-protector      none       student   \n",
       "1         single  technology  hunter-ostentatious  Catholic       student   \n",
       "2         single        none          hard-worker  Catholic       student   \n",
       "3         single     variety          hard-worker      none  professional   \n",
       "4         single        none    thrifty-protector  Catholic       student   \n",
       "\n",
       "   income  FRVPM  AERPM  \n",
       "0  medium     12   2976  \n",
       "1     low     12   3648  \n",
       "2     low      3   1461  \n",
       "3  medium     18   4014  \n",
       "4  medium     15   3045  "
      ]
     },
     "metadata": {},
     "output_type": "display_data"
    },
    {
     "data": {
      "text/html": [
       "<div>\n",
       "<style scoped>\n",
       "    .dataframe tbody tr th:only-of-type {\n",
       "        vertical-align: middle;\n",
       "    }\n",
       "\n",
       "    .dataframe tbody tr th {\n",
       "        vertical-align: top;\n",
       "    }\n",
       "\n",
       "    .dataframe thead th {\n",
       "        text-align: right;\n",
       "    }\n",
       "</style>\n",
       "<table border=\"1\" class=\"dataframe\">\n",
       "  <thead>\n",
       "    <tr style=\"text-align: right;\">\n",
       "      <th></th>\n",
       "      <th>index</th>\n",
       "      <th>gender</th>\n",
       "      <th>smoker</th>\n",
       "      <th>drink_level</th>\n",
       "      <th>dress_preference</th>\n",
       "      <th>ambience</th>\n",
       "      <th>transport</th>\n",
       "      <th>marital_status</th>\n",
       "      <th>interest</th>\n",
       "      <th>personality</th>\n",
       "      <th>religion</th>\n",
       "      <th>activity</th>\n",
       "      <th>income</th>\n",
       "      <th>FRVPM</th>\n",
       "      <th>AERPM</th>\n",
       "    </tr>\n",
       "  </thead>\n",
       "  <tbody>\n",
       "    <tr>\n",
       "      <th>0</th>\n",
       "      <td>0</td>\n",
       "      <td>male</td>\n",
       "      <td>False</td>\n",
       "      <td>abstemious</td>\n",
       "      <td>informal</td>\n",
       "      <td>family</td>\n",
       "      <td>on foot</td>\n",
       "      <td>single</td>\n",
       "      <td>variety</td>\n",
       "      <td>thrifty-protector</td>\n",
       "      <td>none</td>\n",
       "      <td>student</td>\n",
       "      <td>medium</td>\n",
       "      <td>12</td>\n",
       "      <td>2976</td>\n",
       "    </tr>\n",
       "    <tr>\n",
       "      <th>1</th>\n",
       "      <td>1</td>\n",
       "      <td>female</td>\n",
       "      <td>False</td>\n",
       "      <td>abstemious</td>\n",
       "      <td>informal</td>\n",
       "      <td>family</td>\n",
       "      <td>public</td>\n",
       "      <td>single</td>\n",
       "      <td>technology</td>\n",
       "      <td>hunter-ostentatious</td>\n",
       "      <td>Catholic</td>\n",
       "      <td>student</td>\n",
       "      <td>low</td>\n",
       "      <td>12</td>\n",
       "      <td>3648</td>\n",
       "    </tr>\n",
       "    <tr>\n",
       "      <th>2</th>\n",
       "      <td>2</td>\n",
       "      <td>female</td>\n",
       "      <td>False</td>\n",
       "      <td>social drinker</td>\n",
       "      <td>formal</td>\n",
       "      <td>family</td>\n",
       "      <td>public</td>\n",
       "      <td>single</td>\n",
       "      <td>none</td>\n",
       "      <td>hard-worker</td>\n",
       "      <td>Catholic</td>\n",
       "      <td>student</td>\n",
       "      <td>low</td>\n",
       "      <td>3</td>\n",
       "      <td>1461</td>\n",
       "    </tr>\n",
       "    <tr>\n",
       "      <th>3</th>\n",
       "      <td>3</td>\n",
       "      <td>male</td>\n",
       "      <td>False</td>\n",
       "      <td>abstemious</td>\n",
       "      <td>informal</td>\n",
       "      <td>family</td>\n",
       "      <td>public</td>\n",
       "      <td>single</td>\n",
       "      <td>variety</td>\n",
       "      <td>hard-worker</td>\n",
       "      <td>none</td>\n",
       "      <td>professional</td>\n",
       "      <td>medium</td>\n",
       "      <td>18</td>\n",
       "      <td>4014</td>\n",
       "    </tr>\n",
       "    <tr>\n",
       "      <th>4</th>\n",
       "      <td>4</td>\n",
       "      <td>female</td>\n",
       "      <td>False</td>\n",
       "      <td>abstemious</td>\n",
       "      <td>no preference</td>\n",
       "      <td>family</td>\n",
       "      <td>public</td>\n",
       "      <td>single</td>\n",
       "      <td>none</td>\n",
       "      <td>thrifty-protector</td>\n",
       "      <td>Catholic</td>\n",
       "      <td>student</td>\n",
       "      <td>medium</td>\n",
       "      <td>15</td>\n",
       "      <td>3045</td>\n",
       "    </tr>\n",
       "  </tbody>\n",
       "</table>\n",
       "</div>"
      ],
      "text/plain": [
       "   index  gender smoker     drink_level dress_preference ambience transport  \\\n",
       "0      0    male  False      abstemious         informal   family   on foot   \n",
       "1      1  female  False      abstemious         informal   family    public   \n",
       "2      2  female  False  social drinker           formal   family    public   \n",
       "3      3    male  False      abstemious         informal   family    public   \n",
       "4      4  female  False      abstemious    no preference   family    public   \n",
       "\n",
       "  marital_status    interest          personality  religion      activity  \\\n",
       "0         single     variety    thrifty-protector      none       student   \n",
       "1         single  technology  hunter-ostentatious  Catholic       student   \n",
       "2         single        none          hard-worker  Catholic       student   \n",
       "3         single     variety          hard-worker      none  professional   \n",
       "4         single        none    thrifty-protector  Catholic       student   \n",
       "\n",
       "   income  FRVPM  AERPM  \n",
       "0  medium     12   2976  \n",
       "1     low     12   3648  \n",
       "2     low      3   1461  \n",
       "3  medium     18   4014  \n",
       "4  medium     15   3045  "
      ]
     },
     "metadata": {},
     "output_type": "display_data"
    }
   ],
   "source": [
    "display(consumer_survey.head())\n",
    "\n",
    "#Create a index column in consumer_survey data\n",
    "consumer_survey.reset_index(inplace = True)\n",
    "display(consumer_survey.head())"
   ]
  },
  {
   "cell_type": "code",
   "execution_count": 180,
   "id": "fed85b0e",
   "metadata": {},
   "outputs": [
    {
     "data": {
      "text/html": [
       "<div>\n",
       "<style scoped>\n",
       "    .dataframe tbody tr th:only-of-type {\n",
       "        vertical-align: middle;\n",
       "    }\n",
       "\n",
       "    .dataframe tbody tr th {\n",
       "        vertical-align: top;\n",
       "    }\n",
       "\n",
       "    .dataframe thead th {\n",
       "        text-align: right;\n",
       "    }\n",
       "</style>\n",
       "<table border=\"1\" class=\"dataframe\">\n",
       "  <thead>\n",
       "    <tr style=\"text-align: right;\">\n",
       "      <th>FRVPM</th>\n",
       "      <th>False</th>\n",
       "      <th>True</th>\n",
       "    </tr>\n",
       "    <tr>\n",
       "      <th>income</th>\n",
       "      <th></th>\n",
       "      <th></th>\n",
       "    </tr>\n",
       "  </thead>\n",
       "  <tbody>\n",
       "    <tr>\n",
       "      <th>high</th>\n",
       "      <td>NaN</td>\n",
       "      <td>16.0</td>\n",
       "    </tr>\n",
       "    <tr>\n",
       "      <th>low</th>\n",
       "      <td>20.0</td>\n",
       "      <td>16.0</td>\n",
       "    </tr>\n",
       "    <tr>\n",
       "      <th>medium</th>\n",
       "      <td>18.0</td>\n",
       "      <td>64.0</td>\n",
       "    </tr>\n",
       "  </tbody>\n",
       "</table>\n",
       "</div>"
      ],
      "text/plain": [
       "FRVPM   False  True \n",
       "income              \n",
       "high      NaN   16.0\n",
       "low      20.0   16.0\n",
       "medium   18.0   64.0"
      ]
     },
     "execution_count": 180,
     "metadata": {},
     "output_type": "execute_result"
    }
   ],
   "source": [
    "#Consumers from various income groups who visit restaurants more than 5 times in a month\n",
    "consumer_survey.pivot_table(values = 'index', index = ['income'], columns = consumer_survey.FRVPM>5, aggfunc = 'count')\n",
    "#aggfuncn is count because here we count the no. of customers \n",
    "#who visit restaurants more than 5 times in a month"
   ]
  },
  {
   "cell_type": "code",
   "execution_count": 181,
   "id": "64ef20ae",
   "metadata": {},
   "outputs": [
    {
     "data": {
      "text/html": [
       "<div>\n",
       "<style scoped>\n",
       "    .dataframe tbody tr th:only-of-type {\n",
       "        vertical-align: middle;\n",
       "    }\n",
       "\n",
       "    .dataframe tbody tr th {\n",
       "        vertical-align: top;\n",
       "    }\n",
       "\n",
       "    .dataframe thead th {\n",
       "        text-align: right;\n",
       "    }\n",
       "</style>\n",
       "<table border=\"1\" class=\"dataframe\">\n",
       "  <thead>\n",
       "    <tr style=\"text-align: right;\">\n",
       "      <th></th>\n",
       "      <th>FRVPM</th>\n",
       "      <th>False</th>\n",
       "      <th>True</th>\n",
       "    </tr>\n",
       "    <tr>\n",
       "      <th>gender</th>\n",
       "      <th>income</th>\n",
       "      <th></th>\n",
       "      <th></th>\n",
       "    </tr>\n",
       "  </thead>\n",
       "  <tbody>\n",
       "    <tr>\n",
       "      <th rowspan=\"3\" valign=\"top\">female</th>\n",
       "      <th>high</th>\n",
       "      <td>NaN</td>\n",
       "      <td>4.0</td>\n",
       "    </tr>\n",
       "    <tr>\n",
       "      <th>low</th>\n",
       "      <td>8.0</td>\n",
       "      <td>7.0</td>\n",
       "    </tr>\n",
       "    <tr>\n",
       "      <th>medium</th>\n",
       "      <td>8.0</td>\n",
       "      <td>34.0</td>\n",
       "    </tr>\n",
       "    <tr>\n",
       "      <th rowspan=\"3\" valign=\"top\">male</th>\n",
       "      <th>high</th>\n",
       "      <td>NaN</td>\n",
       "      <td>12.0</td>\n",
       "    </tr>\n",
       "    <tr>\n",
       "      <th>low</th>\n",
       "      <td>12.0</td>\n",
       "      <td>9.0</td>\n",
       "    </tr>\n",
       "    <tr>\n",
       "      <th>medium</th>\n",
       "      <td>10.0</td>\n",
       "      <td>30.0</td>\n",
       "    </tr>\n",
       "  </tbody>\n",
       "</table>\n",
       "</div>"
      ],
      "text/plain": [
       "FRVPM          False  True \n",
       "gender income              \n",
       "female high      NaN    4.0\n",
       "       low       8.0    7.0\n",
       "       medium    8.0   34.0\n",
       "male   high      NaN   12.0\n",
       "       low      12.0    9.0\n",
       "       medium   10.0   30.0"
      ]
     },
     "execution_count": 181,
     "metadata": {},
     "output_type": "execute_result"
    }
   ],
   "source": [
    "#Gender wise consumers from various income groups who visit restaurants more than 5 times in a month\n",
    "consumer_survey.pivot_table(values = 'index', index = ['gender', 'income'], columns = consumer_survey.FRVPM>5, aggfunc = 'count')\n",
    "#adding gender attribute to the index"
   ]
  },
  {
   "cell_type": "markdown",
   "id": "dd49c24f",
   "metadata": {},
   "source": [
    "Exploring relationship among quantitative attributes"
   ]
  },
  {
   "cell_type": "code",
   "execution_count": 182,
   "id": "e3a19ca9",
   "metadata": {},
   "outputs": [
    {
     "data": {
      "text/html": [
       "<div>\n",
       "<style scoped>\n",
       "    .dataframe tbody tr th:only-of-type {\n",
       "        vertical-align: middle;\n",
       "    }\n",
       "\n",
       "    .dataframe tbody tr th {\n",
       "        vertical-align: top;\n",
       "    }\n",
       "\n",
       "    .dataframe thead th {\n",
       "        text-align: right;\n",
       "    }\n",
       "</style>\n",
       "<table border=\"1\" class=\"dataframe\">\n",
       "  <thead>\n",
       "    <tr style=\"text-align: right;\">\n",
       "      <th></th>\n",
       "      <th>Year</th>\n",
       "      <th>Dine_In</th>\n",
       "      <th>Home_Delivery</th>\n",
       "    </tr>\n",
       "  </thead>\n",
       "  <tbody>\n",
       "    <tr>\n",
       "      <th>0</th>\n",
       "      <td>1990</td>\n",
       "      <td>5649</td>\n",
       "      <td>0</td>\n",
       "    </tr>\n",
       "    <tr>\n",
       "      <th>1</th>\n",
       "      <td>1991</td>\n",
       "      <td>5539</td>\n",
       "      <td>0</td>\n",
       "    </tr>\n",
       "    <tr>\n",
       "      <th>2</th>\n",
       "      <td>1992</td>\n",
       "      <td>5760</td>\n",
       "      <td>104</td>\n",
       "    </tr>\n",
       "    <tr>\n",
       "      <th>3</th>\n",
       "      <td>1993</td>\n",
       "      <td>6509</td>\n",
       "      <td>76</td>\n",
       "    </tr>\n",
       "    <tr>\n",
       "      <th>4</th>\n",
       "      <td>1994</td>\n",
       "      <td>6982</td>\n",
       "      <td>156</td>\n",
       "    </tr>\n",
       "  </tbody>\n",
       "</table>\n",
       "</div>"
      ],
      "text/plain": [
       "   Year  Dine_In  Home_Delivery\n",
       "0  1990     5649              0\n",
       "1  1991     5539              0\n",
       "2  1992     5760            104\n",
       "3  1993     6509             76\n",
       "4  1994     6982            156"
      ]
     },
     "execution_count": 182,
     "metadata": {},
     "output_type": "execute_result"
    }
   ],
   "source": [
    "dining_preferences.head()"
   ]
  },
  {
   "cell_type": "code",
   "execution_count": 183,
   "id": "7a8969c4",
   "metadata": {},
   "outputs": [
    {
     "data": {
      "image/png": "[encoded data removed]",
      "text/plain": [
       "<Figure size 640x480 with 1 Axes>"
      ]
     },
     "metadata": {},
     "output_type": "display_data"
    }
   ],
   "source": [
    "#for observing trends\n",
    "sns.scatterplot(x = 'Year', y = 'Dine_In', data = dining_preferences, color = 'red', label = 'Dine_In')\n",
    "sns.scatterplot(x = 'Year', y = 'Home_Delivery', data = dining_preferences, color = 'blue', label = 'Home_Delivery')\n",
    "plt.legend()\n",
    "plt.xlabel('Year')\n",
    "plt.ylabel('No. of consumers')\n",
    "plt.title('Dine_In vs. Home_Delivery from 1990 to 2016')\n",
    "plt.show()"
   ]
  },
  {
   "cell_type": "code",
   "execution_count": null,
   "id": "a08a5437",
   "metadata": {},
   "outputs": [],
   "source": [
    "#we can observe that from 2010 to 2015 dine-in ~ home-delivery"
   ]
  },
  {
   "cell_type": "code",
   "execution_count": 184,
   "id": "d36609d5",
   "metadata": {},
   "outputs": [
    {
     "data": {
      "text/html": [
       "<div>\n",
       "<style scoped>\n",
       "    .dataframe tbody tr th:only-of-type {\n",
       "        vertical-align: middle;\n",
       "    }\n",
       "\n",
       "    .dataframe tbody tr th {\n",
       "        vertical-align: top;\n",
       "    }\n",
       "\n",
       "    .dataframe thead th {\n",
       "        text-align: right;\n",
       "    }\n",
       "</style>\n",
       "<table border=\"1\" class=\"dataframe\">\n",
       "  <thead>\n",
       "    <tr style=\"text-align: right;\">\n",
       "      <th></th>\n",
       "      <th>Day</th>\n",
       "      <th>TicketNo.</th>\n",
       "      <th>Assignee</th>\n",
       "      <th>Status</th>\n",
       "    </tr>\n",
       "  </thead>\n",
       "  <tbody>\n",
       "    <tr>\n",
       "      <th>0</th>\n",
       "      <td>Day1</td>\n",
       "      <td>T1</td>\n",
       "      <td>Bob</td>\n",
       "      <td>Pending</td>\n",
       "    </tr>\n",
       "    <tr>\n",
       "      <th>1</th>\n",
       "      <td>Day1</td>\n",
       "      <td>T2</td>\n",
       "      <td>John</td>\n",
       "      <td>Pending</td>\n",
       "    </tr>\n",
       "    <tr>\n",
       "      <th>2</th>\n",
       "      <td>Day1</td>\n",
       "      <td>T3</td>\n",
       "      <td>Bob</td>\n",
       "      <td>Resolved</td>\n",
       "    </tr>\n",
       "    <tr>\n",
       "      <th>3</th>\n",
       "      <td>Day1</td>\n",
       "      <td>T4</td>\n",
       "      <td>Bob</td>\n",
       "      <td>Pending</td>\n",
       "    </tr>\n",
       "    <tr>\n",
       "      <th>4</th>\n",
       "      <td>Day1</td>\n",
       "      <td>T5</td>\n",
       "      <td>Bob</td>\n",
       "      <td>Pending</td>\n",
       "    </tr>\n",
       "    <tr>\n",
       "      <th>5</th>\n",
       "      <td>Day2</td>\n",
       "      <td>T1</td>\n",
       "      <td>John</td>\n",
       "      <td>Resolved</td>\n",
       "    </tr>\n",
       "    <tr>\n",
       "      <th>6</th>\n",
       "      <td>Day2</td>\n",
       "      <td>T2</td>\n",
       "      <td>John</td>\n",
       "      <td>Resolved</td>\n",
       "    </tr>\n",
       "    <tr>\n",
       "      <th>7</th>\n",
       "      <td>Day2</td>\n",
       "      <td>T3</td>\n",
       "      <td>Bob</td>\n",
       "      <td>Resolved</td>\n",
       "    </tr>\n",
       "    <tr>\n",
       "      <th>8</th>\n",
       "      <td>Day2</td>\n",
       "      <td>T4</td>\n",
       "      <td>John</td>\n",
       "      <td>Pending</td>\n",
       "    </tr>\n",
       "    <tr>\n",
       "      <th>9</th>\n",
       "      <td>Day2</td>\n",
       "      <td>T5</td>\n",
       "      <td>John</td>\n",
       "      <td>Resolved</td>\n",
       "    </tr>\n",
       "  </tbody>\n",
       "</table>\n",
       "</div>"
      ],
      "text/plain": [
       "    Day TicketNo. Assignee    Status\n",
       "0  Day1        T1      Bob   Pending\n",
       "1  Day1        T2     John   Pending\n",
       "2  Day1        T3      Bob  Resolved\n",
       "3  Day1        T4      Bob   Pending\n",
       "4  Day1        T5      Bob   Pending\n",
       "5  Day2        T1     John  Resolved\n",
       "6  Day2        T2     John  Resolved\n",
       "7  Day2        T3      Bob  Resolved\n",
       "8  Day2        T4     John   Pending\n",
       "9  Day2        T5     John  Resolved"
      ]
     },
     "execution_count": 184,
     "metadata": {},
     "output_type": "execute_result"
    }
   ],
   "source": [
    "#Simpson's paradox\n",
    "df = pd.DataFrame([[\"Day1\",\"T1\",\"Bob\",\"Pending\"], \n",
    "                   [\"Day1\",\"T2\",\"John\",\"Pending\"],\n",
    "                   [\"Day1\",\"T3\",\"Bob\",\"Resolved\"],\n",
    "                   [\"Day1\",\"T4\",\"Bob\",\"Pending\"],\n",
    "                   [\"Day1\",\"T5\",\"Bob\",\"Pending\"],\n",
    "                   [\"Day2\",\"T1\",\"John\",\"Resolved\"],\n",
    "                   [\"Day2\",\"T2\",\"John\",\"Resolved\"],\n",
    "                   [\"Day2\",\"T3\",\"Bob\",\"Resolved\"],\n",
    "                   [\"Day2\",\"T4\",\"John\",\"Pending\"],\n",
    "                   [\"Day2\",\"T5\",\"John\",\"Resolved\"]],\n",
    "                   columns = ['Day', 'TicketNo.','Assignee','Status'])\n",
    "df"
   ]
  },
  {
   "cell_type": "code",
   "execution_count": 185,
   "id": "81ee5b88",
   "metadata": {},
   "outputs": [
    {
     "data": {
      "text/html": [
       "<div>\n",
       "<style scoped>\n",
       "    .dataframe tbody tr th:only-of-type {\n",
       "        vertical-align: middle;\n",
       "    }\n",
       "\n",
       "    .dataframe tbody tr th {\n",
       "        vertical-align: top;\n",
       "    }\n",
       "\n",
       "    .dataframe thead th {\n",
       "        text-align: right;\n",
       "    }\n",
       "</style>\n",
       "<table border=\"1\" class=\"dataframe\">\n",
       "  <thead>\n",
       "    <tr style=\"text-align: right;\">\n",
       "      <th></th>\n",
       "      <th>Pending</th>\n",
       "      <th>Resolved</th>\n",
       "    </tr>\n",
       "    <tr>\n",
       "      <th>Assignee</th>\n",
       "      <th></th>\n",
       "      <th></th>\n",
       "    </tr>\n",
       "  </thead>\n",
       "  <tbody>\n",
       "    <tr>\n",
       "      <th>Bob</th>\n",
       "      <td>3</td>\n",
       "      <td>2</td>\n",
       "    </tr>\n",
       "    <tr>\n",
       "      <th>John</th>\n",
       "      <td>2</td>\n",
       "      <td>3</td>\n",
       "    </tr>\n",
       "  </tbody>\n",
       "</table>\n",
       "</div>"
      ],
      "text/plain": [
       "          Pending  Resolved\n",
       "Assignee                   \n",
       "Bob             3         2\n",
       "John            2         3"
      ]
     },
     "execution_count": 185,
     "metadata": {},
     "output_type": "execute_result"
    }
   ],
   "source": [
    "pd.crosstab(index = df[\"Assignee\"],  columns=df[\"Status\"], colnames = [''])"
   ]
  },
  {
   "cell_type": "code",
   "execution_count": 186,
   "id": "e5c1a810",
   "metadata": {},
   "outputs": [
    {
     "data": {
      "text/html": [
       "<div>\n",
       "<style scoped>\n",
       "    .dataframe tbody tr th:only-of-type {\n",
       "        vertical-align: middle;\n",
       "    }\n",
       "\n",
       "    .dataframe tbody tr th {\n",
       "        vertical-align: top;\n",
       "    }\n",
       "\n",
       "    .dataframe thead tr th {\n",
       "        text-align: left;\n",
       "    }\n",
       "\n",
       "    .dataframe thead tr:last-of-type th {\n",
       "        text-align: right;\n",
       "    }\n",
       "</style>\n",
       "<table border=\"1\" class=\"dataframe\">\n",
       "  <thead>\n",
       "    <tr>\n",
       "      <th>Day</th>\n",
       "      <th colspan=\"2\" halign=\"left\">Day1</th>\n",
       "      <th colspan=\"2\" halign=\"left\">Day2</th>\n",
       "    </tr>\n",
       "    <tr>\n",
       "      <th>Status</th>\n",
       "      <th>Pending</th>\n",
       "      <th>Resolved</th>\n",
       "      <th>Pending</th>\n",
       "      <th>Resolved</th>\n",
       "    </tr>\n",
       "    <tr>\n",
       "      <th>Assignee</th>\n",
       "      <th></th>\n",
       "      <th></th>\n",
       "      <th></th>\n",
       "      <th></th>\n",
       "    </tr>\n",
       "  </thead>\n",
       "  <tbody>\n",
       "    <tr>\n",
       "      <th>Bob</th>\n",
       "      <td>3</td>\n",
       "      <td>1</td>\n",
       "      <td>0</td>\n",
       "      <td>1</td>\n",
       "    </tr>\n",
       "    <tr>\n",
       "      <th>John</th>\n",
       "      <td>1</td>\n",
       "      <td>0</td>\n",
       "      <td>1</td>\n",
       "      <td>3</td>\n",
       "    </tr>\n",
       "  </tbody>\n",
       "</table>\n",
       "</div>"
      ],
      "text/plain": [
       "Day         Day1             Day2         \n",
       "Status   Pending Resolved Pending Resolved\n",
       "Assignee                                  \n",
       "Bob            3        1       0        1\n",
       "John           1        0       1        3"
      ]
     },
     "execution_count": 186,
     "metadata": {},
     "output_type": "execute_result"
    }
   ],
   "source": [
    "pd.crosstab(index = df[\"Assignee\"],  columns=[df[\"Day\"],df[\"Status\"]])"
   ]
  },
  {
   "cell_type": "code",
   "execution_count": 187,
   "id": "70562045",
   "metadata": {},
   "outputs": [
    {
     "data": {
      "text/html": [
       "<div>\n",
       "<style scoped>\n",
       "    .dataframe tbody tr th:only-of-type {\n",
       "        vertical-align: middle;\n",
       "    }\n",
       "\n",
       "    .dataframe tbody tr th {\n",
       "        vertical-align: top;\n",
       "    }\n",
       "\n",
       "    .dataframe thead th {\n",
       "        text-align: right;\n",
       "    }\n",
       "</style>\n",
       "<table border=\"1\" class=\"dataframe\">\n",
       "  <thead>\n",
       "    <tr style=\"text-align: right;\">\n",
       "      <th></th>\n",
       "      <th>Status</th>\n",
       "      <th>Pending</th>\n",
       "      <th>Resolved</th>\n",
       "    </tr>\n",
       "    <tr>\n",
       "      <th>Day</th>\n",
       "      <th>Assignee</th>\n",
       "      <th></th>\n",
       "      <th></th>\n",
       "    </tr>\n",
       "  </thead>\n",
       "  <tbody>\n",
       "    <tr>\n",
       "      <th rowspan=\"2\" valign=\"top\">Day1</th>\n",
       "      <th>Bob</th>\n",
       "      <td>3</td>\n",
       "      <td>1</td>\n",
       "    </tr>\n",
       "    <tr>\n",
       "      <th>John</th>\n",
       "      <td>1</td>\n",
       "      <td>0</td>\n",
       "    </tr>\n",
       "    <tr>\n",
       "      <th rowspan=\"2\" valign=\"top\">Day2</th>\n",
       "      <th>Bob</th>\n",
       "      <td>0</td>\n",
       "      <td>1</td>\n",
       "    </tr>\n",
       "    <tr>\n",
       "      <th>John</th>\n",
       "      <td>1</td>\n",
       "      <td>3</td>\n",
       "    </tr>\n",
       "  </tbody>\n",
       "</table>\n",
       "</div>"
      ],
      "text/plain": [
       "Status         Pending  Resolved\n",
       "Day  Assignee                   \n",
       "Day1 Bob             3         1\n",
       "     John            1         0\n",
       "Day2 Bob             0         1\n",
       "     John            1         3"
      ]
     },
     "execution_count": 187,
     "metadata": {},
     "output_type": "execute_result"
    }
   ],
   "source": [
    "pd.crosstab(index = [df.Day,df.Assignee],  columns=df.Status)"
   ]
  },
  {
   "cell_type": "markdown",
   "id": "f66e25c1",
   "metadata": {},
   "source": [
    "#histogram doesn't take multiple features\n",
    "#categorical features can be plotted with scatterplot\n",
    "#pie chart can be used if grouping is available\n",
    "#Every pandas dataframe has a plot.box() method \n",
    "which can be used to make box plots for each column in the dataframe"
   ]
  },
  {
   "cell_type": "code",
   "execution_count": null,
   "id": "f7c5e3b7",
   "metadata": {},
   "outputs": [],
   "source": []
  }
 ],
 "metadata": {
  "kernelspec": {
   "display_name": "Python 3 (ipykernel)",
   "language": "python",
   "name": "python3"
  },
  "language_info": {
   "codemirror_mode": {
    "name": "ipython",
    "version": 3
   },
   "file_extension": ".py",
   "mimetype": "text/x-python",
   "name": "python",
   "nbconvert_exporter": "python",
   "pygments_lexer": "ipython3",
   "version": "3.10.7"
  }
 },
 "nbformat": 4,
 "nbformat_minor": 5
}
